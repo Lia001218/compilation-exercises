{
 "cells": [
  {
   "cell_type": "markdown",
   "metadata": {},
   "source": [
    "# Clase Práctica #10 (Compilación)"
   ]
  },
  {
   "cell_type": "markdown",
   "metadata": {},
   "source": [
    "En esta clase estaremos implementando un **generador de parsers SLR(1)**. Nos apoyaremos en la API de lenguajes que llevamos implementando desde el semestre anterior.\n",
    "\n",
    "Comencemos por importar la clase `Grammar`."
   ]
  },
  {
   "cell_type": "code",
   "execution_count": 40,
   "metadata": {},
   "outputs": [],
   "source": [
    "from cmp.pycompiler import Grammar"
   ]
  },
  {
   "cell_type": "markdown",
   "metadata": {},
   "source": [
    "Como de costumbre trabajaremos sobre un lenguaje de expresiones aritméticas básicas. Sin embargo, esta vez podemos finalmente usar la gramática natural de expresiones puesto que, como estudiamos en conferencia, los parser SLR(1) a diferencia de los LL(1) no son susceptibles a la presencia de recursión izquierda ni de prefijos comunes. Esto posibilita que la asociatividad a la izquierda de muchos de los operadores pueda ser representado sin problema."
   ]
  },
  {
   "cell_type": "code",
   "execution_count": 41,
   "metadata": {},
   "outputs": [
    {
     "name": "stdout",
     "output_type": "stream",
     "text": [
      "Non-Terminals:\n",
      "\tE, T, F\n",
      "Terminals:\n",
      "\t+, -, *, /, (, ), int\n",
      "Productions:\n",
      "\t[E -> E + T, E -> T, T -> T * F, T -> F, F -> int, F -> ( E )]\n"
     ]
    }
   ],
   "source": [
    "G = Grammar()\n",
    "E = G.NonTerminal('E', True)\n",
    "T,F = G.NonTerminals('T F')\n",
    "plus, minus, star, div, opar, cpar, num = G.Terminals('+ - * / ( ) int')\n",
    "\n",
    "E %= E + plus + T | T # | E + minus + T \n",
    "T %= T + star + F | F # | T + div + F\n",
    "F %= num | opar + E + cpar\n",
    "\n",
    "print(G)"
   ]
  },
  {
   "cell_type": "markdown",
   "metadata": {},
   "source": [
    "## Items\n",
    "\n",
    "Se provee una implementación de la clase `Item` para modelar los Items LR(0)."
   ]
  },
  {
   "cell_type": "code",
   "execution_count": 42,
   "metadata": {},
   "outputs": [],
   "source": [
    "from cmp.pycompiler import Item"
   ]
  },
  {
   "cell_type": "markdown",
   "metadata": {},
   "source": [
    "Los items se construyen a partir de una producción."
   ]
  },
  {
   "cell_type": "code",
   "execution_count": 43,
   "metadata": {},
   "outputs": [
    {
     "name": "stdout",
     "output_type": "stream",
     "text": [
      "Posibles items de E -> E + T\n",
      "---------------------------------\n",
      "item: E -> .E+T, \n",
      "item.pos: 0\n",
      "item.IsReduceItem: False\n",
      "item.NextSymbol: E\n",
      "item.NextItem(): E -> E.+T, \n",
      "---------------------------------\n",
      "item: E -> E.+T, \n",
      "item.pos: 1\n",
      "item.IsReduceItem: False\n",
      "item.NextSymbol: +\n",
      "item.NextItem(): E -> E+.T, \n",
      "---------------------------------\n",
      "item: E -> E+.T, \n",
      "item.pos: 2\n",
      "item.IsReduceItem: False\n",
      "item.NextSymbol: T\n",
      "item.NextItem(): E -> E+T., \n",
      "---------------------------------\n",
      "item: E -> E+T., \n",
      "item.pos: 3\n",
      "item.IsReduceItem: True\n",
      "item.NextSymbol: None\n",
      "item.NextItem(): None\n"
     ]
    }
   ],
   "source": [
    "prod = E.productions[0]\n",
    "print('Posibles items de',repr(prod))\n",
    "\n",
    "for x in range(len(prod.Right)+1):\n",
    "    item = Item(prod, x)\n",
    "    print('---------------------------------')\n",
    "    print('item:', item)\n",
    "    print('item.pos:', item.pos)\n",
    "    print('item.IsReduceItem:', item.IsReduceItem)\n",
    "    print('item.NextSymbol:', item.NextSymbol)\n",
    "    print('item.NextItem():', item.NextItem())"
   ]
  },
  {
   "cell_type": "markdown",
   "metadata": {},
   "source": [
    "## Autómata LR(0)\n",
    "\n",
    "Usaremos la implementación por referencia de autómata. Recordemos que bajo esta representación, los estados están conectados por referencias y el autómata resulta de seleccionar uno de ellos como raíz y expandir el grafo a partir de él."
   ]
  },
  {
   "cell_type": "code",
   "execution_count": 44,
   "metadata": {},
   "outputs": [],
   "source": [
    "from cmp.automata import State, lr0_formatter"
   ]
  },
  {
   "cell_type": "markdown",
   "metadata": {},
   "source": [
    "La API de gramáticas provee la función `AugmentedGrammar` que construye una nueva gramática a partir de aumentar otra. Los símbolos y producciones de la gramática original se mantienen con las mismas referencias. Si el símbolo distinguido de la gramática a aumentar nunca aparece en parte derecha se devuelve la propia gramática. Es posible forzar el aumento de la gramática al incluir el argumento `force=True` al llamar a la función."
   ]
  },
  {
   "cell_type": "code",
   "execution_count": 45,
   "metadata": {},
   "outputs": [
    {
     "data": {
      "text/plain": [
       "S' -> E"
      ]
     },
     "execution_count": 45,
     "metadata": {},
     "output_type": "execute_result"
    }
   ],
   "source": [
    "GG = G.AugmentedGrammar()\n",
    "\n",
    "assert len(GG.startSymbol.productions) == 1\n",
    "start_production = GG.startSymbol.productions[0]\n",
    "start_production"
   ]
  },
  {
   "cell_type": "code",
   "execution_count": 46,
   "metadata": {},
   "outputs": [
    {
     "data": {
      "text/plain": [
       "S' -> .E, "
      ]
     },
     "execution_count": 46,
     "metadata": {},
     "output_type": "execute_result"
    }
   ],
   "source": [
    "start_item = Item(start_production, 0)\n",
    "start_item"
   ]
  },
  {
   "cell_type": "markdown",
   "metadata": {},
   "source": [
    "### Construcción del autómata LR(0)\n",
    "\n",
    "Implementemos el algoritmo para construir la versión no determinista del autómata LR(0). Recordemos de conferencia que:\n",
    "- Cada item representa un estado.\n",
    "- El estado inicial es representado por el item $S' \\to .S$\n",
    "- Todos los estados son finales: _Todo prefijo de un prefijo viable es un prefijo viable_.\n",
    "    - Una cadena no es un prefijo viable si el autómata se traba.\n",
    "- Función de transición:\n",
    "    - $(X \\to \\alpha . c \\beta) \\longrightarrow^{c} (X \\to \\alpha c . \\beta)$, con $c \\in V_T$\n",
    "    - $(X \\to \\alpha . Y \\beta) \\longrightarrow^{Y} (X \\to \\alpha Y . \\beta)$, con $Y \\in V_N$\n",
    "    - $(X \\to \\alpha . Y \\beta) \\longrightarrow^{\\epsilon} (Y \\to .\\delta)$, con $Y \\in V_N$"
   ]
  },
  {
   "cell_type": "code",
   "execution_count": 47,
   "metadata": {},
   "outputs": [],
   "source": [
    "# NOTA: use symbol.Name al hacer las transiciones, no directamente symbol.\n",
    "def build_LR0_automaton(G):\n",
    "    assert len(G.startSymbol.productions) == 1, 'Grammar must be augmented'\n",
    "\n",
    "    start_production = G.startSymbol.productions[0]\n",
    "    start_item = Item(start_production, 0)\n",
    "\n",
    "    automaton = State(start_item, True)\n",
    "\n",
    "    pending = [ start_item ]\n",
    "    visited = { start_item: automaton }\n",
    "\n",
    "    while pending:\n",
    "        \n",
    "        current_item = pending.pop()\n",
    "        if current_item.IsReduceItem:\n",
    "            continue\n",
    "        \n",
    "        next_symbol = current_item.NextSymbol\n",
    "        transitions = {}\n",
    "        epsilon_transitions = set()\n",
    "        \n",
    "        # Your code here!!! (Decide which transitions to add)\n",
    "        \n",
    "        if current_item.NextSymbol.IsNonTerminal:\n",
    "            for prod in next_symbol.productions:\n",
    "                item = Item(prod, 0)\n",
    "                if item not in visited:\n",
    "                    visited[item] = State(item, True)\n",
    "                    pending.append(item)\n",
    "                # '' denota epsilon-transicion\n",
    "                epsilon_transitions.add(visited[item])\n",
    "            # print('pending :',pending)\n",
    "            next_item = current_item.NextItem()\n",
    "            state = State(next_item, True)\n",
    "            transitions[str(next_symbol)] = state\n",
    "            if next_item not in visited:\n",
    "                visited[next_item] = state\n",
    "                pending.append(next_item)\n",
    "        \n",
    "        else:\n",
    "            item = current_item.NextItem()\n",
    "            state = State(item, True)\n",
    "            if item not in visited:\n",
    "                visited[item] = state\n",
    "                pending.append(item)\n",
    "            transitions[str(next_symbol)] = state\n",
    "        \n",
    "        # print(\"current_state\", visited[current_item])\n",
    "        # print(\"transitions\", transitions)\n",
    "        # print('epsilon_trans', epsilon_transitions)\n",
    "\n",
    "        # Your code here!!! (Add the decided transitions)\n",
    "        for x in transitions:\n",
    "            visited[current_item].add_transition(x, transitions[x])\n",
    "        \n",
    "        for x in epsilon_transitions:\n",
    "            visited[current_item].epsilon_transitions.add(x)\n",
    "    \n",
    "    return automaton"
   ]
  },
  {
   "cell_type": "markdown",
   "metadata": {},
   "source": [
    "Al correr el algoritmo debemos obtener la versión no determinista del autómata. Recordemos que este autómata reconoce el lenguaje de los prefijos viables de una gramática: cadenas que pueden ocurrir en la pila durante el parseo de una cadena válida."
   ]
  },
  {
   "cell_type": "code",
   "execution_count": 48,
   "metadata": {},
   "outputs": [
    {
     "name": "stdout",
     "output_type": "stream",
     "text": [
      "None\n"
     ]
    },
    {
     "data": {
      "text/plain": [
       "None"
      ]
     },
     "metadata": {},
     "output_type": "display_data"
    }
   ],
   "source": [
    "automaton = build_LR0_automaton(GG)\n",
    "print(automaton._repr_svg_())\n",
    "\n",
    "assert automaton.recognize('E')\n",
    "assert automaton.recognize('T*F')\n",
    "assert automaton.recognize(['E', '+', 'int'])\n",
    "assert not automaton.recognize('E*F')\n",
    "\n",
    "automaton.set_formatter(lr0_formatter)\n",
    "display(automaton._repr_svg_())"
   ]
  },
  {
   "cell_type": "markdown",
   "metadata": {},
   "source": [
    "Para construir la versión determinista del autómata LR(0) simplemente aplicaremos el método `to_deterministic` que implementamos en clases anteriores. En conferencia estudiamos que es posible construir el autómata determinista directamente a partir de calcular la **Colección Canónica de Items LR(0)**. Esta variante queda propuesta a implementar como estudio individual."
   ]
  },
  {
   "cell_type": "code",
   "execution_count": 49,
   "metadata": {},
   "outputs": [
    {
     "data": {
      "text/plain": [
       "(T -> .F, , F -> .int, , E -> .E+T, , S' -> .E, , F -> .(E), , E -> .T, , T -> .T*F, )"
      ]
     },
     "execution_count": 49,
     "metadata": {},
     "output_type": "execute_result"
    }
   ],
   "source": [
    "automaton.to_deterministic(lr0_formatter)"
   ]
  },
  {
   "cell_type": "markdown",
   "metadata": {},
   "source": [
    "## Parsers Shift-Reduce\n",
    "\n",
    "Un parser *shift-reduce* es un mecanismo de parsing que cuenta con las siguientes estructuras:\n",
    "\n",
    "- Una pila de símbolos `S`.\n",
    "- Una secuencia de terminales `T`.\n",
    "\n",
    "> Denotamos el estado del parser como $\\alpha|\\omega$, con $S = \\alpha$ y $T = \\omega$.\n",
    "\n",
    "Y las operaciones siguientes:\n",
    "\n",
    "- **shift**: Si el parser se encuentra en un estado $\\alpha | c \\omega$, entonces tras aplicar una operación _shift_ pasa al estado $\\alpha c | \\omega$.\n",
    "- **reduce**: Si el parser se encuentra en un estado $\\alpha \\beta | \\omega$, y $X \\rightarrow \\beta$ es una producción, entonces tras aplicar una operación _reduce_ $T \\rightarrow \\beta$ pasa al estado $\\alpha X | \\omega$.\n",
    "\n",
    "Podemos definir entonces el proceso de parsing como:\n",
    "\n",
    "> Sea $S = \\emptyset$ la pila inicial, $T = \\omega \\$$ la cadena a reconocer, y $E$ el símbolo inicial, un parser shift-reduce reconoce esta cadena si y solo si existe una secuencia de operaciones **shift** y **reduce** tal que tras aplicarlas se obtiene $S = E$ y $T = \\$$.\n",
    "\n",
    "Todos los algoritmos de parsing que estudiaremos en este semestre están basados en esta arquitectura. La diferencia entre ellos radica justamente en la forma en que deciden entre hacer _shift_ o _reduce_.\n",
    "\n",
    "Para implementarlos, nos apoyaremos en una representación uniforme: tabla **Acción-Goto**, la cual sigue la siguiente estructura:\n",
    "\n",
    "\n",
    "          ________ _______________________ ___________\n",
    "         |________|_________ACTION________|___GOTO____|\n",
    "         | Estado | +   *   (   )  int  $ | E   T   F |\n",
    "         |--------|--- --- --- --- --- ---|--- --- ---|\n",
    "         |   ...  |          ...          |    ...    |\n",
    "         |________|_______________________|___________|\n",
    "\n",
    "donde para todo $I_i$ estado de la Colección Canónica, $c \\in V_T \\cup \\{ \\$ \\}$ y $X,Y \\in V_N$.\n",
    "\n",
    "- $ACTION[I_i, c] \\in \\{ `S_k`, `R_k`, `OK` \\}$\n",
    "- $GOTO[I_i, Y] \\in \\{ 1...N \\}$\n"
   ]
  },
  {
   "cell_type": "code",
   "execution_count": 50,
   "metadata": {},
   "outputs": [],
   "source": [
    "class ShiftReduceParser:\n",
    "    SHIFT = 'SHIFT'\n",
    "    REDUCE = 'REDUCE'\n",
    "    OK = 'OK'\n",
    "    \n",
    "    def __init__(self, G, verbose=False):\n",
    "        self.G = G\n",
    "        self.verbose = verbose\n",
    "        self.action = {}\n",
    "        self.goto = {}\n",
    "        self._build_parsing_table()\n",
    "    \n",
    "    def _build_parsing_table(self):\n",
    "        raise NotImplementedError()\n",
    "\n",
    "    def __call__(self, w, get_shift_reduce=False):\n",
    "        stack = [ 0 ]\n",
    "        cursor = 0\n",
    "        output = []\n",
    "        operations = []\n",
    "        while True:\n",
    "            state = stack[-1]\n",
    "            lookahead = w[cursor]\n",
    "            if self.verbose: print(stack, '<---||--->', w[cursor:])\n",
    "            \n",
    "            if(state,lookahead) not in self.action:\n",
    "                print((state,lookahead))\n",
    "                print(self.action)\n",
    "                print(\"Error. Aborting...\")\n",
    "                return None\n",
    "            \n",
    "            print('state, lookahead', state, lookahead)\n",
    "            print(self.action)\n",
    "            if self.action[state, lookahead] == self.OK:\n",
    "                action = self.OK\n",
    "            else:\n",
    "                action, tag = self.action[state, lookahead]\n",
    "            print('action, tsg', action)\n",
    "            if action==self.SHIFT:\n",
    "                operations.append(self.SHIFT)\n",
    "                stack+=[lookahead,tag]\n",
    "                cursor+=1\n",
    "            elif action==self.REDUCE:    \n",
    "                operations.append(self.REDUCE)\n",
    "                output.append(tag)\n",
    "                print('tag', tag)\n",
    "                head,body=tag    \n",
    "                for symbol in reversed(body):\n",
    "                    print('stack', stack)\n",
    "                    stack.pop()    \n",
    "                    \n",
    "                    assert stack.pop()==symbol\n",
    "                    state=stack[-1]\n",
    "                    print(self.goto,'goto')\n",
    "                    print('output', output)\n",
    "                goto=self.goto[state,head]\n",
    "                stack+=[head,goto]\n",
    "            elif action==self.OK:\n",
    "                stack.pop()\n",
    "                assert stack.pop()==self.G.startSymbol\n",
    "                assert len(stack)==1    \n",
    "                return output if not get_shift_reduce else(output,operations)\n",
    "            else:    \n",
    "                raise Exception('Invalid action!!!')\n",
    "            \n"
   ]
  },
  {
   "cell_type": "markdown",
   "metadata": {},
   "source": [
    "### Cómo llena la tabla un parser SLR(1)?\n",
    "\n",
    "- **Sea** $X \\to \\alpha .c \\omega$ un item del estado $I_i$ y $Goto(I_i,c) = I_j$. **Entonces** $ACTION[I_i,c] = `S_j`$.\n",
    "\n",
    "- **Sea** $X \\to \\alpha .$ un item del estado $I_i$ y $c \\in FOLLOW(X)$. **Entonces** $ACTION[I_i,c] = `R_k`$ (producción `k` es $X \\to \\alpha$).\n",
    "\n",
    "- **Sea** $I_i$ el estado que contiene el item $S' \\to S.$ ($S'$ distinguido). **Entonces** $ACTION[I_i,\\$] = `OK`$.\n",
    "\n",
    "- **Sea** $X \\to \\alpha .Y \\omega$ item del estado $I_i$ y $Goto(I_i,Y) = I_j$. **Entonces** $GOTO[I_i,Y] = j$."
   ]
  },
  {
   "cell_type": "code",
   "execution_count": 51,
   "metadata": {},
   "outputs": [],
   "source": [
    "from cmp.tools.parsing import compute_firsts, compute_follows\n",
    "\n",
    "class SLR1Parser(ShiftReduceParser):\n",
    "\n",
    "    def _build_parsing_table(self):\n",
    "        G = self.G.AugmentedGrammar(True)\n",
    "        firsts = compute_firsts(G)\n",
    "        follows = compute_follows(G, firsts)\n",
    "        # print('first:', firsts)\n",
    "        # print('follow:', follows)\n",
    "        automaton = build_LR0_automaton(G).to_deterministic()\n",
    "        for i, node in enumerate(automaton):\n",
    "            if self.verbose: print(i, '\\t', '\\n\\t '.join(str(x) for x in node.state), '\\n')\n",
    "            node.idx = i\n",
    "        for i,production in enumerate(G.Productions,1):\n",
    "            production.j = i\n",
    "        for node in automaton:\n",
    "            idx = node.idx\n",
    "            # print(node.transitions, 'kslkws')\n",
    "            for state in node.state:\n",
    "                # print('state :',state)\n",
    "                item = state.state\n",
    "                # Your code here!!!\n",
    "                # print(item.NextItem().production)\n",
    "                # print(item.NextItem().production.Left, 'cabecera')\n",
    "                # print(item.NextSymbol, 'symbol')\n",
    "                # print('type:', type(item.NextSymbol))\n",
    "            \n",
    "                if len(item.production.Right)==item.pos:\n",
    "                        # print('elif')\n",
    "                    if item.production.Left == G.startSymbol:\n",
    "                        self.action[node.idx,G.EOF] = self.OK\n",
    "                    else:\n",
    "                        for terminal_follow in follows[item.production.Left]:\n",
    "                            tag = None\n",
    "                            for production in G.Productions:\n",
    "                                if production == item.production:\n",
    "                                    tag = production\n",
    "                            self.action[node.idx,terminal_follow] = self.REDUCE,tag\n",
    "                            \n",
    "                elif item.production.Right[item.pos].IsTerminal:\n",
    "                    # print('item:',item)\n",
    "                    # print('que hay:',item.production.Right[item.pos])\n",
    "                    # print(item.NextSymbol.Name)\n",
    "                    # print(state.transitions,'trans with s')\n",
    "                    # print(automaton.transitions)\n",
    "                    # print(node.idx)\n",
    "                    # print(node.transitions)\n",
    "                    # print('symbol:',item.NextSymbol.Name)\n",
    "                    next_node = node.get(item.NextSymbol.Name)\n",
    "                    # automaton.\n",
    "                    self.action[node.idx,item.NextSymbol] = self.SHIFT,next_node.idx \n",
    "                    \n",
    "                else:\n",
    "                    # print(node.idx)\n",
    "                    # print(node.transitions)\n",
    "                    # print('symbol:',item.NextSymbol.Name)\n",
    "                    next_node = node.get(item.NextSymbol.Name)\n",
    "                    # print(next_node.idx ,'id')\n",
    "                    # print('next node:', next_node)\n",
    "                    self.goto[node.idx,item.NextSymbol] = next_node.idx \n",
    "                    # print(self.goto)\n",
    "               \n",
    "        # print('actions:',self.action)\n",
    "        # print('goto:', self.goto)\n",
    "                    \n",
    "\n",
    "    @staticmethod\n",
    "    def _register(table, key, value):\n",
    "        assert key not in table or table[key] == value, 'Shift-Reduce or Reduce-Reduce conflict!!!'\n",
    "        table[key] = value"
   ]
  },
  {
   "cell_type": "markdown",
   "metadata": {},
   "source": [
    "## Probando\n",
    "\n",
    "Construyamos un parser SLR(1) para la gramática de las expresiones aritméticas."
   ]
  },
  {
   "cell_type": "code",
   "execution_count": 52,
   "metadata": {},
   "outputs": [
    {
     "name": "stdout",
     "output_type": "stream",
     "text": [
      "0 \t T -> .F, \n",
      "\t S' -> .E, \n",
      "\t F -> .int, \n",
      "\t E -> .E+T, \n",
      "\t F -> .(E), \n",
      "\t E -> .T, \n",
      "\t T -> .T*F,  \n",
      "\n",
      "1 \t S' -> E., \n",
      "\t E -> E.+T,  \n",
      "\n",
      "2 \t E -> E+.T, \n",
      "\t T -> .F, \n",
      "\t F -> .int, \n",
      "\t F -> .(E), \n",
      "\t T -> .T*F,  \n",
      "\n",
      "3 \t F -> (.E), \n",
      "\t T -> .F, \n",
      "\t F -> .int, \n",
      "\t E -> .E+T, \n",
      "\t F -> .(E), \n",
      "\t E -> .T, \n",
      "\t T -> .T*F,  \n",
      "\n",
      "4 \t F -> (E.), \n",
      "\t E -> E.+T,  \n",
      "\n",
      "5 \t F -> (E).,  \n",
      "\n",
      "6 \t F -> int.,  \n",
      "\n",
      "7 \t T -> F.,  \n",
      "\n",
      "8 \t E -> T., \n",
      "\t T -> T.*F,  \n",
      "\n",
      "9 \t T -> T*.F, \n",
      "\t F -> .int, \n",
      "\t F -> .(E),  \n",
      "\n",
      "10 \t T -> T*F.,  \n",
      "\n",
      "11 \t T -> T.*F, \n",
      "\t E -> E+T.,  \n",
      "\n"
     ]
    }
   ],
   "source": [
    "parser = SLR1Parser(G, verbose=True)"
   ]
  },
  {
   "cell_type": "markdown",
   "metadata": {},
   "source": [
    "### Tablas\n",
    "\n",
    "Para visualizar las tablas Action y Goto usaremos la clase `DataFrame` de `pandas`."
   ]
  },
  {
   "cell_type": "code",
   "execution_count": 53,
   "metadata": {},
   "outputs": [],
   "source": [
    "from pandas import DataFrame\n",
    "\n",
    "def encode_value(value):\n",
    "    try:\n",
    "        action, tag = value\n",
    "        if action == ShiftReduceParser.SHIFT:\n",
    "            return 'S' + str(tag)\n",
    "        elif action == ShiftReduceParser.REDUCE:\n",
    "            return repr(tag)\n",
    "        elif action ==  ShiftReduceParser.OK:\n",
    "            return action\n",
    "        else:\n",
    "            return value\n",
    "    except TypeError:\n",
    "        return value\n",
    "\n",
    "def table_to_dataframe(table):\n",
    "    d = {}\n",
    "    for (state, symbol), value in table.items():\n",
    "        # print(state,'ss')\n",
    "        # print(symbol,'sy')\n",
    "        # print(value,'v')\n",
    "        value = encode_value(value)\n",
    "        try:\n",
    "            d[state][symbol] = value\n",
    "        except KeyError:\n",
    "            d[state] = { symbol: value }\n",
    "\n",
    "    return DataFrame.from_dict(d, orient='index', dtype=str)"
   ]
  },
  {
   "cell_type": "markdown",
   "metadata": {},
   "source": [
    "Recordemos que:\n",
    "\n",
    "- Debe haber a lo sumo una opción en cada celda.\n",
    "\n",
    "- Deben aparecer todos los estados (salvo $I_0$) entre **ACTION** y **GOTO**.\n",
    "\n",
    "- Deben aparecer todas las producciones entre los $R_k$ de **ACTION**."
   ]
  },
  {
   "cell_type": "code",
   "execution_count": 54,
   "metadata": {},
   "outputs": [
    {
     "data": {
      "text/html": [
       "<div>\n",
       "<style scoped>\n",
       "    .dataframe tbody tr th:only-of-type {\n",
       "        vertical-align: middle;\n",
       "    }\n",
       "\n",
       "    .dataframe tbody tr th {\n",
       "        vertical-align: top;\n",
       "    }\n",
       "\n",
       "    .dataframe thead th {\n",
       "        text-align: right;\n",
       "    }\n",
       "</style>\n",
       "<table border=\"1\" class=\"dataframe\">\n",
       "  <thead>\n",
       "    <tr style=\"text-align: right;\">\n",
       "      <th></th>\n",
       "      <th>int</th>\n",
       "      <th>(</th>\n",
       "      <th>$</th>\n",
       "      <th>+</th>\n",
       "      <th>)</th>\n",
       "      <th>*</th>\n",
       "    </tr>\n",
       "  </thead>\n",
       "  <tbody>\n",
       "    <tr>\n",
       "      <th>0</th>\n",
       "      <td>S6</td>\n",
       "      <td>S3</td>\n",
       "      <td>NaN</td>\n",
       "      <td>NaN</td>\n",
       "      <td>NaN</td>\n",
       "      <td>NaN</td>\n",
       "    </tr>\n",
       "    <tr>\n",
       "      <th>2</th>\n",
       "      <td>S6</td>\n",
       "      <td>S3</td>\n",
       "      <td>NaN</td>\n",
       "      <td>NaN</td>\n",
       "      <td>NaN</td>\n",
       "      <td>NaN</td>\n",
       "    </tr>\n",
       "    <tr>\n",
       "      <th>3</th>\n",
       "      <td>S6</td>\n",
       "      <td>S3</td>\n",
       "      <td>NaN</td>\n",
       "      <td>NaN</td>\n",
       "      <td>NaN</td>\n",
       "      <td>NaN</td>\n",
       "    </tr>\n",
       "    <tr>\n",
       "      <th>9</th>\n",
       "      <td>S6</td>\n",
       "      <td>S3</td>\n",
       "      <td>NaN</td>\n",
       "      <td>NaN</td>\n",
       "      <td>NaN</td>\n",
       "      <td>NaN</td>\n",
       "    </tr>\n",
       "    <tr>\n",
       "      <th>1</th>\n",
       "      <td>NaN</td>\n",
       "      <td>NaN</td>\n",
       "      <td>OK</td>\n",
       "      <td>S2</td>\n",
       "      <td>NaN</td>\n",
       "      <td>NaN</td>\n",
       "    </tr>\n",
       "    <tr>\n",
       "      <th>5</th>\n",
       "      <td>NaN</td>\n",
       "      <td>NaN</td>\n",
       "      <td>F -&gt; ( E )</td>\n",
       "      <td>F -&gt; ( E )</td>\n",
       "      <td>F -&gt; ( E )</td>\n",
       "      <td>F -&gt; ( E )</td>\n",
       "    </tr>\n",
       "    <tr>\n",
       "      <th>6</th>\n",
       "      <td>NaN</td>\n",
       "      <td>NaN</td>\n",
       "      <td>F -&gt; int</td>\n",
       "      <td>F -&gt; int</td>\n",
       "      <td>F -&gt; int</td>\n",
       "      <td>F -&gt; int</td>\n",
       "    </tr>\n",
       "    <tr>\n",
       "      <th>7</th>\n",
       "      <td>NaN</td>\n",
       "      <td>NaN</td>\n",
       "      <td>T -&gt; F</td>\n",
       "      <td>T -&gt; F</td>\n",
       "      <td>T -&gt; F</td>\n",
       "      <td>T -&gt; F</td>\n",
       "    </tr>\n",
       "    <tr>\n",
       "      <th>8</th>\n",
       "      <td>NaN</td>\n",
       "      <td>NaN</td>\n",
       "      <td>E -&gt; T</td>\n",
       "      <td>E -&gt; T</td>\n",
       "      <td>E -&gt; T</td>\n",
       "      <td>S9</td>\n",
       "    </tr>\n",
       "    <tr>\n",
       "      <th>10</th>\n",
       "      <td>NaN</td>\n",
       "      <td>NaN</td>\n",
       "      <td>T -&gt; T * F</td>\n",
       "      <td>T -&gt; T * F</td>\n",
       "      <td>T -&gt; T * F</td>\n",
       "      <td>T -&gt; T * F</td>\n",
       "    </tr>\n",
       "    <tr>\n",
       "      <th>11</th>\n",
       "      <td>NaN</td>\n",
       "      <td>NaN</td>\n",
       "      <td>E -&gt; E + T</td>\n",
       "      <td>E -&gt; E + T</td>\n",
       "      <td>E -&gt; E + T</td>\n",
       "      <td>S9</td>\n",
       "    </tr>\n",
       "    <tr>\n",
       "      <th>4</th>\n",
       "      <td>NaN</td>\n",
       "      <td>NaN</td>\n",
       "      <td>NaN</td>\n",
       "      <td>S2</td>\n",
       "      <td>S5</td>\n",
       "      <td>NaN</td>\n",
       "    </tr>\n",
       "  </tbody>\n",
       "</table>\n",
       "</div>"
      ],
      "text/plain": [
       "    int    (           $           +           )           *\n",
       "0    S6   S3         NaN         NaN         NaN         NaN\n",
       "2    S6   S3         NaN         NaN         NaN         NaN\n",
       "3    S6   S3         NaN         NaN         NaN         NaN\n",
       "9    S6   S3         NaN         NaN         NaN         NaN\n",
       "1   NaN  NaN          OK          S2         NaN         NaN\n",
       "5   NaN  NaN  F -> ( E )  F -> ( E )  F -> ( E )  F -> ( E )\n",
       "6   NaN  NaN    F -> int    F -> int    F -> int    F -> int\n",
       "7   NaN  NaN      T -> F      T -> F      T -> F      T -> F\n",
       "8   NaN  NaN      E -> T      E -> T      E -> T          S9\n",
       "10  NaN  NaN  T -> T * F  T -> T * F  T -> T * F  T -> T * F\n",
       "11  NaN  NaN  E -> E + T  E -> E + T  E -> E + T          S9\n",
       "4   NaN  NaN         NaN          S2          S5         NaN"
      ]
     },
     "metadata": {},
     "output_type": "display_data"
    },
    {
     "data": {
      "text/html": [
       "<div>\n",
       "<style scoped>\n",
       "    .dataframe tbody tr th:only-of-type {\n",
       "        vertical-align: middle;\n",
       "    }\n",
       "\n",
       "    .dataframe tbody tr th {\n",
       "        vertical-align: top;\n",
       "    }\n",
       "\n",
       "    .dataframe thead th {\n",
       "        text-align: right;\n",
       "    }\n",
       "</style>\n",
       "<table border=\"1\" class=\"dataframe\">\n",
       "  <thead>\n",
       "    <tr style=\"text-align: right;\">\n",
       "      <th></th>\n",
       "      <th>F</th>\n",
       "      <th>E</th>\n",
       "      <th>T</th>\n",
       "    </tr>\n",
       "  </thead>\n",
       "  <tbody>\n",
       "    <tr>\n",
       "      <th>0</th>\n",
       "      <td>7</td>\n",
       "      <td>1.0</td>\n",
       "      <td>8.0</td>\n",
       "    </tr>\n",
       "    <tr>\n",
       "      <th>2</th>\n",
       "      <td>7</td>\n",
       "      <td>NaN</td>\n",
       "      <td>11.0</td>\n",
       "    </tr>\n",
       "    <tr>\n",
       "      <th>3</th>\n",
       "      <td>7</td>\n",
       "      <td>4.0</td>\n",
       "      <td>8.0</td>\n",
       "    </tr>\n",
       "    <tr>\n",
       "      <th>9</th>\n",
       "      <td>10</td>\n",
       "      <td>NaN</td>\n",
       "      <td>NaN</td>\n",
       "    </tr>\n",
       "  </tbody>\n",
       "</table>\n",
       "</div>"
      ],
      "text/plain": [
       "    F    E     T\n",
       "0   7  1.0   8.0\n",
       "2   7  NaN  11.0\n",
       "3   7  4.0   8.0\n",
       "9  10  NaN   NaN"
      ]
     },
     "metadata": {},
     "output_type": "display_data"
    }
   ],
   "source": [
    "display(table_to_dataframe(parser.action))\n",
    "display(table_to_dataframe(parser.goto))"
   ]
  },
  {
   "cell_type": "markdown",
   "metadata": {},
   "source": [
    "### Parseando ...\n",
    "\n",
    "Trabajemos sobre la cadena `int + int * int`. Si el parser está correctamente implementado deberíamos obtener una derivación extrema derecha en reverso que parta de la oración y llegue al símbolo distinguido."
   ]
  },
  {
   "cell_type": "code",
   "execution_count": 55,
   "metadata": {},
   "outputs": [
    {
     "name": "stdout",
     "output_type": "stream",
     "text": [
      "[0] <---||---> ['int', '+', 'int', '*', 'int', '$']\n",
      "state, lookahead 0 int\n",
      "{(0, 'int'): ('SHIFT', 6), (0, '('): ('SHIFT', 3), (1, '$'): 'OK', (1, '+'): ('SHIFT', 2), (2, 'int'): ('SHIFT', 6), (2, '('): ('SHIFT', 3), (3, 'int'): ('SHIFT', 6), (3, '('): ('SHIFT', 3), (4, ')'): ('SHIFT', 5), (4, '+'): ('SHIFT', 2), (5, '+'): ('REDUCE', F -> ( E )), (5, '*'): ('REDUCE', F -> ( E )), (5, ')'): ('REDUCE', F -> ( E )), (5, '$'): ('REDUCE', F -> ( E )), (6, '+'): ('REDUCE', F -> int), (6, '*'): ('REDUCE', F -> int), (6, ')'): ('REDUCE', F -> int), (6, '$'): ('REDUCE', F -> int), (7, '+'): ('REDUCE', T -> F), (7, '*'): ('REDUCE', T -> F), (7, ')'): ('REDUCE', T -> F), (7, '$'): ('REDUCE', T -> F), (8, '+'): ('REDUCE', E -> T), (8, '$'): ('REDUCE', E -> T), (8, ')'): ('REDUCE', E -> T), (8, '*'): ('SHIFT', 9), (9, 'int'): ('SHIFT', 6), (9, '('): ('SHIFT', 3), (10, '+'): ('REDUCE', T -> T * F), (10, '*'): ('REDUCE', T -> T * F), (10, ')'): ('REDUCE', T -> T * F), (10, '$'): ('REDUCE', T -> T * F), (11, '*'): ('SHIFT', 9), (11, '+'): ('REDUCE', E -> E + T), (11, '$'): ('REDUCE', E -> E + T), (11, ')'): ('REDUCE', E -> E + T)}\n",
      "action, tsg SHIFT\n",
      "[0, 'int', 6] <---||---> ['+', 'int', '*', 'int', '$']\n",
      "state, lookahead 6 +\n",
      "{(0, 'int'): ('SHIFT', 6), (0, '('): ('SHIFT', 3), (1, '$'): 'OK', (1, '+'): ('SHIFT', 2), (2, 'int'): ('SHIFT', 6), (2, '('): ('SHIFT', 3), (3, 'int'): ('SHIFT', 6), (3, '('): ('SHIFT', 3), (4, ')'): ('SHIFT', 5), (4, '+'): ('SHIFT', 2), (5, '+'): ('REDUCE', F -> ( E )), (5, '*'): ('REDUCE', F -> ( E )), (5, ')'): ('REDUCE', F -> ( E )), (5, '$'): ('REDUCE', F -> ( E )), (6, '+'): ('REDUCE', F -> int), (6, '*'): ('REDUCE', F -> int), (6, ')'): ('REDUCE', F -> int), (6, '$'): ('REDUCE', F -> int), (7, '+'): ('REDUCE', T -> F), (7, '*'): ('REDUCE', T -> F), (7, ')'): ('REDUCE', T -> F), (7, '$'): ('REDUCE', T -> F), (8, '+'): ('REDUCE', E -> T), (8, '$'): ('REDUCE', E -> T), (8, ')'): ('REDUCE', E -> T), (8, '*'): ('SHIFT', 9), (9, 'int'): ('SHIFT', 6), (9, '('): ('SHIFT', 3), (10, '+'): ('REDUCE', T -> T * F), (10, '*'): ('REDUCE', T -> T * F), (10, ')'): ('REDUCE', T -> T * F), (10, '$'): ('REDUCE', T -> T * F), (11, '*'): ('SHIFT', 9), (11, '+'): ('REDUCE', E -> E + T), (11, '$'): ('REDUCE', E -> E + T), (11, ')'): ('REDUCE', E -> E + T)}\n",
      "action, tsg REDUCE\n",
      "tag F := int\n",
      "stack [0, 'int', 6]\n",
      "{(0, 'F'): 7, (0, 'E'): 1, (0, 'T'): 8, (2, 'T'): 11, (2, 'F'): 7, (3, 'E'): 4, (3, 'F'): 7, (3, 'T'): 8, (9, 'F'): 10} goto\n",
      "output [F -> int]\n",
      "[0, 'F', 7] <---||---> ['+', 'int', '*', 'int', '$']\n",
      "state, lookahead 7 +\n",
      "{(0, 'int'): ('SHIFT', 6), (0, '('): ('SHIFT', 3), (1, '$'): 'OK', (1, '+'): ('SHIFT', 2), (2, 'int'): ('SHIFT', 6), (2, '('): ('SHIFT', 3), (3, 'int'): ('SHIFT', 6), (3, '('): ('SHIFT', 3), (4, ')'): ('SHIFT', 5), (4, '+'): ('SHIFT', 2), (5, '+'): ('REDUCE', F -> ( E )), (5, '*'): ('REDUCE', F -> ( E )), (5, ')'): ('REDUCE', F -> ( E )), (5, '$'): ('REDUCE', F -> ( E )), (6, '+'): ('REDUCE', F -> int), (6, '*'): ('REDUCE', F -> int), (6, ')'): ('REDUCE', F -> int), (6, '$'): ('REDUCE', F -> int), (7, '+'): ('REDUCE', T -> F), (7, '*'): ('REDUCE', T -> F), (7, ')'): ('REDUCE', T -> F), (7, '$'): ('REDUCE', T -> F), (8, '+'): ('REDUCE', E -> T), (8, '$'): ('REDUCE', E -> T), (8, ')'): ('REDUCE', E -> T), (8, '*'): ('SHIFT', 9), (9, 'int'): ('SHIFT', 6), (9, '('): ('SHIFT', 3), (10, '+'): ('REDUCE', T -> T * F), (10, '*'): ('REDUCE', T -> T * F), (10, ')'): ('REDUCE', T -> T * F), (10, '$'): ('REDUCE', T -> T * F), (11, '*'): ('SHIFT', 9), (11, '+'): ('REDUCE', E -> E + T), (11, '$'): ('REDUCE', E -> E + T), (11, ')'): ('REDUCE', E -> E + T)}\n",
      "action, tsg REDUCE\n",
      "tag T := F\n",
      "stack [0, 'F', 7]\n",
      "{(0, 'F'): 7, (0, 'E'): 1, (0, 'T'): 8, (2, 'T'): 11, (2, 'F'): 7, (3, 'E'): 4, (3, 'F'): 7, (3, 'T'): 8, (9, 'F'): 10} goto\n",
      "output [F -> int, T -> F]\n",
      "[0, 'T', 8] <---||---> ['+', 'int', '*', 'int', '$']\n",
      "state, lookahead 8 +\n",
      "{(0, 'int'): ('SHIFT', 6), (0, '('): ('SHIFT', 3), (1, '$'): 'OK', (1, '+'): ('SHIFT', 2), (2, 'int'): ('SHIFT', 6), (2, '('): ('SHIFT', 3), (3, 'int'): ('SHIFT', 6), (3, '('): ('SHIFT', 3), (4, ')'): ('SHIFT', 5), (4, '+'): ('SHIFT', 2), (5, '+'): ('REDUCE', F -> ( E )), (5, '*'): ('REDUCE', F -> ( E )), (5, ')'): ('REDUCE', F -> ( E )), (5, '$'): ('REDUCE', F -> ( E )), (6, '+'): ('REDUCE', F -> int), (6, '*'): ('REDUCE', F -> int), (6, ')'): ('REDUCE', F -> int), (6, '$'): ('REDUCE', F -> int), (7, '+'): ('REDUCE', T -> F), (7, '*'): ('REDUCE', T -> F), (7, ')'): ('REDUCE', T -> F), (7, '$'): ('REDUCE', T -> F), (8, '+'): ('REDUCE', E -> T), (8, '$'): ('REDUCE', E -> T), (8, ')'): ('REDUCE', E -> T), (8, '*'): ('SHIFT', 9), (9, 'int'): ('SHIFT', 6), (9, '('): ('SHIFT', 3), (10, '+'): ('REDUCE', T -> T * F), (10, '*'): ('REDUCE', T -> T * F), (10, ')'): ('REDUCE', T -> T * F), (10, '$'): ('REDUCE', T -> T * F), (11, '*'): ('SHIFT', 9), (11, '+'): ('REDUCE', E -> E + T), (11, '$'): ('REDUCE', E -> E + T), (11, ')'): ('REDUCE', E -> E + T)}\n",
      "action, tsg REDUCE\n",
      "tag E := T\n",
      "stack [0, 'T', 8]\n",
      "{(0, 'F'): 7, (0, 'E'): 1, (0, 'T'): 8, (2, 'T'): 11, (2, 'F'): 7, (3, 'E'): 4, (3, 'F'): 7, (3, 'T'): 8, (9, 'F'): 10} goto\n",
      "output [F -> int, T -> F, E -> T]\n",
      "[0, 'E', 1] <---||---> ['+', 'int', '*', 'int', '$']\n",
      "state, lookahead 1 +\n",
      "{(0, 'int'): ('SHIFT', 6), (0, '('): ('SHIFT', 3), (1, '$'): 'OK', (1, '+'): ('SHIFT', 2), (2, 'int'): ('SHIFT', 6), (2, '('): ('SHIFT', 3), (3, 'int'): ('SHIFT', 6), (3, '('): ('SHIFT', 3), (4, ')'): ('SHIFT', 5), (4, '+'): ('SHIFT', 2), (5, '+'): ('REDUCE', F -> ( E )), (5, '*'): ('REDUCE', F -> ( E )), (5, ')'): ('REDUCE', F -> ( E )), (5, '$'): ('REDUCE', F -> ( E )), (6, '+'): ('REDUCE', F -> int), (6, '*'): ('REDUCE', F -> int), (6, ')'): ('REDUCE', F -> int), (6, '$'): ('REDUCE', F -> int), (7, '+'): ('REDUCE', T -> F), (7, '*'): ('REDUCE', T -> F), (7, ')'): ('REDUCE', T -> F), (7, '$'): ('REDUCE', T -> F), (8, '+'): ('REDUCE', E -> T), (8, '$'): ('REDUCE', E -> T), (8, ')'): ('REDUCE', E -> T), (8, '*'): ('SHIFT', 9), (9, 'int'): ('SHIFT', 6), (9, '('): ('SHIFT', 3), (10, '+'): ('REDUCE', T -> T * F), (10, '*'): ('REDUCE', T -> T * F), (10, ')'): ('REDUCE', T -> T * F), (10, '$'): ('REDUCE', T -> T * F), (11, '*'): ('SHIFT', 9), (11, '+'): ('REDUCE', E -> E + T), (11, '$'): ('REDUCE', E -> E + T), (11, ')'): ('REDUCE', E -> E + T)}\n",
      "action, tsg SHIFT\n",
      "[0, 'E', 1, '+', 2] <---||---> ['int', '*', 'int', '$']\n",
      "state, lookahead 2 int\n",
      "{(0, 'int'): ('SHIFT', 6), (0, '('): ('SHIFT', 3), (1, '$'): 'OK', (1, '+'): ('SHIFT', 2), (2, 'int'): ('SHIFT', 6), (2, '('): ('SHIFT', 3), (3, 'int'): ('SHIFT', 6), (3, '('): ('SHIFT', 3), (4, ')'): ('SHIFT', 5), (4, '+'): ('SHIFT', 2), (5, '+'): ('REDUCE', F -> ( E )), (5, '*'): ('REDUCE', F -> ( E )), (5, ')'): ('REDUCE', F -> ( E )), (5, '$'): ('REDUCE', F -> ( E )), (6, '+'): ('REDUCE', F -> int), (6, '*'): ('REDUCE', F -> int), (6, ')'): ('REDUCE', F -> int), (6, '$'): ('REDUCE', F -> int), (7, '+'): ('REDUCE', T -> F), (7, '*'): ('REDUCE', T -> F), (7, ')'): ('REDUCE', T -> F), (7, '$'): ('REDUCE', T -> F), (8, '+'): ('REDUCE', E -> T), (8, '$'): ('REDUCE', E -> T), (8, ')'): ('REDUCE', E -> T), (8, '*'): ('SHIFT', 9), (9, 'int'): ('SHIFT', 6), (9, '('): ('SHIFT', 3), (10, '+'): ('REDUCE', T -> T * F), (10, '*'): ('REDUCE', T -> T * F), (10, ')'): ('REDUCE', T -> T * F), (10, '$'): ('REDUCE', T -> T * F), (11, '*'): ('SHIFT', 9), (11, '+'): ('REDUCE', E -> E + T), (11, '$'): ('REDUCE', E -> E + T), (11, ')'): ('REDUCE', E -> E + T)}\n",
      "action, tsg SHIFT\n",
      "[0, 'E', 1, '+', 2, 'int', 6] <---||---> ['*', 'int', '$']\n",
      "state, lookahead 6 *\n",
      "{(0, 'int'): ('SHIFT', 6), (0, '('): ('SHIFT', 3), (1, '$'): 'OK', (1, '+'): ('SHIFT', 2), (2, 'int'): ('SHIFT', 6), (2, '('): ('SHIFT', 3), (3, 'int'): ('SHIFT', 6), (3, '('): ('SHIFT', 3), (4, ')'): ('SHIFT', 5), (4, '+'): ('SHIFT', 2), (5, '+'): ('REDUCE', F -> ( E )), (5, '*'): ('REDUCE', F -> ( E )), (5, ')'): ('REDUCE', F -> ( E )), (5, '$'): ('REDUCE', F -> ( E )), (6, '+'): ('REDUCE', F -> int), (6, '*'): ('REDUCE', F -> int), (6, ')'): ('REDUCE', F -> int), (6, '$'): ('REDUCE', F -> int), (7, '+'): ('REDUCE', T -> F), (7, '*'): ('REDUCE', T -> F), (7, ')'): ('REDUCE', T -> F), (7, '$'): ('REDUCE', T -> F), (8, '+'): ('REDUCE', E -> T), (8, '$'): ('REDUCE', E -> T), (8, ')'): ('REDUCE', E -> T), (8, '*'): ('SHIFT', 9), (9, 'int'): ('SHIFT', 6), (9, '('): ('SHIFT', 3), (10, '+'): ('REDUCE', T -> T * F), (10, '*'): ('REDUCE', T -> T * F), (10, ')'): ('REDUCE', T -> T * F), (10, '$'): ('REDUCE', T -> T * F), (11, '*'): ('SHIFT', 9), (11, '+'): ('REDUCE', E -> E + T), (11, '$'): ('REDUCE', E -> E + T), (11, ')'): ('REDUCE', E -> E + T)}\n",
      "action, tsg REDUCE\n",
      "tag F := int\n",
      "stack [0, 'E', 1, '+', 2, 'int', 6]\n",
      "{(0, 'F'): 7, (0, 'E'): 1, (0, 'T'): 8, (2, 'T'): 11, (2, 'F'): 7, (3, 'E'): 4, (3, 'F'): 7, (3, 'T'): 8, (9, 'F'): 10} goto\n",
      "output [F -> int, T -> F, E -> T, F -> int]\n",
      "[0, 'E', 1, '+', 2, 'F', 7] <---||---> ['*', 'int', '$']\n",
      "state, lookahead 7 *\n",
      "{(0, 'int'): ('SHIFT', 6), (0, '('): ('SHIFT', 3), (1, '$'): 'OK', (1, '+'): ('SHIFT', 2), (2, 'int'): ('SHIFT', 6), (2, '('): ('SHIFT', 3), (3, 'int'): ('SHIFT', 6), (3, '('): ('SHIFT', 3), (4, ')'): ('SHIFT', 5), (4, '+'): ('SHIFT', 2), (5, '+'): ('REDUCE', F -> ( E )), (5, '*'): ('REDUCE', F -> ( E )), (5, ')'): ('REDUCE', F -> ( E )), (5, '$'): ('REDUCE', F -> ( E )), (6, '+'): ('REDUCE', F -> int), (6, '*'): ('REDUCE', F -> int), (6, ')'): ('REDUCE', F -> int), (6, '$'): ('REDUCE', F -> int), (7, '+'): ('REDUCE', T -> F), (7, '*'): ('REDUCE', T -> F), (7, ')'): ('REDUCE', T -> F), (7, '$'): ('REDUCE', T -> F), (8, '+'): ('REDUCE', E -> T), (8, '$'): ('REDUCE', E -> T), (8, ')'): ('REDUCE', E -> T), (8, '*'): ('SHIFT', 9), (9, 'int'): ('SHIFT', 6), (9, '('): ('SHIFT', 3), (10, '+'): ('REDUCE', T -> T * F), (10, '*'): ('REDUCE', T -> T * F), (10, ')'): ('REDUCE', T -> T * F), (10, '$'): ('REDUCE', T -> T * F), (11, '*'): ('SHIFT', 9), (11, '+'): ('REDUCE', E -> E + T), (11, '$'): ('REDUCE', E -> E + T), (11, ')'): ('REDUCE', E -> E + T)}\n",
      "action, tsg REDUCE\n",
      "tag T := F\n",
      "stack [0, 'E', 1, '+', 2, 'F', 7]\n",
      "{(0, 'F'): 7, (0, 'E'): 1, (0, 'T'): 8, (2, 'T'): 11, (2, 'F'): 7, (3, 'E'): 4, (3, 'F'): 7, (3, 'T'): 8, (9, 'F'): 10} goto\n",
      "output [F -> int, T -> F, E -> T, F -> int, T -> F]\n",
      "[0, 'E', 1, '+', 2, 'T', 11] <---||---> ['*', 'int', '$']\n",
      "state, lookahead 11 *\n",
      "{(0, 'int'): ('SHIFT', 6), (0, '('): ('SHIFT', 3), (1, '$'): 'OK', (1, '+'): ('SHIFT', 2), (2, 'int'): ('SHIFT', 6), (2, '('): ('SHIFT', 3), (3, 'int'): ('SHIFT', 6), (3, '('): ('SHIFT', 3), (4, ')'): ('SHIFT', 5), (4, '+'): ('SHIFT', 2), (5, '+'): ('REDUCE', F -> ( E )), (5, '*'): ('REDUCE', F -> ( E )), (5, ')'): ('REDUCE', F -> ( E )), (5, '$'): ('REDUCE', F -> ( E )), (6, '+'): ('REDUCE', F -> int), (6, '*'): ('REDUCE', F -> int), (6, ')'): ('REDUCE', F -> int), (6, '$'): ('REDUCE', F -> int), (7, '+'): ('REDUCE', T -> F), (7, '*'): ('REDUCE', T -> F), (7, ')'): ('REDUCE', T -> F), (7, '$'): ('REDUCE', T -> F), (8, '+'): ('REDUCE', E -> T), (8, '$'): ('REDUCE', E -> T), (8, ')'): ('REDUCE', E -> T), (8, '*'): ('SHIFT', 9), (9, 'int'): ('SHIFT', 6), (9, '('): ('SHIFT', 3), (10, '+'): ('REDUCE', T -> T * F), (10, '*'): ('REDUCE', T -> T * F), (10, ')'): ('REDUCE', T -> T * F), (10, '$'): ('REDUCE', T -> T * F), (11, '*'): ('SHIFT', 9), (11, '+'): ('REDUCE', E -> E + T), (11, '$'): ('REDUCE', E -> E + T), (11, ')'): ('REDUCE', E -> E + T)}\n",
      "action, tsg SHIFT\n",
      "[0, 'E', 1, '+', 2, 'T', 11, '*', 9] <---||---> ['int', '$']\n",
      "state, lookahead 9 int\n",
      "{(0, 'int'): ('SHIFT', 6), (0, '('): ('SHIFT', 3), (1, '$'): 'OK', (1, '+'): ('SHIFT', 2), (2, 'int'): ('SHIFT', 6), (2, '('): ('SHIFT', 3), (3, 'int'): ('SHIFT', 6), (3, '('): ('SHIFT', 3), (4, ')'): ('SHIFT', 5), (4, '+'): ('SHIFT', 2), (5, '+'): ('REDUCE', F -> ( E )), (5, '*'): ('REDUCE', F -> ( E )), (5, ')'): ('REDUCE', F -> ( E )), (5, '$'): ('REDUCE', F -> ( E )), (6, '+'): ('REDUCE', F -> int), (6, '*'): ('REDUCE', F -> int), (6, ')'): ('REDUCE', F -> int), (6, '$'): ('REDUCE', F -> int), (7, '+'): ('REDUCE', T -> F), (7, '*'): ('REDUCE', T -> F), (7, ')'): ('REDUCE', T -> F), (7, '$'): ('REDUCE', T -> F), (8, '+'): ('REDUCE', E -> T), (8, '$'): ('REDUCE', E -> T), (8, ')'): ('REDUCE', E -> T), (8, '*'): ('SHIFT', 9), (9, 'int'): ('SHIFT', 6), (9, '('): ('SHIFT', 3), (10, '+'): ('REDUCE', T -> T * F), (10, '*'): ('REDUCE', T -> T * F), (10, ')'): ('REDUCE', T -> T * F), (10, '$'): ('REDUCE', T -> T * F), (11, '*'): ('SHIFT', 9), (11, '+'): ('REDUCE', E -> E + T), (11, '$'): ('REDUCE', E -> E + T), (11, ')'): ('REDUCE', E -> E + T)}\n",
      "action, tsg SHIFT\n",
      "[0, 'E', 1, '+', 2, 'T', 11, '*', 9, 'int', 6] <---||---> ['$']\n",
      "state, lookahead 6 $\n",
      "{(0, 'int'): ('SHIFT', 6), (0, '('): ('SHIFT', 3), (1, '$'): 'OK', (1, '+'): ('SHIFT', 2), (2, 'int'): ('SHIFT', 6), (2, '('): ('SHIFT', 3), (3, 'int'): ('SHIFT', 6), (3, '('): ('SHIFT', 3), (4, ')'): ('SHIFT', 5), (4, '+'): ('SHIFT', 2), (5, '+'): ('REDUCE', F -> ( E )), (5, '*'): ('REDUCE', F -> ( E )), (5, ')'): ('REDUCE', F -> ( E )), (5, '$'): ('REDUCE', F -> ( E )), (6, '+'): ('REDUCE', F -> int), (6, '*'): ('REDUCE', F -> int), (6, ')'): ('REDUCE', F -> int), (6, '$'): ('REDUCE', F -> int), (7, '+'): ('REDUCE', T -> F), (7, '*'): ('REDUCE', T -> F), (7, ')'): ('REDUCE', T -> F), (7, '$'): ('REDUCE', T -> F), (8, '+'): ('REDUCE', E -> T), (8, '$'): ('REDUCE', E -> T), (8, ')'): ('REDUCE', E -> T), (8, '*'): ('SHIFT', 9), (9, 'int'): ('SHIFT', 6), (9, '('): ('SHIFT', 3), (10, '+'): ('REDUCE', T -> T * F), (10, '*'): ('REDUCE', T -> T * F), (10, ')'): ('REDUCE', T -> T * F), (10, '$'): ('REDUCE', T -> T * F), (11, '*'): ('SHIFT', 9), (11, '+'): ('REDUCE', E -> E + T), (11, '$'): ('REDUCE', E -> E + T), (11, ')'): ('REDUCE', E -> E + T)}\n",
      "action, tsg REDUCE\n",
      "tag F := int\n",
      "stack [0, 'E', 1, '+', 2, 'T', 11, '*', 9, 'int', 6]\n",
      "{(0, 'F'): 7, (0, 'E'): 1, (0, 'T'): 8, (2, 'T'): 11, (2, 'F'): 7, (3, 'E'): 4, (3, 'F'): 7, (3, 'T'): 8, (9, 'F'): 10} goto\n",
      "output [F -> int, T -> F, E -> T, F -> int, T -> F, F -> int]\n",
      "[0, 'E', 1, '+', 2, 'T', 11, '*', 9, 'F', 10] <---||---> ['$']\n",
      "state, lookahead 10 $\n",
      "{(0, 'int'): ('SHIFT', 6), (0, '('): ('SHIFT', 3), (1, '$'): 'OK', (1, '+'): ('SHIFT', 2), (2, 'int'): ('SHIFT', 6), (2, '('): ('SHIFT', 3), (3, 'int'): ('SHIFT', 6), (3, '('): ('SHIFT', 3), (4, ')'): ('SHIFT', 5), (4, '+'): ('SHIFT', 2), (5, '+'): ('REDUCE', F -> ( E )), (5, '*'): ('REDUCE', F -> ( E )), (5, ')'): ('REDUCE', F -> ( E )), (5, '$'): ('REDUCE', F -> ( E )), (6, '+'): ('REDUCE', F -> int), (6, '*'): ('REDUCE', F -> int), (6, ')'): ('REDUCE', F -> int), (6, '$'): ('REDUCE', F -> int), (7, '+'): ('REDUCE', T -> F), (7, '*'): ('REDUCE', T -> F), (7, ')'): ('REDUCE', T -> F), (7, '$'): ('REDUCE', T -> F), (8, '+'): ('REDUCE', E -> T), (8, '$'): ('REDUCE', E -> T), (8, ')'): ('REDUCE', E -> T), (8, '*'): ('SHIFT', 9), (9, 'int'): ('SHIFT', 6), (9, '('): ('SHIFT', 3), (10, '+'): ('REDUCE', T -> T * F), (10, '*'): ('REDUCE', T -> T * F), (10, ')'): ('REDUCE', T -> T * F), (10, '$'): ('REDUCE', T -> T * F), (11, '*'): ('SHIFT', 9), (11, '+'): ('REDUCE', E -> E + T), (11, '$'): ('REDUCE', E -> E + T), (11, ')'): ('REDUCE', E -> E + T)}\n",
      "action, tsg REDUCE\n",
      "tag T := T * F\n",
      "stack [0, 'E', 1, '+', 2, 'T', 11, '*', 9, 'F', 10]\n",
      "{(0, 'F'): 7, (0, 'E'): 1, (0, 'T'): 8, (2, 'T'): 11, (2, 'F'): 7, (3, 'E'): 4, (3, 'F'): 7, (3, 'T'): 8, (9, 'F'): 10} goto\n",
      "output [F -> int, T -> F, E -> T, F -> int, T -> F, F -> int, T -> T * F]\n",
      "stack [0, 'E', 1, '+', 2, 'T', 11, '*', 9]\n",
      "{(0, 'F'): 7, (0, 'E'): 1, (0, 'T'): 8, (2, 'T'): 11, (2, 'F'): 7, (3, 'E'): 4, (3, 'F'): 7, (3, 'T'): 8, (9, 'F'): 10} goto\n",
      "output [F -> int, T -> F, E -> T, F -> int, T -> F, F -> int, T -> T * F]\n",
      "stack [0, 'E', 1, '+', 2, 'T', 11]\n",
      "{(0, 'F'): 7, (0, 'E'): 1, (0, 'T'): 8, (2, 'T'): 11, (2, 'F'): 7, (3, 'E'): 4, (3, 'F'): 7, (3, 'T'): 8, (9, 'F'): 10} goto\n",
      "output [F -> int, T -> F, E -> T, F -> int, T -> F, F -> int, T -> T * F]\n",
      "[0, 'E', 1, '+', 2, 'T', 11] <---||---> ['$']\n",
      "state, lookahead 11 $\n",
      "{(0, 'int'): ('SHIFT', 6), (0, '('): ('SHIFT', 3), (1, '$'): 'OK', (1, '+'): ('SHIFT', 2), (2, 'int'): ('SHIFT', 6), (2, '('): ('SHIFT', 3), (3, 'int'): ('SHIFT', 6), (3, '('): ('SHIFT', 3), (4, ')'): ('SHIFT', 5), (4, '+'): ('SHIFT', 2), (5, '+'): ('REDUCE', F -> ( E )), (5, '*'): ('REDUCE', F -> ( E )), (5, ')'): ('REDUCE', F -> ( E )), (5, '$'): ('REDUCE', F -> ( E )), (6, '+'): ('REDUCE', F -> int), (6, '*'): ('REDUCE', F -> int), (6, ')'): ('REDUCE', F -> int), (6, '$'): ('REDUCE', F -> int), (7, '+'): ('REDUCE', T -> F), (7, '*'): ('REDUCE', T -> F), (7, ')'): ('REDUCE', T -> F), (7, '$'): ('REDUCE', T -> F), (8, '+'): ('REDUCE', E -> T), (8, '$'): ('REDUCE', E -> T), (8, ')'): ('REDUCE', E -> T), (8, '*'): ('SHIFT', 9), (9, 'int'): ('SHIFT', 6), (9, '('): ('SHIFT', 3), (10, '+'): ('REDUCE', T -> T * F), (10, '*'): ('REDUCE', T -> T * F), (10, ')'): ('REDUCE', T -> T * F), (10, '$'): ('REDUCE', T -> T * F), (11, '*'): ('SHIFT', 9), (11, '+'): ('REDUCE', E -> E + T), (11, '$'): ('REDUCE', E -> E + T), (11, ')'): ('REDUCE', E -> E + T)}\n",
      "action, tsg REDUCE\n",
      "tag E := E + T\n",
      "stack [0, 'E', 1, '+', 2, 'T', 11]\n",
      "{(0, 'F'): 7, (0, 'E'): 1, (0, 'T'): 8, (2, 'T'): 11, (2, 'F'): 7, (3, 'E'): 4, (3, 'F'): 7, (3, 'T'): 8, (9, 'F'): 10} goto\n",
      "output [F -> int, T -> F, E -> T, F -> int, T -> F, F -> int, T -> T * F, E -> E + T]\n",
      "stack [0, 'E', 1, '+', 2]\n",
      "{(0, 'F'): 7, (0, 'E'): 1, (0, 'T'): 8, (2, 'T'): 11, (2, 'F'): 7, (3, 'E'): 4, (3, 'F'): 7, (3, 'T'): 8, (9, 'F'): 10} goto\n",
      "output [F -> int, T -> F, E -> T, F -> int, T -> F, F -> int, T -> T * F, E -> E + T]\n",
      "stack [0, 'E', 1]\n",
      "{(0, 'F'): 7, (0, 'E'): 1, (0, 'T'): 8, (2, 'T'): 11, (2, 'F'): 7, (3, 'E'): 4, (3, 'F'): 7, (3, 'T'): 8, (9, 'F'): 10} goto\n",
      "output [F -> int, T -> F, E -> T, F -> int, T -> F, F -> int, T -> T * F, E -> E + T]\n",
      "[0, 'E', 1] <---||---> ['$']\n",
      "state, lookahead 1 $\n",
      "{(0, 'int'): ('SHIFT', 6), (0, '('): ('SHIFT', 3), (1, '$'): 'OK', (1, '+'): ('SHIFT', 2), (2, 'int'): ('SHIFT', 6), (2, '('): ('SHIFT', 3), (3, 'int'): ('SHIFT', 6), (3, '('): ('SHIFT', 3), (4, ')'): ('SHIFT', 5), (4, '+'): ('SHIFT', 2), (5, '+'): ('REDUCE', F -> ( E )), (5, '*'): ('REDUCE', F -> ( E )), (5, ')'): ('REDUCE', F -> ( E )), (5, '$'): ('REDUCE', F -> ( E )), (6, '+'): ('REDUCE', F -> int), (6, '*'): ('REDUCE', F -> int), (6, ')'): ('REDUCE', F -> int), (6, '$'): ('REDUCE', F -> int), (7, '+'): ('REDUCE', T -> F), (7, '*'): ('REDUCE', T -> F), (7, ')'): ('REDUCE', T -> F), (7, '$'): ('REDUCE', T -> F), (8, '+'): ('REDUCE', E -> T), (8, '$'): ('REDUCE', E -> T), (8, ')'): ('REDUCE', E -> T), (8, '*'): ('SHIFT', 9), (9, 'int'): ('SHIFT', 6), (9, '('): ('SHIFT', 3), (10, '+'): ('REDUCE', T -> T * F), (10, '*'): ('REDUCE', T -> T * F), (10, ')'): ('REDUCE', T -> T * F), (10, '$'): ('REDUCE', T -> T * F), (11, '*'): ('SHIFT', 9), (11, '+'): ('REDUCE', E -> E + T), (11, '$'): ('REDUCE', E -> E + T), (11, ')'): ('REDUCE', E -> E + T)}\n",
      "action, tsg OK\n",
      "[F -> int, T -> F, E -> T, F -> int, T -> F, F -> int, T -> T * F, E -> E + T]\n"
     ]
    },
    {
     "data": {
      "text/plain": [
       "[F -> int, T -> F, E -> T, F -> int, T -> F, F -> int, T -> T * F, E -> E + T]"
      ]
     },
     "execution_count": 55,
     "metadata": {},
     "output_type": "execute_result"
    }
   ],
   "source": [
    "derivation = parser([num, plus, num, star, num, G.EOF])\n",
    "\n",
    "print(str(derivation))\n",
    "assert str(derivation) == '[F -> int, T -> F, E -> T, F -> int, T -> F, F -> int, T -> T * F, E -> E + T]'\n",
    "\n",
    "derivation"
   ]
  },
  {
   "cell_type": "markdown",
   "metadata": {},
   "source": [
    "## Propuestas\n",
    "\n",
    "- Complete el pipeline de evaluación. Observe que esta vez la gramática asocia naturalmente a la izquierda, lo cual debe simplificar la implementación de las reglas semánticas.\n",
    "\n",
    "- Construya directamente la versión determinista del autómata LR(0).\n",
    "\n",
    "- Explore otras gramáticas."
   ]
  },
  {
   "cell_type": "code",
   "execution_count": 56,
   "metadata": {},
   "outputs": [
    {
     "data": {
      "text/plain": [
       "S' -> .S, "
      ]
     },
     "metadata": {},
     "output_type": "display_data"
    },
    {
     "data": {
      "text/plain": [
       "(A -> .i, , V -> .A[E], , S -> .V=E, , S' -> .S, , V -> .i, )"
      ]
     },
     "metadata": {},
     "output_type": "display_data"
    }
   ],
   "source": [
    "TESTING = True\n",
    "if TESTING:\n",
    "    GG = Grammar()\n",
    "\n",
    "    S = GG.NonTerminal('S', True)\n",
    "    V,A,E = GG.NonTerminals('V A E')\n",
    "    i, equal, obrac, cbrac, plus = GG.Terminals('i = [ ] +')\n",
    "\n",
    "    S %= V + equal + E\n",
    "    V %= i | A + obrac + E + cbrac\n",
    "    A %= i\n",
    "    E %= E + plus + V | V\n",
    "\n",
    "    GG = GG.AugmentedGrammar(True)\n",
    "    automaton = build_LR0_automaton(GG)\n",
    "    display(automaton.set_formatter(lr0_formatter))\n",
    "    display(automaton.to_deterministic(lr0_formatter))"
   ]
  },
  {
   "cell_type": "code",
   "execution_count": null,
   "metadata": {},
   "outputs": [],
   "source": []
  }
 ],
 "metadata": {
  "kernelspec": {
   "display_name": "Python 3.11.0 64-bit",
   "language": "python",
   "name": "python3"
  },
  "language_info": {
   "codemirror_mode": {
    "name": "ipython",
    "version": 3
   },
   "file_extension": ".py",
   "mimetype": "text/x-python",
   "name": "python",
   "nbconvert_exporter": "python",
   "pygments_lexer": "ipython3",
   "version": "3.11.0"
  },
  "vscode": {
   "interpreter": {
    "hash": "aee8b7b246df8f9039afb4144a1f6fd8d2ca17a180786b69acc140d282b71a49"
   }
  }
 },
 "nbformat": 4,
 "nbformat_minor": 4
}
