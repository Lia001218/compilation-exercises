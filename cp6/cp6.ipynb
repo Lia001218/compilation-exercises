{
 "cells": [
  {
   "cell_type": "markdown",
   "metadata": {},
   "source": [
    "# Clase Pr\u00e1ctica #6 (Compilaci\u00f3n)"
   ]
  },
  {
   "cell_type": "code",
   "execution_count": null,
   "metadata": {},
   "outputs": [],
   "source": [
    "import pydot"
   ]
  },
  {
   "cell_type": "markdown",
   "metadata": {},
   "source": [
    "## Aut\u00f3matas finitos\n",
    "\n",
    "Un aut\u00f3mata finito (determinista o no determinista) es un qu\u00edntuplo $A = <Q,q_0,V,F,f>$ con las siguientes caracter\u00edsticas:\n",
    "\n",
    "* $Q$ es un conjunto finito de estados ($Q = \\{ q_0, \\ldots, q_n \\}$), de ah\u00ed el adjetivo de **finito**.\n",
    "* $q_0 \\in Q$ es el estado inicial.\n",
    "* $V$ es un conjunto finito de s\u00edmbolos que pueden aparecer en la cinta.\n",
    "* $F \\subseteq Q$ es un subconjunto de estados que denominaremos *estados finales*.\n",
    "* $f$ es una *funci\u00f3n de transici\u00f3n*, que determina, para cada par posible de estados y s\u00edmbolos, cu\u00e1l es el estado de destino. En la forma de esta funci\u00f3n radica justamente la diferencia entre AF determinista y no determinista:\n",
    "    - $f: Q \\times V \\to Q$ denota un aut\u00f3mata **determinista** justamente porque en un estado particular, para un s\u00edmbolo particular, existe solamente un estado posible de destino (o ninguno), por lo tanto, siempre existe una \u00fanica decisi\u00f3n que tomar.\n",
    "    - $f: Q \\times (V \\cup \\{ \\epsilon \\}) \\to 2^Q$ denota un aut\u00f3mata **no determinista** porque en un estado particular, para un s\u00edmbolo particular, existen potencialmente m\u00faltiples estados de destino (o ninguno). Incluso permite realizar $\\epsilon$-transiciones (transiciones que no consumen s\u00edmbolos de la cinta) lo cual resalta a\u00fan m\u00e1s el car\u00e1cter no determinista de estos aut\u00f3matas."
   ]
  },
  {
   "cell_type": "markdown",
   "metadata": {},
   "source": [
    "### Pasando a Python\n",
    "\n",
    "Modelemos los aut\u00f3matas finitos no deterministas con la clase `NFA`. Dado que nunca los usaremos directamente para reconocer cadenas, estos funcionar\u00e1n simplemente como contenedores de los estados y transiciones."
   ]
  },
  {
   "cell_type": "code",
   "execution_count": null,
   "metadata": {},
   "outputs": [],
   "source": [
    "class NFA:\n",
    "    def __init__(self, states, finals, transitions, start=0):\n",
    "        self.states = states\n",
    "        self.start = start\n",
    "        self.finals = set(finals)\n",
    "        self.map = transitions\n",
    "        self.vocabulary = set()\n",
    "        self.transitions = { state: {} for state in range(states) }\n",
    "        \n",
    "        for (origin, symbol), destinations in transitions.items():\n",
    "            assert hasattr(destinations, '__iter__'), 'Invalid collection of states'\n",
    "            self.transitions[origin][symbol] = destinations\n",
    "            self.vocabulary.add(symbol)\n",
    "            \n",
    "        self.vocabulary.discard('')\n",
    "        \n",
    "    def epsilon_transitions(self, state):\n",
    "        assert state in self.transitions, 'Invalid state'\n",
    "        try:\n",
    "            return self.transitions[state]['']\n",
    "        except KeyError:\n",
    "            return ()\n",
    "            \n",
    "    def graph(self):\n",
    "        G = pydot.Dot(rankdir='LR', margin=0.1)\n",
    "        G.add_node(pydot.Node('start', shape='plaintext', label='', width=0, height=0))\n",
    "\n",
    "        for (start, tran), destinations in self.map.items():\n",
    "            tran = '\u03b5' if tran == '' else tran\n",
    "            G.add_node(pydot.Node(start, shape='circle', style='bold' if start in self.finals else ''))\n",
    "            for end in destinations:\n",
    "                G.add_node(pydot.Node(end, shape='circle', style='bold' if end in self.finals else ''))\n",
    "                G.add_edge(pydot.Edge(start, end, label=tran, labeldistance=2))\n",
    "\n",
    "        G.add_edge(pydot.Edge('start', self.start, label='', style='dashed'))\n",
    "        return G\n",
    "\n",
    "    def _repr_svg_(self):\n",
    "        try:\n",
    "            return self.graph().create_svg().decode('utf8')\n",
    "        except:\n",
    "            pass"
   ]
  },
  {
   "cell_type": "markdown",
   "metadata": {},
   "source": [
    "Los par\u00e1metros del constructor tienen la siguente sem\u00e1ntica:\n",
    "- `states`: representa en n\u00famero de estados del aut\u00f3mata. Los estados se modelar\u00e1n como n\u00fameros, comenzando en `0` y hasta `states-1`.\n",
    "- `finals`: representa la colecci\u00f3n de estados finales del aut\u00f3mata. Dado que los estados se representan con n\u00fameros, este debe ser una colecci\u00f3n de n\u00fameros.\n",
    "- `transitions`: representa la funci\u00f3n de transici\u00f3n. Se espera un diccionario que, dados como llaves un estado origen (un n\u00famero) y un s\u00edmbolo (un string), devuelve como valor una colecci\u00f3n de estados destino (n\u00fameros). Para renotar una $\\epsilon$-transici\u00f3n usaremos el string vac\u00edo.\n",
    "- `start`: representa el estado inicial del aut\u00f3mata.\n",
    "\n",
    "Por ejemplo, construyamos un aut\u00f3mata que reconozca el lenguaje de las cadenas sobre `{a,b}*` que terminan en `ba`."
   ]
  },
  {
   "cell_type": "code",
   "execution_count": null,
   "metadata": {},
   "outputs": [],
   "source": [
    "nfa = NFA(states=3, finals=[2], transitions={\n",
    "    (0, 'a'): [0],\n",
    "    (0, 'b'): [0, 1],\n",
    "    (1, 'a'): [2]\n",
    "})\n",
    "nfa"
   ]
  },
  {
   "cell_type": "markdown",
   "metadata": {},
   "source": [
    "![](cp6-files/0.svg)"
   ]
  },
  {
   "cell_type": "markdown",
   "metadata": {},
   "source": [
    "Una vez construida la instancia las transiciones pueden accederse de forma m\u00e1s c\u00f3moda a trav\u00e9s del campo `transitions`. Las transiciones est\u00e1n agrupadas por estado origen, y luego por s\u00edmbolo: $(Q \\to (V \\to Q))$."
   ]
  },
  {
   "cell_type": "code",
   "execution_count": null,
   "metadata": {},
   "outputs": [],
   "source": [
    "nfa.transitions"
   ]
  },
  {
   "cell_type": "markdown",
   "metadata": {},
   "source": [
    "### Aut\u00f3matas finitos deterministas\n",
    "\n",
    "Modelemos los aut\u00f3matas finitos deterministas con la clase `DFA`. Esta clase extiende la clase `NFA` para:\n",
    "- Usar la funci\u00f3n de transici\u00f3n propia de los aut\u00f3matas finitos deterministas.\n",
    "- Implementar un algoritmo de reconocimiento de cadenas."
   ]
  },
  {
   "cell_type": "code",
   "execution_count": null,
   "metadata": {},
   "outputs": [],
   "source": [
    "class DFA(NFA):\n",
    "    \n",
    "    def __init__(self, states, finals, transitions, start=0):\n",
    "        assert all(isinstance(value, int) for value in transitions.values())\n",
    "        assert all(len(symbol) > 0 for origin, symbol in transitions)\n",
    "        \n",
    "        transitions = { key: [value] for key, value in transitions.items() }\n",
    "        NFA.__init__(self, states, finals, transitions, start)\n",
    "        self.current = start\n",
    "        \n",
    "    def _move(self, symbol):\n",
    "        # Your code here\n",
    "        pass\n",
    "    \n",
    "    def _reset(self):\n",
    "        self.current = self.start\n",
    "        \n",
    "    def recognize(self, string):\n",
    "        # Your code here\n",
    "        pass\n"
   ]
  },
  {
   "cell_type": "markdown",
   "metadata": {},
   "source": [
    "La instancia se construye de forma similar a los NFA, salvo por la forma de la funci\u00f3n de transici\u00f3n que, en lugar de una colecci\u00f3n de estados destino, contiene un \u00fanico estado destino."
   ]
  },
  {
   "cell_type": "code",
   "execution_count": null,
   "metadata": {},
   "outputs": [],
   "source": [
    "automaton = DFA(states=3, finals=[2], transitions={\n",
    "    (0, 'a'): 0,\n",
    "    (0, 'b'): 1,\n",
    "    (1, 'a'): 2,\n",
    "    (1, 'b'): 1,\n",
    "    (2, 'a'): 0,\n",
    "    (2, 'b'): 1,\n",
    "})\n",
    "automaton"
   ]
  },
  {
   "cell_type": "markdown",
   "metadata": {},
   "source": [
    "![](cp6-files/1.svg)"
   ]
  },
  {
   "cell_type": "markdown",
   "metadata": {},
   "source": [
    "El aut\u00f3mata anterior reconoce el lenguaje de las cadenas sobre `{a,b}*` que terminan en `ba`."
   ]
  },
  {
   "cell_type": "code",
   "execution_count": null,
   "metadata": {},
   "outputs": [],
   "source": [
    "assert automaton.recognize('ba')\n",
    "assert automaton.recognize('aababbaba')\n",
    "\n",
    "assert not automaton.recognize('')\n",
    "assert not automaton.recognize('aabaa')\n",
    "assert not automaton.recognize('aababb')"
   ]
  },
  {
   "cell_type": "markdown",
   "metadata": {},
   "source": [
    "## Equivalencia entre DFA y NFA\n",
    "\n",
    "Como estudiamos en conferencia, los aut\u00f3matas finitos deterministas y no deterministas tienen el mismo poder de reconocimiento: ambos reconocen la familia de lenguajes regulares. Dicha caracter\u00edstica nos indica que deber\u00edan ser transformables los unos a los otros.\n",
    "\n",
    "La transformaci\u00f3n de DFA a NFA es bastante trivial, ya que un aut\u00f3mata finito determinista puede verse como uno no deterministas sin $\\epsilon$-transiciones y en el que los conjuntos de estados destinos en las respectivas transiciones siempre tiene tama\u00f1o 1 (o 0). De hecho, eso es lo que hacemos en el constructor de la clase `DFA` que hereda de `NFA`.\n",
    "\n",
    "La transformaci\u00f3n de NFA a DFA se basa en simular las transiciones entre los posibles estados en los que puede estar a la vez el NFA durante el reconocimiento de cualquier cadena. Los estados de la versi\u00f3n transformada del NFA ser\u00e1n cada uno un subconjunto del conjunto de estados original. Sabemos que el n\u00famero de posibles configuraciones de estados en los que puede estar a la vez es finito, ya que el n\u00famero de estados del aut\u00f3mata es finito. Un aut\u00f3mata con $N$ estados puede tener a lo sumo $2^N$ posibles configuraciones de estados distintas.\n",
    "\n",
    "El algoritmo cl\u00e1sico para convertir de NFA a DFA se apoya en 2 definiciones auxiliares:\n",
    "- `move(T,a)`: conjunto de estados del NFA hacia los que hay una transici\u00f3n con el s\u00edmbolo de entrada `a` desde alg\u00fan estado de `T`.\n",
    "- $\\epsilon$-closure`(T)`: conjunto de estados del NFA alcanzables desde alg\u00fan estado de `T` realizando \u00fanicamente $\\epsilon$-transiciones."
   ]
  },
  {
   "cell_type": "code",
   "execution_count": null,
   "metadata": {},
   "outputs": [],
   "source": [
    "from cmp.utils import ContainerSet"
   ]
  },
  {
   "cell_type": "markdown",
   "metadata": {},
   "source": [
    "Trabajaremos con el siguiente aut\u00f3mata de ejemplo, que reconoce el lenguaje `c*|(a|b)d*`."
   ]
  },
  {
   "cell_type": "code",
   "execution_count": null,
   "metadata": {},
   "outputs": [],
   "source": [
    "automaton = NFA(states=6, finals=[3, 5], transitions={\n",
    "    (0, ''): [ 1, 2 ],\n",
    "    (1, ''): [ 3 ],\n",
    "    (1,'b'): [ 4 ],\n",
    "    (2,'a'): [ 4 ],\n",
    "    (3,'c'): [ 3 ],\n",
    "    (4, ''): [ 5 ],\n",
    "    (5,'d'): [ 5 ]\n",
    "})\n",
    "automaton"
   ]
  },
  {
   "cell_type": "markdown",
   "metadata": {},
   "source": [
    "![](cp6-files/2.svg)"
   ]
  },
  {
   "cell_type": "markdown",
   "metadata": {},
   "source": [
    "Pasemos a computar `move(T,a)`. El m\u00e9todo `move(automaton, states, symbol)` computa el conjunto `move(states, symbol)` con las transiciones registradas en `automaton`."
   ]
  },
  {
   "cell_type": "code",
   "execution_count": null,
   "metadata": {},
   "outputs": [],
   "source": [
    "def move(automaton, states, symbol):\n",
    "    moves = set()\n",
    "    for state in states:\n",
    "        # Your code here\n",
    "        pass\n",
    "    return moves\n",
    "\n",
    "assert move(automaton, [1], 'a') == set()\n",
    "assert move(automaton, [2], 'a') == {4}\n",
    "assert move(automaton, [1, 5], 'd') == {5}"
   ]
  },
  {
   "cell_type": "markdown",
   "metadata": {},
   "source": [
    "Pasemos a computar $\\epsilon$-closure`(T)`. El m\u00e9todo `epsilon_closure(automaton, states)` computa el conjunto $\\epsilon$-closure`(states)` con las transiciones registradas en `automaton`."
   ]
  },
  {
   "cell_type": "code",
   "execution_count": null,
   "metadata": {},
   "outputs": [],
   "source": [
    "def epsilon_closure(automaton, states):\n",
    "    pending = [ s for s in states ] # equivalente a list(states) pero me gusta as\u00ed :p\n",
    "    closure = { s for s in states } # equivalente a  set(states) pero me gusta as\u00ed :p\n",
    "    \n",
    "    while pending:\n",
    "        state = pending.pop()\n",
    "        # Your code here\n",
    "                \n",
    "    return ContainerSet(*closure)\n",
    "\n",
    "assert epsilon_closure(automaton, [0]) == {0,1,2,3}\n",
    "assert epsilon_closure(automaton, [0, 4]) == {0,1,2,3,4,5}\n",
    "assert epsilon_closure(automaton, [1, 2, 4]) == {1,2,3,4,5}"
   ]
  },
  {
   "cell_type": "markdown",
   "metadata": {},
   "source": [
    "Finalmente implementemos el algoritmo para convertir de aut\u00f3mata finito no determinista a determinista."
   ]
  },
  {
   "cell_type": "code",
   "execution_count": null,
   "metadata": {},
   "outputs": [],
   "source": [
    "def nfa_to_dfa(automaton):\n",
    "    transitions = {}\n",
    "    \n",
    "    start = epsilon_closure(automaton, [automaton.start])\n",
    "    start.id = 0\n",
    "    start.is_final = any(s in automaton.finals for s in start)\n",
    "    states = [ start ]\n",
    "\n",
    "    pending = [ start ]\n",
    "    while pending:\n",
    "        state = pending.pop()\n",
    "        \n",
    "        for symbol in automaton.vocabulary:\n",
    "            # Your code here\n",
    "            # ...\n",
    "\n",
    "            try:\n",
    "                transitions[state.id, symbol]\n",
    "                assert False, 'Invalid DFA!!!'\n",
    "            except KeyError:\n",
    "                # Your code here\n",
    "                pass\n",
    "    \n",
    "    finals = [ state.id for state in states if state.is_final ]\n",
    "    dfa = DFA(len(states), finals, transitions)\n",
    "    return dfa"
   ]
  },
  {
   "cell_type": "markdown",
   "metadata": {},
   "source": [
    "Comprobemos que funciona el algoritmo. El DFA resultante deber\u00eda reconocer el mismo lenguaje que el NFA original: `c*|(a|b)d*`."
   ]
  },
  {
   "cell_type": "code",
   "execution_count": null,
   "metadata": {},
   "outputs": [],
   "source": [
    "dfa = nfa_to_dfa(automaton)\n",
    "display(dfa)\n",
    "\n",
    "assert dfa.states == 4\n",
    "assert len(dfa.finals) == 4\n",
    "\n",
    "assert dfa.recognize('')\n",
    "assert dfa.recognize('a')\n",
    "assert dfa.recognize('b')\n",
    "assert dfa.recognize('cccccc')\n",
    "assert dfa.recognize('adddd')\n",
    "assert dfa.recognize('bdddd')\n",
    "\n",
    "assert not dfa.recognize('dddddd')\n",
    "assert not dfa.recognize('cdddd')\n",
    "assert not dfa.recognize('aa')\n",
    "assert not dfa.recognize('ab')\n",
    "assert not dfa.recognize('ddddc')"
   ]
  },
  {
   "cell_type": "markdown",
   "metadata": {},
   "source": [
    "![](cp6-files/3.svg)"
   ]
  },
  {
   "cell_type": "markdown",
   "metadata": {},
   "source": [
    "### Probando con otros aut\u00f3matas\n",
    "\n",
    "Qu\u00e9 lenguaje reconoce el siguiente aut\u00f3mata?"
   ]
  },
  {
   "cell_type": "code",
   "execution_count": null,
   "metadata": {},
   "outputs": [],
   "source": [
    "automaton = NFA(states=3, finals=[2], transitions={\n",
    "    (0,'a'): [ 0 ],\n",
    "    (0,'b'): [ 0, 1 ],\n",
    "    (1,'a'): [ 2 ],\n",
    "    (1,'b'): [ 2 ],\n",
    "})\n",
    "display(automaton)\n",
    "\n",
    "print(\"No s\u00e9 que lenguaje reconoce :'(\")\n",
    "\n",
    "\n",
    "assert move(automaton, [0, 1], 'a') == {0, 2}\n",
    "assert move(automaton, [0, 1], 'b') == {0, 1, 2}\n",
    "\n",
    "dfa = nfa_to_dfa(automaton)\n",
    "display(dfa)\n",
    "\n",
    "assert dfa.states == 4\n",
    "assert len(dfa.finals) == 2\n",
    "\n",
    "assert dfa.recognize('aba')\n",
    "assert dfa.recognize('bb')\n",
    "assert dfa.recognize('aaaaaaaaaaaba')\n",
    "\n",
    "assert not dfa.recognize('aaa')\n",
    "assert not dfa.recognize('ab')\n",
    "assert not dfa.recognize('b')\n",
    "assert not dfa.recognize('')"
   ]
  },
  {
   "cell_type": "markdown",
   "metadata": {},
   "source": [
    "![](cp6-files/4.svg)\n",
    "![](cp6-files/5.svg)"
   ]
  },
  {
   "cell_type": "markdown",
   "metadata": {},
   "source": [
    "Y este?"
   ]
  },
  {
   "cell_type": "code",
   "execution_count": null,
   "metadata": {},
   "outputs": [],
   "source": [
    "automaton = NFA(states=5, finals=[4], transitions={\n",
    "    (0,'a'): [ 0, 1 ],\n",
    "    (0,'b'): [ 0, 2 ],\n",
    "    (0,'c'): [ 0, 3 ],\n",
    "    (1,'a'): [ 1, 4 ],\n",
    "    (1,'b'): [ 1 ],\n",
    "    (1,'c'): [ 1 ],\n",
    "    (2,'a'): [ 2 ],\n",
    "    (2,'b'): [ 2, 4 ],\n",
    "    (2,'c'): [ 2 ],\n",
    "    (3,'a'): [ 3 ],\n",
    "    (3,'b'): [ 3 ],\n",
    "    (3,'c'): [ 3, 4 ],\n",
    "})\n",
    "display(automaton)\n",
    "\n",
    "print(\"No s\u00e9 que lenguaje reconoce :'(\")\n",
    "\n",
    "dfa = nfa_to_dfa(automaton)\n",
    "display(dfa)\n",
    "\n",
    "assert dfa.states == 15\n",
    "assert len(dfa.finals) == 7\n",
    "\n",
    "assert dfa.recognize('abccac')\n",
    "assert dfa.recognize('bbbbbbbbaa')\n",
    "assert dfa.recognize('cac')\n",
    "\n",
    "assert not dfa.recognize('abbbbc')\n",
    "assert not dfa.recognize('a')\n",
    "assert not dfa.recognize('')\n",
    "assert not dfa.recognize('acacacaccab')"
   ]
  },
  {
   "cell_type": "markdown",
   "metadata": {},
   "source": [
    "![](cp6-files/6.svg)\n",
    "![](cp6-files/7.svg)"
   ]
  },
  {
   "cell_type": "markdown",
   "metadata": {},
   "source": [
    "Se le ocurre un aut\u00f3mata determinista para este lenguaje sin pasar por la transformaci\u00f3n? "
   ]
  },
  {
   "cell_type": "markdown",
   "metadata": {},
   "source": [
    "## Propuestas\n",
    "\n",
    "- Implemente un algoritmo para reconocer si una cadena pertenece o no al lenguaje denotado por un aut\u00f3mata finito no determinista. Evite utilizar `backtrack` o transformar completamente el NFA a DFA. "
   ]
  }
 ],
 "metadata": {
  "kernelspec": {
   "display_name": "Python 3",
   "language": "python",
   "name": "python3"
  },
  "language_info": {
   "codemirror_mode": {
    "name": "ipython",
    "version": 3
   },
   "file_extension": ".py",
   "mimetype": "text/x-python",
   "name": "python",
   "nbconvert_exporter": "python",
   "pygments_lexer": "ipython3",
   "version": "3.7.3"
  }
 },
 "nbformat": 4,
 "nbformat_minor": 4
}