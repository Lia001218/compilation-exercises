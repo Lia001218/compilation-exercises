{
 "cells": [
  {
   "cell_type": "markdown",
   "metadata": {},
   "source": [
    "# Clase Práctica #7 (Compilación)\n",
    "\n",
    "En esta clase estaremos implementando algunas de las operaciones más importantes entre autómatas. Específicamente implementaremos **unión**, **concatenación** y **clausura**, las cuales juegan un papel fundamental en la construcción del intérprete de expresiones regulares en el que trabajaremos la semana próxima."
   ]
  },
  {
   "cell_type": "code",
   "execution_count": 1,
   "metadata": {},
   "outputs": [],
   "source": [
    "from cmp.tools.automata import NFA, DFA, nfa_to_dfa"
   ]
  },
  {
   "cell_type": "markdown",
   "metadata": {},
   "source": [
    "## Operaciones entre autómatas\n",
    "\n",
    "Trabajemos con el siguiente autómata de ejemplo. El lenguaje que reconoce dicho autómata es `(a|b)*b`."
   ]
  },
  {
   "cell_type": "code",
   "execution_count": null,
   "metadata": {},
   "outputs": [],
   "source": [
    "automaton = DFA(states=2, finals=[1], transitions={\n",
    "    (0,'a'):  0,\n",
    "    (0,'b'):  1,\n",
    "    (1,'a'):  0,\n",
    "    (1,'b'):  1,\n",
    "})\n",
    "automaton"
   ]
  },
  {
   "cell_type": "markdown",
   "metadata": {},
   "source": [
    "### Unión de autómatas\n",
    "\n",
    "Dados 2 autómatas finitos `a1` y `a2` se define el autómata **unión** entre ellos como el autómata que reconoce $L(a_1) \\cup L(a_2)$. Dicho de otra forma, reconoce el lenguaje $L(a_1 \\cup a_2) = \\{w $| $w \\in L(a_1) \\lor w \\in L(a_2)\\}$."
   ]
  },
  {
   "cell_type": "code",
   "execution_count": null,
   "metadata": {
    "jupyter": {
     "source_hidden": true
    }
   },
   "outputs": [],
   "source": [
    "def automata_union(a1, a2):\n",
    "    transitions = {}\n",
    "    \n",
    "    start = 0\n",
    "    d1 = 1\n",
    "    d2 = a1.states + d1\n",
    "    final = a2.states + d2\n",
    "    \n",
    "    for (origin, symbol), destinations in a1.map.items():\n",
    "        ## Relocate a1 transitions ...\n",
    "        # Your code here\n",
    "        pass\n",
    "\n",
    "    for (origin, symbol), destinations in a2.map.items():\n",
    "        ## Relocate a2 transitions ...\n",
    "        # Your code here\n",
    "        pass\n",
    "    \n",
    "    ## Add transitions from start state ...\n",
    "    # Your code here\n",
    "    \n",
    "    ## Add transitions to final state ...\n",
    "    # Your code here\n",
    "            \n",
    "    states = a1.states + a2.states + 2\n",
    "    finals = { final }\n",
    "    \n",
    "    return NFA(states, finals, transitions, start)"
   ]
  },
  {
   "cell_type": "markdown",
   "metadata": {},
   "source": [
    "Comprobemos que `automata_union(automaton, automaton)` reconoce el propio lenguaje `(a|b)*b`."
   ]
  },
  {
   "cell_type": "code",
   "execution_count": null,
   "metadata": {},
   "outputs": [],
   "source": [
    "union = automata_union(automaton, automaton)\n",
    "display(union)\n",
    "recognize = nfa_to_dfa(union).recognize\n",
    "\n",
    "assert union.states == 2 * automaton.states + 2\n",
    "\n",
    "assert recognize('b')\n",
    "assert recognize('abbb')\n",
    "assert recognize('abaaababab')\n",
    "\n",
    "assert not recognize('')\n",
    "assert not recognize('a')\n",
    "assert not recognize('abbbbaa')"
   ]
  },
  {
   "cell_type": "markdown",
   "metadata": {},
   "source": [
    "### Concatenación de autómatas"
   ]
  },
  {
   "cell_type": "markdown",
   "metadata": {},
   "source": [
    "Dados 2 autómatas finitos `a1` y `a2` se define el autómata **concatenación** entre ellos como el autómata que reconoce $L(a_1) L(a_2)$. Dicho de otra forma, reconoce el lenguaje $L(a_1 a_2) = \\{vw $| $v \\in L(a_1) \\land w \\in L(a_2)\\}$."
   ]
  },
  {
   "cell_type": "code",
   "execution_count": null,
   "metadata": {
    "jupyter": {
     "source_hidden": true
    }
   },
   "outputs": [],
   "source": [
    "def automata_concatenation(a1, a2):\n",
    "    transitions = {}\n",
    "    \n",
    "    start = 0\n",
    "    d1 = 0\n",
    "    d2 = a1.states + d1\n",
    "    final = a2.states + d2\n",
    "    \n",
    "    for (origin, symbol), destinations in a1.map.items():\n",
    "        ## Relocate a1 transitions ...\n",
    "        # Your code here\n",
    "        pass\n",
    "\n",
    "    for (origin, symbol), destinations in a2.map.items():\n",
    "        ## Relocate a2 transitions ...\n",
    "        # Your code here\n",
    "        pass\n",
    "    \n",
    "    ## Add transitions to final state ...\n",
    "    # Your code here\n",
    "            \n",
    "    states = a1.states + a2.states + 1\n",
    "    finals = { final }\n",
    "    \n",
    "    return NFA(states, finals, transitions, start)"
   ]
  },
  {
   "cell_type": "markdown",
   "metadata": {},
   "source": [
    "Comprobemos que `automata_concatenation(automaton, automaton)` reconoce el lenguaje `(a|b)*b(a|b)*b`."
   ]
  },
  {
   "cell_type": "code",
   "execution_count": null,
   "metadata": {},
   "outputs": [],
   "source": [
    "concat = automata_concatenation(automaton, automaton)\n",
    "display(concat)\n",
    "recognize = nfa_to_dfa(concat).recognize\n",
    "\n",
    "assert concat.states == 2 * automaton.states + 1\n",
    "\n",
    "assert recognize('bb')\n",
    "assert recognize('abbb')\n",
    "assert recognize('abaaababab')\n",
    "\n",
    "assert not recognize('')\n",
    "assert not recognize('a')\n",
    "assert not recognize('b')\n",
    "assert not recognize('ab')\n",
    "assert not recognize('aaaab')\n",
    "assert not recognize('abbbbaa')"
   ]
  },
  {
   "cell_type": "markdown",
   "metadata": {},
   "source": [
    "### Clausura de autómatas\n",
    "\n",
    "Dado un autómata finito `a1` se define el autómata **clausura** de `a1` como el autómata que reconoce $L(a_1)^*$. Dicho de otra forma, reconoce el lenguaje $L(a_1^*) = L(a_1)^n$, con $n \\geq 0$."
   ]
  },
  {
   "cell_type": "code",
   "execution_count": null,
   "metadata": {
    "jupyter": {
     "source_hidden": true
    }
   },
   "outputs": [],
   "source": [
    "def automata_closure(a1):\n",
    "    transitions = {}\n",
    "    \n",
    "    start = 0\n",
    "    d1 = 1\n",
    "    final = a1.states + d1\n",
    "    \n",
    "    for (origin, symbol), destinations in a1.map.items():\n",
    "        ## Relocate automaton transitions ...\n",
    "        # Your code here\n",
    "    \n",
    "    ## Add transitions from start state ...\n",
    "    # Your code here\n",
    "    \n",
    "    ## Add transitions to final state and to start state ...\n",
    "    # Your code here\n",
    "            \n",
    "    states = a1.states +  2\n",
    "    finals = { final }\n",
    "    \n",
    "    return NFA(states, finals, transitions, start)"
   ]
  },
  {
   "cell_type": "code",
   "execution_count": null,
   "metadata": {},
   "outputs": [],
   "source": []
  },
  {
   "cell_type": "code",
   "execution_count": null,
   "metadata": {},
   "outputs": [],
   "source": []
  },
  {
   "cell_type": "markdown",
   "metadata": {},
   "source": [
    "Comprobemos que `automata_closure(automaton)` reconoce el lenguaje `((a|b)*b)*`."
   ]
  },
  {
   "cell_type": "code",
   "execution_count": null,
   "metadata": {},
   "outputs": [],
   "source": [
    "closure = automata_closure(automaton)\n",
    "display(closure)\n",
    "recognize = nfa_to_dfa(closure).recognize\n",
    "\n",
    "assert closure.states == automaton.states + 2\n",
    "\n",
    "assert recognize('')\n",
    "assert recognize('b')\n",
    "assert recognize('ab')\n",
    "assert recognize('bb')\n",
    "assert recognize('abbb')\n",
    "assert recognize('abaaababab')\n",
    "\n",
    "assert not recognize('a')\n",
    "assert not recognize('abbbbaa')"
   ]
  },
  {
   "cell_type": "markdown",
   "metadata": {},
   "source": [
    "### Minimización de autómatas\n",
    "\n",
    "Hasta ahora hemos estado ignorando la cantidad de estados del autómata. Sin embargo, resulta conveniente obtener el DFA con menor cantidad de estados. Se puede demostrar que siempre hay un único DFA con la mínima cantidad de estados para cualquier lenguaje regular. Dicho autómata puede ser construido a partir de cualquier otro DFA del lenguaje como resultado de agrupar conjuntos de estados equivalentes.\n",
    "\n",
    "El algoritmo de minimización particiona los estados del DFA en grupos de estados que no puedan ser diferenciados _(comenzando en ellos, cualquier cadena termina siendo igualmente aceptada o no)_. Cada grupo de estados es mezclado posteriormente en un único estado del DFA resultante. A medida que avanza el algoritmo, los estados en el mismo grupo representan estados que aún no se han podido diferenciar, mientras que dos estados cualesquiera de distintos grupos ya fueron diferenciados. Una vez que la partición no pueda ser refinada más, el algoritmo se detiene pues encontró el DFA con menor cantidad de estados.\n",
    "\n",
    "El algoritmo funciona de la siguiente forma:\n",
    "1. Comenzar con una partición inicial $\\Pi$ en dos grupos, $F$ y $Q - F$, con los estados finales y no finales respectivamente.\n",
    "2. Inicializar $\\Pi_{new} = \\Pi$\n",
    "3. Por cada grupo $G$ en la partición $\\Pi$:\n",
    "    1. Particionar $G$ en subgrupos de forma tal que: dos estados $s$ y $t$ están en el mismo grupo **si y solo si** para todo símbolo $a$ del vocabulario, los estados $s$ y $t$ tienen transición con $a$ hacia estados en el mismo grupo de $\\Pi$.\n",
    "    2. Reemplazar $G$ in $\\Pi_{new}$ por los subgrupos formados.\n",
    "4. Si $\\Pi_{new} = \\Pi$, hacer $\\Pi_{final} = \\Pi$ y continuar al paso `5`. En otro caso, regresar al paso `2` con $\\Pi_{new}$ en el lugar de $\\Pi$.\n",
    "5. Seleccionar un estado de cada grupo de $\\Pi_{final}$ como el _representante_ de ese grupo. Los representantes serán los estados del DFA con la mínima cantidad de estados. El resto de los componentes se construyen de la siguiente forma:\n",
    "    1. El estado inicial es el representante del grupo que contiene al estado inicial del autómata original.\n",
    "    2. Los estados finales son los representantes de los grupos que contienen uno de los estados finales originales. _Note que cada grupo contiene solamente estados finales o no finales, ya que se parte de una partición que los separa y nunca se vuelven a unir_.\n",
    "    3. Las transiciones se obtienen entre los representantes de cada grupo. Sea $s$ el representante de algún grupo de $G$, y sea, $(s, a) \\to t$, la transición del autómata original desde $s$ con un símbolo $a$. Sea $r$ el representante de $t$ en su grupo $H$. Entonces en el autómata resultante estará la transición: $(s, a) \\to r$."
   ]
  },
  {
   "cell_type": "markdown",
   "metadata": {},
   "source": [
    "Utilizaremos la implementación de la estructura de datos _conjuntos disjuntos_ de `cmp.utils`. A continuación se ilustra el uso de las funcionalidades más relevantes de la mismas."
   ]
  },
  {
   "cell_type": "code",
   "execution_count": null,
   "metadata": {},
   "outputs": [],
   "source": [
    "from cmp.utils import DisjointSet\n",
    "\n",
    "dset = DisjointSet(*range(10))\n",
    "print('> Inicializando conjuntos disjuntos:\\n', dset)\n",
    "\n",
    "dset.merge([5,9])\n",
    "print('> Mezclando conjuntos 5 y 9:\\n', dset)\n",
    "\n",
    "dset.merge([8,0,2])\n",
    "print('> Mezclando conjuntos 8, 0 y 2:\\n', dset)\n",
    "\n",
    "dset.merge([2,9])\n",
    "print('> Mezclando conjuntos 2 y 9:\\n', dset)\n",
    "\n",
    "print('> Representantes:\\n', dset.representatives)\n",
    "print('> Grupos:\\n', dset.groups)\n",
    "print('> Nodos:\\n', dset.nodes)\n",
    "print('> Conjunto 0:\\n', dset[0], '--->', type(dset[0]))\n",
    "print('> Conjunto 0 [valor]:\\n', dset[0].value, '--->' , type(dset[0].value))\n",
    "print('> Conjunto 0 [representante]:\\n', dset[0].representative, '--->' , type(dset[0].representative))"
   ]
  },
  {
   "cell_type": "markdown",
   "metadata": {},
   "source": [
    "Trabajaremos sobre el siguiente autómamata que reconoce el lenguaje `(a|b)*abb`. Note que los estados `0` y `2` pueden ser mezclados."
   ]
  },
  {
   "cell_type": "code",
   "execution_count": null,
   "metadata": {},
   "outputs": [],
   "source": [
    "automaton = DFA(states=5, finals=[4], transitions={\n",
    "    (0,'a'): 1,\n",
    "    (0,'b'): 2,\n",
    "    (1,'a'): 1,\n",
    "    (1,'b'): 3,\n",
    "    (2,'a'): 1,\n",
    "    (2,'b'): 2,\n",
    "    (3,'a'): 1,\n",
    "    (3,'b'): 4,\n",
    "    (4,'a'): 1,\n",
    "    (4,'b'): 2,\n",
    "})\n",
    "automaton"
   ]
  },
  {
   "cell_type": "markdown",
   "metadata": {},
   "source": [
    "Implementemos los métodos siguientes, donde:\n",
    "\n",
    "- `distinguish_states(group, automaton, partition)`: devuelve los subgrupos que se obtienen de diferenciar los estados de `group` según la partición `partition`.\n",
    "> `int[][]`: Lista de las listas de estados en las que se dividió `group`.\n",
    "\n",
    "- `state_minimization(automaton)`: devuelve una partición de los estados de `automaton`.\n",
    "> `DisjointSet`: Conjunto disjunto sobre los estados de `automaton`.\n",
    "\n",
    "- `automata_minimization(automaton)`: devuelve el DFA con la mínima cantidad de estados que reconoce el mismo lenguaje que el DFA `automaton`."
   ]
  },
  {
   "cell_type": "code",
   "execution_count": null,
   "metadata": {
    "jupyter": {
     "source_hidden": true
    }
   },
   "outputs": [],
   "source": [
    "def distinguish_states(group, automaton, partition):\n",
    "    split = {}\n",
    "    vocabulary = tuple(automaton.vocabulary)\n",
    "\n",
    "    for member in group:\n",
    "        # Your code here\n",
    "        pass\n",
    "\n",
    "    return [ group for group in split.values()]\n",
    "            \n",
    "def state_minimization(automaton):\n",
    "    partition = DisjointSet(*range(automaton.states))\n",
    "    \n",
    "    ## partition = { NON-FINALS | FINALS }\n",
    "    # Your code here\n",
    "    \n",
    "    while True:\n",
    "        new_partition = DisjointSet(*range(automaton.states))\n",
    "        \n",
    "        ## Split each group if needed (use distinguish_states(group, automaton, partition))\n",
    "        # Your code here\n",
    "\n",
    "        if len(new_partition) == len(partition):\n",
    "            break\n",
    "\n",
    "        partition = new_partition\n",
    "        \n",
    "    return partition\n",
    "\n",
    "def automata_minimization(automaton):\n",
    "    partition = state_minimization(automaton)\n",
    "    \n",
    "    states = [s for s in partition.representatives]\n",
    "    \n",
    "    transitions = {}\n",
    "    for i, state in enumerate(states):\n",
    "        ## origin = ???\n",
    "        # Your code here\n",
    "        for symbol, destinations in automaton.transitions[origin].items():\n",
    "            # Your code here\n",
    "            \n",
    "            try:\n",
    "                transitions[i,symbol]\n",
    "                assert False\n",
    "            except KeyError:\n",
    "                # Your code here\n",
    "                pass\n",
    "    \n",
    "    ## finals = ???\n",
    "    ## start  = ???\n",
    "    # Your code here\n",
    "    \n",
    "    return DFA(len(states), finals, transitions, start)"
   ]
  },
  {
   "cell_type": "markdown",
   "metadata": {},
   "source": [
    "Comprobemos que al minimizar los estados del autómata, solo los estados `0` y `2` quedan en el mismo grupo, pues no son diferenciables."
   ]
  },
  {
   "cell_type": "code",
   "execution_count": null,
   "metadata": {},
   "outputs": [],
   "source": [
    "states = state_minimization(automaton)\n",
    "print(states)\n",
    "\n",
    "for members in states.groups:\n",
    "    all_in_finals = all(m.value in automaton.finals for m in members)\n",
    "    none_in_finals = all(m.value not in automaton.finals for m in members)\n",
    "    assert all_in_finals or none_in_finals\n",
    "    \n",
    "assert len(states) == 4\n",
    "assert states[0].representative == states[2].representative\n",
    "assert states[1].representative == states[1]\n",
    "assert states[3].representative == states[3]\n",
    "assert states[4].representative == states[4]"
   ]
  },
  {
   "cell_type": "markdown",
   "metadata": {},
   "source": [
    "Comprobemos que el algoritmo de minimización funciona correctamente. La cantidad de estados debe haberse reducido puesto que los estados `0` y `2` no son diferenciables. El autómata debe seguir reconociendo el lenguaje `(a|b)*abb`."
   ]
  },
  {
   "cell_type": "code",
   "execution_count": null,
   "metadata": {},
   "outputs": [],
   "source": [
    "mini = automata_minimization(automaton)\n",
    "display(mini)\n",
    "\n",
    "assert mini.states == 4\n",
    "\n",
    "assert mini.recognize('abb')\n",
    "assert mini.recognize('ababbaabb')\n",
    "\n",
    "assert not mini.recognize('')\n",
    "assert not mini.recognize('ab')\n",
    "assert not mini.recognize('aaaaa')\n",
    "assert not mini.recognize('bbbbb')\n",
    "assert not mini.recognize('abbabababa')"
   ]
  },
  {
   "cell_type": "markdown",
   "metadata": {},
   "source": [
    "## Propuestas\n",
    "- Implemente el resto de las operaciones entre autómatas vistas en conferencia:\n",
    "    - Complemento\n",
    "    - Intersección\n",
    "    - Diferencia\n",
    "    - Reverso\n",
    "    - Zip"
   ]
  }
 ],
 "metadata": {
  "kernelspec": {
   "display_name": "Python 3.10.7 64-bit",
   "language": "python",
   "name": "python3"
  },
  "language_info": {
   "codemirror_mode": {
    "name": "ipython",
    "version": 3
   },
   "file_extension": ".py",
   "mimetype": "text/x-python",
   "name": "python",
   "nbconvert_exporter": "python",
   "pygments_lexer": "ipython3",
   "version": "3.10.7"
  },
  "vscode": {
   "interpreter": {
    "hash": "aee8b7b246df8f9039afb4144a1f6fd8d2ca17a180786b69acc140d282b71a49"
   }
  }
 },
 "nbformat": 4,
 "nbformat_minor": 4
}
