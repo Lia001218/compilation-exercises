{
 "cells": [
  {
   "cell_type": "markdown",
   "metadata": {},
   "source": [
    "# Clase Práctica #7 (Compilación)\n",
    "\n",
    "En esta clase estaremos implementando algunas de las operaciones más importantes entre autómatas. Específicamente implementaremos **unión**, **concatenación** y **clausura**, las cuales juegan un papel fundamental en la construcción del intérprete de expresiones regulares en el que trabajaremos la semana próxima."
   ]
  },
  {
   "cell_type": "code",
   "execution_count": 276,
   "metadata": {},
   "outputs": [],
   "source": [
    "from cmp.tools.automata import NFA, DFA, nfa_to_dfa"
   ]
  },
  {
   "cell_type": "markdown",
   "metadata": {},
   "source": [
    "## Operaciones entre autómatas\n",
    "\n",
    "Trabajemos con el siguiente autómata de ejemplo. El lenguaje que reconoce dicho autómata es `(a|b)*b`."
   ]
  },
  {
   "cell_type": "code",
   "execution_count": 277,
   "metadata": {},
   "outputs": [
    {
     "data": {
      "text/plain": [
       "<cmp.tools.automata.DFA at 0x10965dd20>"
      ]
     },
     "execution_count": 277,
     "metadata": {},
     "output_type": "execute_result"
    }
   ],
   "source": [
    "automaton = DFA(states=2, finals=[1], transitions={\n",
    "    (0,'a'):  0,\n",
    "    (0,'b'):  1,\n",
    "    (1,'a'):  0,\n",
    "    (1,'b'):  1,\n",
    "})\n",
    "automaton"
   ]
  },
  {
   "cell_type": "markdown",
   "metadata": {},
   "source": [
    "### Unión de autómatas\n",
    "\n",
    "Dados 2 autómatas finitos `a1` y `a2` se define el autómata **unión** entre ellos como el autómata que reconoce $L(a_1) \\cup L(a_2)$. Dicho de otra forma, reconoce el lenguaje $L(a_1 \\cup a_2) = \\{w $| $w \\in L(a_1) \\lor w \\in L(a_2)\\}$."
   ]
  },
  {
   "cell_type": "code",
   "execution_count": 278,
   "metadata": {
    "jupyter": {
     "source_hidden": true
    }
   },
   "outputs": [],
   "source": [
    "def automata_union(a1, a2):\n",
    "    transitions = {}\n",
    "    \n",
    "    start = 0\n",
    "    d1 = 1\n",
    "    d2 = a1.states + d1\n",
    "    final = a2.states + d2\n",
    "    print(a1.map.items())\n",
    "    for (origin, symbol), destinations in a1.map.items():\n",
    "        ## Relocate a1 transitions ...\n",
    "        # Your code here\n",
    "        transitions[(origin + d1, symbol)] = [dest + d1 for dest in destinations]\n",
    "        pass\n",
    "\n",
    "    for (origin, symbol), destinations in a2.map.items():\n",
    "        ## Relocate a2 transitions ...\n",
    "        # Your code here\n",
    "        transitions[(origin + d2, symbol)] = [dest + d2 for dest in destinations]\n",
    "        pass\n",
    "    \n",
    "    ## Add transitions from start state ...\n",
    "    # Your code here\n",
    "    transitions[(start, '')] = [d1,d2]\n",
    "    ## Add transitions to final state ...\n",
    "    # Your code here\n",
    "    for state in a1.finals:\n",
    "        transitions[(state + d1 , '')] = [final]\n",
    "        \n",
    "    for state in a2.finals:\n",
    "        transitions[(state + d2 , '')] = [final]\n",
    "    states = a1.states + a2.states + 2\n",
    "    finals = { final }\n",
    "    \n",
    "    return NFA(states, finals, transitions, start)"
   ]
  },
  {
   "cell_type": "markdown",
   "metadata": {},
   "source": [
    "Comprobemos que `automata_union(automaton, automaton)` reconoce el propio lenguaje `(a|b)*b`."
   ]
  },
  {
   "cell_type": "code",
   "execution_count": 279,
   "metadata": {},
   "outputs": [
    {
     "name": "stdout",
     "output_type": "stream",
     "text": [
      "dict_items([((0, 'a'), [0]), ((0, 'b'), [1]), ((1, 'a'), [0]), ((1, 'b'), [1])])\n"
     ]
    },
    {
     "data": {
      "text/plain": [
       "<cmp.tools.automata.NFA at 0x109f05390>"
      ]
     },
     "metadata": {},
     "output_type": "display_data"
    }
   ],
   "source": [
    "union = automata_union(automaton, automaton)\n",
    "display(union)\n",
    "recognize = nfa_to_dfa(union).recognize\n",
    "assert union.states == 2 * automaton.states + 2\n",
    "\n",
    "assert recognize('b')\n",
    "assert recognize('abbb')\n",
    "assert recognize('abaaababab')\n",
    "\n",
    "assert not recognize('')\n",
    "assert not recognize('a')\n",
    "assert not recognize('abbbbaa')"
   ]
  },
  {
   "cell_type": "markdown",
   "metadata": {},
   "source": [
    "### Concatenación de autómatas"
   ]
  },
  {
   "cell_type": "markdown",
   "metadata": {},
   "source": [
    "Dados 2 autómatas finitos `a1` y `a2` se define el autómata **concatenación** entre ellos como el autómata que reconoce $L(a_1) L(a_2)$. Dicho de otra forma, reconoce el lenguaje $L(a_1 a_2) = \\{vw $| $v \\in L(a_1) \\land w \\in L(a_2)\\}$."
   ]
  },
  {
   "cell_type": "code",
   "execution_count": 280,
   "metadata": {
    "jupyter": {
     "source_hidden": true
    }
   },
   "outputs": [],
   "source": [
    "def automata_concatenation(a1, a2):\n",
    "    transitions = {}\n",
    "    \n",
    "    start = 0\n",
    "    d1 = 0\n",
    "    d2 = a1.states + d1\n",
    "    final = a2.states + d2\n",
    "    \n",
    "    for (origin, symbol), destinations in a1.map.items():\n",
    "        ## Relocate a1 transitions ...\n",
    "        # Your code here\n",
    "        transitions[(origin + d1, symbol)] = [dest + d1 for dest in destinations]\n",
    "        pass\n",
    "\n",
    "    for (origin, symbol), destinations in a2.map.items():\n",
    "        ## Relocate a2 transitions ...\n",
    "        # Your code here\n",
    "        transitions[(origin + d2, symbol)] = [dest + d2 for dest in destinations]\n",
    "        pass\n",
    "    \n",
    "    ## Add transitions to final state ...\n",
    "    # Your code here\n",
    "    for state1 in a1.finals :    \n",
    "        transitions[(state1 + d1, '')] = [a2.start + d2]\n",
    "    states = a1.states + a2.states + 1\n",
    "    for state in a2.finals:\n",
    "        transitions[(state + d2 , '')] = [final]\n",
    "    finals = { final }\n",
    "    \n",
    "    return NFA(states, finals, transitions, start)"
   ]
  },
  {
   "cell_type": "markdown",
   "metadata": {},
   "source": [
    "Comprobemos que `automata_concatenation(automaton, automaton)` reconoce el lenguaje `(a|b)*b(a|b)*b`."
   ]
  },
  {
   "cell_type": "code",
   "execution_count": 281,
   "metadata": {},
   "outputs": [
    {
     "data": {
      "text/plain": [
       "<cmp.tools.automata.NFA at 0x1097c79d0>"
      ]
     },
     "metadata": {},
     "output_type": "display_data"
    },
    {
     "name": "stdout",
     "output_type": "stream",
     "text": [
      "{0: {'a': [0], 'b': [1]}, 1: {'a': [0], 'b': [1], '': [2]}, 2: {'a': [2], 'b': [3]}, 3: {'a': [2], 'b': [3], '': [4]}, 4: {}}\n"
     ]
    }
   ],
   "source": [
    "concat = automata_concatenation(automaton, automaton)\n",
    "display(concat)\n",
    "recognize = nfa_to_dfa(concat).recognize\n",
    "print(concat.transitions)\n",
    "assert concat.states == 2 * automaton.states + 1\n",
    "\n",
    "assert recognize('bb')\n",
    "assert recognize('abbb')\n",
    "assert recognize('abaaababab')\n",
    "\n",
    "assert not recognize('')\n",
    "assert not recognize('a')\n",
    "assert not recognize('b')\n",
    "assert not recognize('ab')\n",
    "assert not recognize('aaaab')\n",
    "assert not recognize('abbbbaa')"
   ]
  },
  {
   "cell_type": "markdown",
   "metadata": {},
   "source": [
    "### Clausura de autómatas\n",
    "\n",
    "Dado un autómata finito `a1` se define el autómata **clausura** de `a1` como el autómata que reconoce $L(a_1)^*$. Dicho de otra forma, reconoce el lenguaje $L(a_1^*) = L(a_1)^n$, con $n \\geq 0$."
   ]
  },
  {
   "cell_type": "code",
   "execution_count": 282,
   "metadata": {
    "jupyter": {
     "source_hidden": true
    }
   },
   "outputs": [],
   "source": [
    "def automata_closure(a1):\n",
    "    transitions = {}\n",
    "    \n",
    "    start = 0\n",
    "    d1 = 1\n",
    "    final = a1.states + d1\n",
    "    \n",
    "    for (origin, symbol), destinations in a1.map.items():\n",
    "        ## Relocate automaton transitions ...\n",
    "        transitions[(origin + d1, symbol)] = [destination + d1 for destination in destinations]\n",
    "    \n",
    "    ## Add transitions from start state ...\n",
    "    # Your code here\n",
    "    transitions[(start, '')] = [d1, final]\n",
    "    \n",
    "    ## Add transitions to final state and to start state ...\n",
    "    # Your code here\n",
    "    for state in a1.finals:\n",
    "        transitions[(state + d1, '')] = [final]\n",
    "            \n",
    "    states = a1.states +  2\n",
    "    finals = { final }\n",
    "    \n",
    "    return NFA(states, finals, transitions, start)"
   ]
  },
  {
   "cell_type": "markdown",
   "metadata": {},
   "source": [
    "Comprobemos que `automata_closure(automaton)` reconoce el lenguaje `((a|b)*b)*`."
   ]
  },
  {
   "cell_type": "code",
   "execution_count": 283,
   "metadata": {},
   "outputs": [
    {
     "data": {
      "text/plain": [
       "<cmp.tools.automata.NFA at 0x109efe170>"
      ]
     },
     "metadata": {},
     "output_type": "display_data"
    }
   ],
   "source": [
    "closure = automata_closure(automaton)\n",
    "display(closure)\n",
    "recognize = nfa_to_dfa(closure).recognize\n",
    "\n",
    "assert closure.states == automaton.states + 2\n",
    "\n",
    "assert recognize('')\n",
    "assert recognize('b')\n",
    "assert recognize('ab')\n",
    "assert recognize('bb')\n",
    "assert recognize('abbb')\n",
    "assert recognize('abaaababab')\n",
    "\n",
    "assert not recognize('a')\n",
    "assert not recognize('abbbbaa')"
   ]
  },
  {
   "cell_type": "markdown",
   "metadata": {},
   "source": [
    "### Minimización de autómatas\n",
    "\n",
    "Hasta ahora hemos estado ignorando la cantidad de estados del autómata. Sin embargo, resulta conveniente obtener el DFA con menor cantidad de estados. Se puede demostrar que siempre hay un único DFA con la mínima cantidad de estados para cualquier lenguaje regular. Dicho autómata puede ser construido a partir de cualquier otro DFA del lenguaje como resultado de agrupar conjuntos de estados equivalentes.\n",
    "\n",
    "El algoritmo de minimización particiona los estados del DFA en grupos de estados que no puedan ser diferenciados _(comenzando en ellos, cualquier cadena termina siendo igualmente aceptada o no)_. Cada grupo de estados es mezclado posteriormente en un único estado del DFA resultante. A medida que avanza el algoritmo, los estados en el mismo grupo representan estados que aún no se han podido diferenciar, mientras que dos estados cualesquiera de distintos grupos ya fueron diferenciados. Una vez que la partición no pueda ser refinada más, el algoritmo se detiene pues encontró el DFA con menor cantidad de estados.\n",
    "\n",
    "El algoritmo funciona de la siguiente forma:\n",
    "1. Comenzar con una partición inicial $\\Pi$ en dos grupos, $F$ y $Q - F$, con los estados finales y no finales respectivamente.\n",
    "2. Inicializar $\\Pi_{new} = \\Pi$\n",
    "3. Por cada grupo $G$ en la partición $\\Pi$:\n",
    "    1. Particionar $G$ en subgrupos de forma tal que: dos estados $s$ y $t$ están en el mismo grupo **si y solo si** para todo símbolo $a$ del vocabulario, los estados $s$ y $t$ tienen transición con $a$ hacia estados en el mismo grupo de $\\Pi$.\n",
    "    2. Reemplazar $G$ in $\\Pi_{new}$ por los subgrupos formados.\n",
    "4. Si $\\Pi_{new} = \\Pi$, hacer $\\Pi_{final} = \\Pi$ y continuar al paso `5`. En otro caso, regresar al paso `2` con $\\Pi_{new}$ en el lugar de $\\Pi$.\n",
    "5. Seleccionar un estado de cada grupo de $\\Pi_{final}$ como el _representante_ de ese grupo. Los representantes serán los estados del DFA con la mínima cantidad de estados. El resto de los componentes se construyen de la siguiente forma:\n",
    "    1. El estado inicial es el representante del grupo que contiene al estado inicial del autómata original.\n",
    "    2. Los estados finales son los representantes de los grupos que contienen uno de los estados finales originales. _Note que cada grupo contiene solamente estados finales o no finales, ya que se parte de una partición que los separa y nunca se vuelven a unir_.\n",
    "    3. Las transiciones se obtienen entre los representantes de cada grupo. Sea $s$ el representante de algún grupo de $G$, y sea, $(s, a) \\to t$, la transición del autómata original desde $s$ con un símbolo $a$. Sea $r$ el representante de $t$ en su grupo $H$. Entonces en el autómata resultante estará la transición: $(s, a) \\to r$."
   ]
  },
  {
   "cell_type": "markdown",
   "metadata": {},
   "source": [
    "Utilizaremos la implementación de la estructura de datos _conjuntos disjuntos_ de `cmp.utils`. A continuación se ilustra el uso de las funcionalidades más relevantes de la mismas."
   ]
  },
  {
   "cell_type": "code",
   "execution_count": 284,
   "metadata": {},
   "outputs": [
    {
     "name": "stdout",
     "output_type": "stream",
     "text": [
      "> Inicializando conjuntos disjuntos:\n",
      " [[1], [2], [6], [3], [0], [9], [7], [4], [5], [8]]\n",
      "> Mezclando conjuntos 5 y 9:\n",
      " [[1], [2], [6], [3], [0], [7], [4], [5, 9], [8]]\n",
      "> Mezclando conjuntos 8, 0 y 2:\n",
      " [[1], [6], [3], [7], [4], [5, 9], [0, 2, 8]]\n",
      "> Mezclando conjuntos 2 y 9:\n",
      " [[1], [6], [3], [7], [4], [0, 2, 5, 8, 9]]\n",
      "> Representantes:\n",
      " {1, 6, 3, 7, 4, 8}\n",
      "> Grupos:\n",
      " [[1], [6], [3], [7], [4], [0, 2, 5, 8, 9]]\n",
      "> Nodos:\n",
      " {0: 0, 1: 1, 2: 2, 3: 3, 4: 4, 5: 5, 6: 6, 7: 7, 8: 8, 9: 9}\n",
      "> Conjunto 0:\n",
      " 0 ---> <class 'cmp.utils.DisjointNode'>\n",
      "> Conjunto 0 [valor]:\n",
      " 0 ---> <class 'int'>\n",
      "> Conjunto 0 [representante]:\n",
      " 8 ---> <class 'cmp.utils.DisjointNode'>\n"
     ]
    }
   ],
   "source": [
    "from cmp.utils import DisjointSet\n",
    "\n",
    "dset = DisjointSet(*range(10))\n",
    "print('> Inicializando conjuntos disjuntos:\\n', dset)\n",
    "\n",
    "dset.merge([5,9])\n",
    "print('> Mezclando conjuntos 5 y 9:\\n', dset)\n",
    "\n",
    "dset.merge([8,0,2])\n",
    "print('> Mezclando conjuntos 8, 0 y 2:\\n', dset)\n",
    "\n",
    "dset.merge([2,9])\n",
    "print('> Mezclando conjuntos 2 y 9:\\n', dset)\n",
    "\n",
    "print('> Representantes:\\n', dset.representatives)\n",
    "print('> Grupos:\\n', dset.groups)\n",
    "print('> Nodos:\\n', dset.nodes)\n",
    "print('> Conjunto 0:\\n', dset[0], '--->', type(dset[0]))\n",
    "print('> Conjunto 0 [valor]:\\n', dset[0].value, '--->' , type(dset[0].value))\n",
    "print('> Conjunto 0 [representante]:\\n', dset[0].representative, '--->' , type(dset[0].representative))"
   ]
  },
  {
   "cell_type": "markdown",
   "metadata": {},
   "source": [
    "Trabajaremos sobre el siguiente autómamata que reconoce el lenguaje `(a|b)*abb`. Note que los estados `0` y `2` pueden ser mezclados."
   ]
  },
  {
   "cell_type": "code",
   "execution_count": 285,
   "metadata": {},
   "outputs": [
    {
     "data": {
      "text/plain": [
       "<cmp.tools.automata.DFA at 0x10454d630>"
      ]
     },
     "execution_count": 285,
     "metadata": {},
     "output_type": "execute_result"
    }
   ],
   "source": [
    "automaton = DFA(states=5, finals=[4], transitions={\n",
    "    (0,'a'): 1,\n",
    "    (0,'b'): 2,\n",
    "    (1,'a'): 1,\n",
    "    (1,'b'): 3,\n",
    "    (2,'a'): 1,\n",
    "    (2,'b'): 2,\n",
    "    (3,'a'): 1,\n",
    "    (3,'b'): 4,\n",
    "    (4,'a'): 1,\n",
    "    (4,'b'): 2,\n",
    "})\n",
    "automaton"
   ]
  },
  {
   "cell_type": "markdown",
   "metadata": {},
   "source": [
    "Implementemos los métodos siguientes, donde:\n",
    "\n",
    "- `distinguish_states(group, automaton, partition)`: devuelve los subgrupos que se obtienen de diferenciar los estados de `group` según la partición `partition`.\n",
    "> `int[][]`: Lista de las listas de estados en las que se dividió `group`.\n",
    "\n",
    "- `state_minimization(automaton)`: devuelve una partición de los estados de `automaton`.\n",
    "> `DisjointSet`: Conjunto disjunto sobre los estados de `automaton`.\n",
    "\n",
    "- `automata_minimization(automaton)`: devuelve el DFA con la mínima cantidad de estados que reconoce el mismo lenguaje que el DFA `automaton`."
   ]
  },
  {
   "cell_type": "code",
   "execution_count": 286,
   "metadata": {
    "jupyter": {
     "source_hidden": true
    }
   },
   "outputs": [],
   "source": [
    "def distinguish_states(group, automaton, partition):\n",
    "    split = {}\n",
    "    vocabulary = tuple(automaton.vocabulary)\n",
    "    for member in group:\n",
    "        # Your code here\n",
    "        temp = []\n",
    "        for symbol in vocabulary:\n",
    "            temp.append(symbol)\n",
    "        split[member] = temp\n",
    "        pass\n",
    "    for i in split:\n",
    "        for j in split:\n",
    "            if i != j and split[i].values() == split[j].values():\n",
    "                partition.merge([i,j])\n",
    "                return True\n",
    "    return [ group for group in split.values()]\n",
    "            \n",
    "def state_minimization(automaton):\n",
    "    partition = DisjointSet(*range(automaton.states))\n",
    "\n",
    "    ## partition = { NON-FINALS | FINALS }\n",
    "    # Your code here\n",
    "    for i in partition:\n",
    "        for j in partition:\n",
    "            if(not i== j and  i in automaton.finals and j in automaton.finals):\n",
    "                partition.marge([i,j])\n",
    "                pass\n",
    "            pass\n",
    "        pass\n",
    "\n",
    "    while True:\n",
    "        new_partition = DisjointSet(*range(automaton.states))\n",
    "        print(new_partition)\n",
    "        ## Split each group if needed (use distinguish_states(group, automaton, partition))\n",
    "        # Your code here\n",
    "\n",
    "        if len(new_partition) == len(partition):\n",
    "            break\n",
    "\n",
    "        partition = new_partition\n",
    "        \n",
    "    return partition\n",
    "\n",
    "def automata_minimization(automaton):\n",
    "    partition = state_minimization(automaton)\n",
    "    \n",
    "    states = [s for s in partition.representatives]\n",
    "    \n",
    "    transitions = {}\n",
    "    for i, state in enumerate(states):\n",
    "        ## origin = ???\n",
    "        # Your code here\n",
    "        for symbol, destinations in automaton.transitions[origin].items():\n",
    "            # Your code here\n",
    "            \n",
    "            try:\n",
    "                transitions[i,symbol]\n",
    "                assert False\n",
    "            except KeyError:\n",
    "                # Your code here\n",
    "                pass\n",
    "    \n",
    "    ## finals = ???\n",
    "    ## start  = ???\n",
    "    # Your code here\n",
    "    \n",
    "    return DFA(len(states), finals, transitions, start)"
   ]
  },
  {
   "cell_type": "markdown",
   "metadata": {},
   "source": [
    "Comprobemos que al minimizar los estados del autómata, solo los estados `0` y `2` quedan en el mismo grupo, pues no son diferenciables."
   ]
  },
  {
   "cell_type": "code",
   "execution_count": 287,
   "metadata": {},
   "outputs": [
    {
     "ename": "KeyError",
     "evalue": "5",
     "output_type": "error",
     "traceback": [
      "\u001b[0;31m---------------------------------------------------------------------------\u001b[0m",
      "\u001b[0;31mKeyError\u001b[0m                                  Traceback (most recent call last)",
      "Cell \u001b[0;32mIn [287], line 1\u001b[0m\n\u001b[0;32m----> 1\u001b[0m states \u001b[38;5;241m=\u001b[39m state_minimization(automaton)\n\u001b[1;32m      2\u001b[0m \u001b[38;5;28mprint\u001b[39m(states)\n\u001b[1;32m      4\u001b[0m \u001b[38;5;28;01mfor\u001b[39;00m members \u001b[38;5;129;01min\u001b[39;00m states\u001b[38;5;241m.\u001b[39mgroups:\n",
      "Cell \u001b[0;32mIn [286], line 24\u001b[0m, in \u001b[0;36mstate_minimization\u001b[0;34m(automaton)\u001b[0m\n\u001b[1;32m     21\u001b[0m \u001b[38;5;66;03m## partition = { NON-FINALS | FINALS }\u001b[39;00m\n\u001b[1;32m     22\u001b[0m \u001b[38;5;66;03m# Your code here\u001b[39;00m\n\u001b[1;32m     23\u001b[0m \u001b[38;5;28;01mfor\u001b[39;00m i \u001b[38;5;129;01min\u001b[39;00m partition:\n\u001b[0;32m---> 24\u001b[0m     \u001b[38;5;28;01mfor\u001b[39;00m j \u001b[38;5;129;01min\u001b[39;00m partition:\n\u001b[1;32m     25\u001b[0m         \u001b[38;5;28;01mif\u001b[39;00m(\u001b[38;5;129;01mnot\u001b[39;00m i\u001b[38;5;241m==\u001b[39m j \u001b[38;5;129;01mand\u001b[39;00m  i \u001b[38;5;129;01min\u001b[39;00m automaton\u001b[38;5;241m.\u001b[39mfinals \u001b[38;5;129;01mand\u001b[39;00m j \u001b[38;5;129;01min\u001b[39;00m automaton\u001b[38;5;241m.\u001b[39mfinals):\n\u001b[1;32m     26\u001b[0m             partition\u001b[38;5;241m.\u001b[39mmarge([i,j])\n",
      "File \u001b[0;32m~/Desktop/Lia/school/Compilacion/compilation-exercises/cp7/cmp/utils.py:193\u001b[0m, in \u001b[0;36mDisjointSet.__getitem__\u001b[0;34m(self, item)\u001b[0m\n\u001b[1;32m    192\u001b[0m \u001b[39mdef\u001b[39;00m \u001b[39m__getitem__\u001b[39m(\u001b[39mself\u001b[39m, item):\n\u001b[0;32m--> 193\u001b[0m     \u001b[39mreturn\u001b[39;00m \u001b[39mself\u001b[39;49m\u001b[39m.\u001b[39;49mnodes[item]\n",
      "\u001b[0;31mKeyError\u001b[0m: 5"
     ]
    }
   ],
   "source": [
    "states = state_minimization(automaton)\n",
    "print(states)\n",
    "\n",
    "for members in states.groups:\n",
    "    all_in_finals = all(m.value in automaton.finals for m in members)\n",
    "    none_in_finals = all(m.value not in automaton.finals for m in members)\n",
    "    assert all_in_finals or none_in_finals\n",
    "    \n",
    "assert len(states) == 4\n",
    "assert states[0].representative == states[2].representative\n",
    "assert states[1].representative == states[1]\n",
    "assert states[3].representative == states[3]\n",
    "assert states[4].representative == states[4]"
   ]
  },
  {
   "cell_type": "markdown",
   "metadata": {},
   "source": [
    "Comprobemos que el algoritmo de minimización funciona correctamente. La cantidad de estados debe haberse reducido puesto que los estados `0` y `2` no son diferenciables. El autómata debe seguir reconociendo el lenguaje `(a|b)*abb`."
   ]
  },
  {
   "cell_type": "code",
   "execution_count": null,
   "metadata": {},
   "outputs": [],
   "source": [
    "mini = automata_minimization(automaton)\n",
    "display(mini)\n",
    "\n",
    "assert mini.states == 4\n",
    "\n",
    "assert mini.recognize('abb')\n",
    "assert mini.recognize('ababbaabb')\n",
    "\n",
    "assert not mini.recognize('')\n",
    "assert not mini.recognize('ab')\n",
    "assert not mini.recognize('aaaaa')\n",
    "assert not mini.recognize('bbbbb')\n",
    "assert not mini.recognize('abbabababa')"
   ]
  },
  {
   "cell_type": "markdown",
   "metadata": {},
   "source": [
    "## Propuestas\n",
    "- Implemente el resto de las operaciones entre autómatas vistas en conferencia:\n",
    "    - Complemento\n",
    "    - Intersección\n",
    "    - Diferencia\n",
    "    - Reverso\n",
    "    - Zip"
   ]
  }
 ],
 "metadata": {
  "kernelspec": {
   "display_name": "Python 3.10.7 64-bit",
   "language": "python",
   "name": "python3"
  },
  "language_info": {
   "codemirror_mode": {
    "name": "ipython",
    "version": 3
   },
   "file_extension": ".py",
   "mimetype": "text/x-python",
   "name": "python",
   "nbconvert_exporter": "python",
   "pygments_lexer": "ipython3",
   "version": "3.11.0"
  },
  "vscode": {
   "interpreter": {
    "hash": "aee8b7b246df8f9039afb4144a1f6fd8d2ca17a180786b69acc140d282b71a49"
   }
  }
 },
 "nbformat": 4,
 "nbformat_minor": 4
}
