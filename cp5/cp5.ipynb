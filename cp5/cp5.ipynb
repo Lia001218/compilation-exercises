{
 "cells": [
  {
   "cell_type": "markdown",
   "metadata": {},
   "source": [
    "# Clase Práctica #5 (Compilación)\n",
    "\n",
    "En esta clase estaremos adaptando el evaluador de expresiones aritméticas para trabajar sobre un _AST (Abstact Syntax Tree)_. Recordemos que el AST posee una estructura más cómoda para evaluar las reglas semánticas que el árbol de derivación. Además, evaluar en el AST en lugar que desde las reglas de la gramática atributada, simplifica significativamente la implementación de las reglas semánticas.\n",
    "\n",
    "## Jerarquía del AST\n",
    "\n",
    "Definamos una jerarquía de clases para los nodos del _AST_ del lenguaje de expresiones aritméticas. Utilizaremos las clases `Node` y `BinaryNode` como definiciones abstractas para agrupar y compactar la implementación de sus descendientes. Los nodos del AST serán exclusivamente instancias de `ConstantNumberNode`, `PlusNode`, `MinusNode`, `StarNode` y `DivNode`."
   ]
  },
  {
   "cell_type": "code",
   "execution_count": null,
   "metadata": {},
   "outputs": [],
   "source": [
    "class Node:\n",
    "    def evaluate(self):\n",
    "        raise NotImplementedError()\n",
    "\n",
    "class ConstantNumberNode(Node):\n",
    "    def __init__(self, lex):\n",
    "        self.lex = lex\n",
    "        self.value = float(lex)\n",
    "        \n",
    "    def evaluate(self):\n",
    "        # Insert your code here!!!\n",
    "        pass\n",
    "        \n",
    "\n",
    "class BinaryNode(Node):\n",
    "    def __init__(self, left, right):\n",
    "        self.left = left\n",
    "        self.right = right\n",
    "        \n",
    "    def evaluate(self):\n",
    "        ## Insert your code here!!!\n",
    "        # lvalue = ???\n",
    "        # rvalue = ???\n",
    "        return self.operate(lvalue, rvalue)\n",
    "    \n",
    "    @staticmethod\n",
    "    def operate(lvalue, rvalue):\n",
    "        raise NotImplementedError()\n",
    "        \n",
    "\n",
    "class PlusNode(BinaryNode):\n",
    "    @staticmethod\n",
    "    def operate(lvalue, rvalue):\n",
    "        # Insert your code here!!!\n",
    "        pass\n",
    "\n",
    "class MinusNode(BinaryNode):\n",
    "    @staticmethod\n",
    "    def operate(lvalue, rvalue):\n",
    "        # Insert your code here!!!\n",
    "        pass\n",
    "\n",
    "class StarNode(BinaryNode):\n",
    "    @staticmethod\n",
    "    def operate(lvalue, rvalue):\n",
    "        # Insert your code here!!!\n",
    "        pass\n",
    "\n",
    "class DivNode(BinaryNode):\n",
    "    @staticmethod\n",
    "    def operate(lvalue, rvalue):\n",
    "        # Insert your code here!!!\n",
    "        pass\n"
   ]
  },
  {
   "cell_type": "markdown",
   "metadata": {},
   "source": [
    "Veamos como luce una instancia concreta de un AST de expresiones. Nótese que la precedencia de los operadores debe seguir atrapada en el AST puesto que solo se desecharon los atributos sintácticos."
   ]
  },
  {
   "cell_type": "code",
   "execution_count": null,
   "metadata": {},
   "outputs": [],
   "source": [
    "from cmp.ast import get_printer\n",
    "printer = get_printer(AtomicNode=ConstantNumberNode, BinaryNode=BinaryNode)\n",
    "\n",
    "print(printer(\n",
    "    PlusNode(\n",
    "        MinusNode(\n",
    "            ConstantNumberNode('5'),\n",
    "            ConstantNumberNode('6')\n",
    "        ), ConstantNumberNode('9')\n",
    "    )\n",
    "))"
   ]
  },
  {
   "cell_type": "markdown",
   "metadata": {},
   "source": [
    "## Construcción del AST\n",
    "\n",
    "Pasemos a definir la gramática del lenguaje de expresiones aritméticas junto con las reglas semánticas para formar el _AST_. Las reglas quedarán muy similares a las de la clase anterior, pero esta vez en lugar de operar los valores, construiremos el nodo del AST que denota la operación."
   ]
  },
  {
   "cell_type": "code",
   "execution_count": null,
   "metadata": {},
   "outputs": [],
   "source": [
    "from cmp.pycompiler import Grammar\n",
    "from cmp.utils import pprint, inspect\n",
    "\n",
    "G = Grammar()\n",
    "E = G.NonTerminal('E', True)\n",
    "T, F, X, Y = G.NonTerminals('T F X Y')\n",
    "plus, minus, star, div, opar, cpar, num = G.Terminals('+ - * / ( ) num')\n",
    "\n",
    "############################ BEGIN PRODUCTIONS ############################\n",
    "# ======================================================================= #\n",
    "#                                                                         #\n",
    "# ========================== { E --> T X } ============================== #\n",
    "#                                                                         #\n",
    "# E %= T + X, lambda h,s: s[2], None, lambda h,s: s[1]                    #\n",
    "#                                                                         #\n",
    "# =================== { X --> + T X | - T X | epsilon } ================= #\n",
    "#                                                                         #\n",
    "# X %= plus + T + X, None, None, None, None                               #\n",
    "# X %= minus + T + X, None, None, None, None                              #\n",
    "# X %= G.Epsilon, None                                                    #\n",
    "#                                                                         #\n",
    "# ============================ { T --> F Y } ============================ #\n",
    "#                                                                         #\n",
    "# T %= F + Y, None, None, None                                            #\n",
    "#                                                                         #\n",
    "# ==================== { Y --> * F Y | / F Y | epsilon } ================ #\n",
    "#                                                                         #\n",
    "# Y %= star + F + Y, None, None, None, None                               #\n",
    "# Y %= div + F + Y, None, None, None, None                                #\n",
    "# Y %= G.Epsilon, None                                                    #\n",
    "#                                                                         #\n",
    "# ======================= { F --> num | ( E ) } ========================= #\n",
    "# F %= num, None, None                                                    #\n",
    "# F %= opar + E + cpar, None, None, None, None                            #\n",
    "#                                                                         #\n",
    "# ======================================================================= #\n",
    "############################# END PRODUCTIONS #############################\n"
   ]
  },
  {
   "cell_type": "markdown",
   "metadata": {},
   "source": [
    "Ensamblemos el pipeline de evaluación con los elementos que hemos ido implementando a lo largo de las pasadas clases.\n",
    "\n",
    "Se realizará la siguiente cadena de transformaciones:\n",
    "```\n",
    "Entrada -> Tokens -> Parse Izquierdo -> AST -> Resultado\n",
    "```    "
   ]
  },
  {
   "cell_type": "code",
   "execution_count": null,
   "metadata": {},
   "outputs": [],
   "source": [
    "from cmp.utils import Token\n",
    "from cmp.languages import BasicHulk\n",
    "from cmp.tools.parsing import build_parsing_table, metodo_predictivo_no_recursivo\n",
    "from cmp.tools.evaluation import evaluate_parse\n",
    "\n",
    "hulk = BasicHulk(G)\n",
    "firsts = hulk.firsts\n",
    "follows = hulk.follows\n",
    "tokenize_text = hulk.tokenizer\n",
    "\n",
    "M = build_parsing_table(G, firsts, follows)\n",
    "parser = metodo_predictivo_no_recursivo(G, M)\n",
    "\n",
    "def run_pipeline(text, value, parser, formatter):\n",
    "    tokens = tokenize_text(text)\n",
    "    pprint(tokens, '================Tokens================')\n",
    "    left_parse = parser(tokens)\n",
    "    pprint(left_parse, '==============Left-Parse==============')\n",
    "    ast = evaluate_parse(left_parse, tokens)\n",
    "    pprint(formatter(ast), '=================AST==================')\n",
    "    result = ast.evaluate()\n",
    "    pprint(f'{text} = {result}', '================Result================')\n",
    "    assert result == value"
   ]
  },
  {
   "cell_type": "markdown",
   "metadata": {},
   "source": [
    "Comprobemos que la asociatividad de los operadores no se perdió."
   ]
  },
  {
   "cell_type": "code",
   "execution_count": null,
   "metadata": {},
   "outputs": [],
   "source": [
    "run_pipeline('1 - 1 - 1', -1, parser, printer)"
   ]
  },
  {
   "cell_type": "code",
   "execution_count": null,
   "metadata": {},
   "outputs": [],
   "source": [
    "run_pipeline('1 - ( 1 - 1 )', 1, parser, printer)"
   ]
  },
  {
   "cell_type": "markdown",
   "metadata": {},
   "source": [
    "## Adicionando operador _potencia_\n",
    "\n",
    "Añadamos el operador potencia al lenguaje. Para ello, realizaremos las modificaciones pertinentes a cada una de las fases del evaluador. No será necesario **copia y pegar** código de otras clases, ni modificar el código fuente del módulo `cmp` que se distribuye junto al _notebook_.\n",
    "\n",
    "Usaremos el símbolo `^` para denotar al operador potencia. Este es un operador binario que computa $a^b$ siendo, `a` y `b` los operandos izquierdo y derecho respectivamente. Por ejemplo, `2 ^ 4` computa $2^4$. El operador potencia asocia hacia la derecha (contrario a los operadores: +, -, \\* y /). Por tanto, `4 ^ 3 ^ 2` computa $4^{3^2} = 4^9$ en lugar de $(4^3)^2 = 4^6$."
   ]
  },
  {
   "cell_type": "code",
   "execution_count": null,
   "metadata": {},
   "outputs": [],
   "source": [
    "# An empty cell. Just in case you don't know how to create new ones\n"
   ]
  },
  {
   "cell_type": "code",
   "execution_count": null,
   "metadata": {},
   "outputs": [],
   "source": [
    "# An empty cell. Just in case you don't know how to create new ones.\n"
   ]
  },
  {
   "cell_type": "code",
   "execution_count": null,
   "metadata": {},
   "outputs": [],
   "source": [
    "# An empty cell. Just in case you don't know how to create new ones :p\n"
   ]
  },
  {
   "cell_type": "markdown",
   "metadata": {},
   "source": [
    "Como ayuda se proveen los conjunto _First_ y _Follow_ precomputados de lo que consideramos la gramática **natural** a obtener. De igual forma se tiene la tabla y parser LL(1). Siéntase libre de utilizar el código siguiente pero puede reemplazarlo por sus propias implementaciones en caso de que no pueda (o no entienda) cómo utilizarlo."
   ]
  },
  {
   "cell_type": "code",
   "execution_count": null,
   "metadata": {},
   "outputs": [],
   "source": [
    "from cmp.languages import PowHulk\n",
    "pow_hulk = PowHulk(G)\n",
    "\n",
    "firsts = pow_hulk.firsts\n",
    "follows = pow_hulk.follows\n",
    "\n",
    "\n",
    "from cmp.tools.parsing import build_parsing_table, metodo_predictivo_no_recursivo\n",
    "M = build_parsing_table(G, firsts, follows)\n",
    "parser = metodo_predictivo_no_recursivo(G, M)\n",
    "\n"
   ]
  },
  {
   "cell_type": "markdown",
   "metadata": {},
   "source": [
    "**Comprobemos que el operador potencia asocia hacia la derecha.**"
   ]
  },
  {
   "cell_type": "code",
   "execution_count": null,
   "metadata": {},
   "outputs": [],
   "source": [
    "run_pipeline('4 ^ 3 ^ 2', 262144, parser, printer)"
   ]
  },
  {
   "cell_type": "markdown",
   "metadata": {},
   "source": [
    "**Comprobemos que tiene más precedencia que el resto de los operadores.**"
   ]
  },
  {
   "cell_type": "code",
   "execution_count": null,
   "metadata": {},
   "outputs": [],
   "source": [
    "run_pipeline('2 * 3 ^ 4 + 1 * 5', 167, parser, printer)"
   ]
  },
  {
   "cell_type": "markdown",
   "metadata": {},
   "source": [
    "**Comprobemos que puede subordinarse a otros operadores usando paréntesis.**"
   ]
  },
  {
   "cell_type": "code",
   "execution_count": null,
   "metadata": {},
   "outputs": [],
   "source": [
    "run_pipeline('3 ^ ( 1 + 1 ) ^ 2', 81, parser, printer)"
   ]
  },
  {
   "cell_type": "markdown",
   "metadata": {},
   "source": [
    "## Adicionando _declaraciones de variables_\n",
    "\n",
    "Añadamos variables al lenguaje de expresiones para acercarnos más a `HULK`. Para ello, agregue la expresión `let-in` al lenguaje. Dicha expresión sigue la siguiente sintaxis:\n",
    "\n",
    "```\n",
    "let\n",
    "    <declaration-list>\n",
    "in\n",
    "    <expr>\n",
    "```\n",
    "donde `<expr>` denota cualquier expresión del lenguaje (incluyendo el propio `let-in`) y `<declaration-list>` representa una secuencia de declaraciones de la forma `<id> = <expr>` separadas por \"`,`\".\n",
    "\n",
    "El valor de evaluación de la expresión `let-in` es el valor de evaluación de `<expr>`.  \n",
    "Las variables declaradas en `<declaration-list>` serán visibles a partir de su declaración pero únicamente dentro de la expresión `let-in` que las contiene (incluye `<expr>`). Si `<expr>` contiene a su vez una expresión `let-in`, la declaración de una variable con el mismo nombre que una en el `let-in` padre **ocultará** la del padre.  \n",
    "Por ejemplo, la expresión:\n",
    "```\n",
    "let\n",
    "    x = 1,\n",
    "    y = 2\n",
    "in\n",
    "    3 + (let x = 4, z = 5 in x + y + z) + x\n",
    "```\n",
    "equivalente a:\n",
    "```\n",
    "let x = 1, y = 2 in 3 + (let x = 4, z = 5 in x + y + z) + x\n",
    "```\n",
    "evalúa `15`."
   ]
  },
  {
   "cell_type": "code",
   "execution_count": null,
   "metadata": {},
   "outputs": [],
   "source": [
    "# An empty cell. Just in case you don't know how to create new ones"
   ]
  },
  {
   "cell_type": "code",
   "execution_count": null,
   "metadata": {},
   "outputs": [],
   "source": [
    "# An empty cell. Just in case you don't know how to create new ones"
   ]
  },
  {
   "cell_type": "code",
   "execution_count": null,
   "metadata": {},
   "outputs": [],
   "source": [
    "# An empty cell. Just in case you don't know how to create new ones"
   ]
  }
 ],
 "metadata": {
  "kernelspec": {
   "display_name": "Python 3.10.7 64-bit",
   "language": "python",
   "name": "python3"
  },
  "language_info": {
   "codemirror_mode": {
    "name": "ipython",
    "version": 3
   },
   "file_extension": ".py",
   "mimetype": "text/x-python",
   "name": "python",
   "nbconvert_exporter": "python",
   "pygments_lexer": "ipython3",
   "version": "3.10.7"
  },
  "vscode": {
   "interpreter": {
    "hash": "aee8b7b246df8f9039afb4144a1f6fd8d2ca17a180786b69acc140d282b71a49"
   }
  }
 },
 "nbformat": 4,
 "nbformat_minor": 4
}
