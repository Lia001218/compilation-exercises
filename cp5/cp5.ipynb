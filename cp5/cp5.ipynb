{
 "cells": [
  {
   "cell_type": "markdown",
   "metadata": {},
   "source": [
    "# Clase Pr\u00e1ctica #5 (Compilaci\u00f3n)\n",
    "\n",
    "En esta clase estaremos adaptando el evaluador de expresiones aritm\u00e9ticas para trabajar sobre un _AST (Abstact Syntax Tree)_. Recordemos que el AST posee una estructura m\u00e1s c\u00f3moda para evaluar las reglas sem\u00e1nticas que el \u00e1rbol de derivaci\u00f3n. Adem\u00e1s, evaluar en el AST en lugar que desde las reglas de la gram\u00e1tica atributada, simplifica significativamente la implementaci\u00f3n de las reglas sem\u00e1nticas.\n",
    "\n",
    "## Jerarqu\u00eda del AST\n",
    "\n",
    "Definamos una jerarqu\u00eda de clases para los nodos del _AST_ del lenguaje de expresiones aritm\u00e9ticas. Utilizaremos las clases `Node` y `BinaryNode` como definiciones abstractas para agrupar y compactar la implementaci\u00f3n de sus descendientes. Los nodos del AST ser\u00e1n exclusivamente instancias de `ConstantNumberNode`, `PlusNode`, `MinusNode`, `StarNode` y `DivNode`."
   ]
  },
  {
   "cell_type": "code",
   "execution_count": null,
   "metadata": {},
   "outputs": [],
   "source": [
    "class Node:\n",
    "    def evaluate(self):\n",
    "        raise NotImplementedError()\n",
    "\n",
    "class ConstantNumberNode(Node):\n",
    "    def __init__(self, lex):\n",
    "        self.lex = lex\n",
    "        self.value = float(lex)\n",
    "        \n",
    "    def evaluate(self):\n",
    "        # Insert your code here!!!\n",
    "        pass\n",
    "        \n",
    "\n",
    "class BinaryNode(Node):\n",
    "    def __init__(self, left, right):\n",
    "        self.left = left\n",
    "        self.right = right\n",
    "        \n",
    "    def evaluate(self):\n",
    "        ## Insert your code here!!!\n",
    "        # lvalue = ???\n",
    "        # rvalue = ???\n",
    "        return self.operate(lvalue, rvalue)\n",
    "    \n",
    "    @staticmethod\n",
    "    def operate(lvalue, rvalue):\n",
    "        raise NotImplementedError()\n",
    "        \n",
    "\n",
    "class PlusNode(BinaryNode):\n",
    "    @staticmethod\n",
    "    def operate(lvalue, rvalue):\n",
    "        # Insert your code here!!!\n",
    "        pass\n",
    "\n",
    "class MinusNode(BinaryNode):\n",
    "    @staticmethod\n",
    "    def operate(lvalue, rvalue):\n",
    "        # Insert your code here!!!\n",
    "        pass\n",
    "\n",
    "class StarNode(BinaryNode):\n",
    "    @staticmethod\n",
    "    def operate(lvalue, rvalue):\n",
    "        # Insert your code here!!!\n",
    "        pass\n",
    "\n",
    "class DivNode(BinaryNode):\n",
    "    @staticmethod\n",
    "    def operate(lvalue, rvalue):\n",
    "        # Insert your code here!!!\n",
    "        pass\n"
   ]
  },
  {
   "cell_type": "markdown",
   "metadata": {},
   "source": [
    "Veamos como luce una instancia concreta de un AST de expresiones. N\u00f3tese que la precedencia de los operadores debe seguir atrapada en el AST puesto que solo se desecharon los atributos sint\u00e1cticos."
   ]
  },
  {
   "cell_type": "code",
   "execution_count": null,
   "metadata": {},
   "outputs": [],
   "source": [
    "from cmp.ast import get_printer\n",
    "printer = get_printer(AtomicNode=ConstantNumberNode, BinaryNode=BinaryNode)\n",
    "\n",
    "print(printer(\n",
    "    PlusNode(\n",
    "        MinusNode(\n",
    "            ConstantNumberNode('5'),\n",
    "            ConstantNumberNode('6')\n",
    "        ), ConstantNumberNode('9')\n",
    "    )\n",
    "))"
   ]
  },
  {
   "cell_type": "markdown",
   "metadata": {},
   "source": [
    "## Construcci\u00f3n del AST\n",
    "\n",
    "Pasemos a definir la gram\u00e1tica del lenguaje de expresiones aritm\u00e9ticas junto con las reglas sem\u00e1nticas para formar el _AST_. Las reglas quedar\u00e1n muy similares a las de la clase anterior, pero esta vez en lugar de operar los valores, construiremos el nodo del AST que denota la operaci\u00f3n."
   ]
  },
  {
   "cell_type": "code",
   "execution_count": null,
   "metadata": {},
   "outputs": [],
   "source": [
    "from cmp.pycompiler import Grammar\n",
    "from cmp.utils import pprint, inspect\n",
    "\n",
    "G = Grammar()\n",
    "E = G.NonTerminal('E', True)\n",
    "T, F, X, Y = G.NonTerminals('T F X Y')\n",
    "plus, minus, star, div, opar, cpar, num = G.Terminals('+ - * / ( ) num')\n",
    "\n",
    "############################ BEGIN PRODUCTIONS ############################\n",
    "# ======================================================================= #\n",
    "#                                                                         #\n",
    "# ========================== { E --> T X } ============================== #\n",
    "#                                                                         #\n",
    "# E %= T + X, lambda h,s: s[2], None, lambda h,s: s[1]                    #\n",
    "#                                                                         #\n",
    "# =================== { X --> + T X | - T X | epsilon } ================= #\n",
    "#                                                                         #\n",
    "# X %= plus + T + X, None, None, None, None                               #\n",
    "# X %= minus + T + X, None, None, None, None                              #\n",
    "# X %= G.Epsilon, None                                                    #\n",
    "#                                                                         #\n",
    "# ============================ { T --> F Y } ============================ #\n",
    "#                                                                         #\n",
    "# T %= F + Y, None, None, None                                            #\n",
    "#                                                                         #\n",
    "# ==================== { Y --> * F Y | / F Y | epsilon } ================ #\n",
    "#                                                                         #\n",
    "# Y %= star + F + Y, None, None, None, None                               #\n",
    "# Y %= div + F + Y, None, None, None, None                                #\n",
    "# Y %= G.Epsilon, None                                                    #\n",
    "#                                                                         #\n",
    "# ======================= { F --> num | ( E ) } ========================= #\n",
    "# F %= num, None, None                                                    #\n",
    "# F %= opar + E + cpar, None, None, None, None                            #\n",
    "#                                                                         #\n",
    "# ======================================================================= #\n",
    "############################# END PRODUCTIONS #############################\n"
   ]
  },
  {
   "cell_type": "markdown",
   "metadata": {},
   "source": [
    "Ensamblemos el pipeline de evaluaci\u00f3n con los elementos que hemos ido implementando a lo largo de las pasadas clases.\n",
    "\n",
    "Se realizar\u00e1 la siguiente cadena de transformaciones:\n",
    "```\n",
    "Entrada -> Tokens -> Parse Izquierdo -> AST -> Resultado\n",
    "```    "
   ]
  },
  {
   "cell_type": "code",
   "execution_count": null,
   "metadata": {},
   "outputs": [],
   "source": [
    "from cmp.utils import Token\n",
    "from cmp.languages import BasicHulk\n",
    "from cmp.tools.parsing import build_parsing_table, metodo_predictivo_no_recursivo\n",
    "from cmp.tools.evaluation import evaluate_parse\n",
    "\n",
    "hulk = BasicHulk(G)\n",
    "firsts = hulk.firsts\n",
    "follows = hulk.follows\n",
    "tokenize_text = hulk.tokenizer\n",
    "\n",
    "M = build_parsing_table(G, firsts, follows)\n",
    "parser = metodo_predictivo_no_recursivo(G, M)\n",
    "\n",
    "def run_pipeline(text, value, parser, formatter):\n",
    "    tokens = tokenize_text(text)\n",
    "    pprint(tokens, '================Tokens================')\n",
    "    left_parse = parser(tokens)\n",
    "    pprint(left_parse, '==============Left-Parse==============')\n",
    "    ast = evaluate_parse(left_parse, tokens)\n",
    "    pprint(formatter(ast), '=================AST==================')\n",
    "    result = ast.evaluate()\n",
    "    pprint(f'{text} = {result}', '================Result================')\n",
    "    assert result == value"
   ]
  },
  {
   "cell_type": "markdown",
   "metadata": {},
   "source": [
    "Comprobemos que la asociatividad de los operadores no se perdi\u00f3."
   ]
  },
  {
   "cell_type": "code",
   "execution_count": null,
   "metadata": {},
   "outputs": [],
   "source": [
    "run_pipeline('1 - 1 - 1', -1, parser, printer)"
   ]
  },
  {
   "cell_type": "code",
   "execution_count": null,
   "metadata": {},
   "outputs": [],
   "source": [
    "run_pipeline('1 - ( 1 - 1 )', 1, parser, printer)"
   ]
  },
  {
   "cell_type": "markdown",
   "metadata": {},
   "source": [
    "## Adicionando operador _potencia_\n",
    "\n",
    "A\u00f1adamos el operador potencia al lenguaje. Para ello, realizaremos las modificaciones pertinentes a cada una de las fases del evaluador. No ser\u00e1 necesario **copia y pegar** c\u00f3digo de otras clases, ni modificar el c\u00f3digo fuente del m\u00f3dulo `cmp` que se distribuye junto al _notebook_.\n",
    "\n",
    "Usaremos el s\u00edmbolo `^` para denotar al operador potencia. Este es un operador binario que computa $a^b$ siendo, `a` y `b` los operandos izquierdo y derecho respectivamente. Por ejemplo, `2 ^ 4` computa $2^4$. El operador potencia asocia hacia la derecha (contrario a los operadores: +, -, \\* y /). Por tanto, `4 ^ 3 ^ 2` computa $4^{3^2} = 4^9$ en lugar de $(4^3)^2 = 4^6$."
   ]
  },
  {
   "cell_type": "code",
   "execution_count": null,
   "metadata": {},
   "outputs": [],
   "source": [
    "# An empty cell. Just in case you don't know how to create new ones\n"
   ]
  },
  {
   "cell_type": "code",
   "execution_count": null,
   "metadata": {},
   "outputs": [],
   "source": [
    "# An empty cell. Just in case you don't know how to create new ones.\n"
   ]
  },
  {
   "cell_type": "code",
   "execution_count": null,
   "metadata": {},
   "outputs": [],
   "source": [
    "# An empty cell. Just in case you don't know how to create new ones :p\n"
   ]
  },
  {
   "cell_type": "markdown",
   "metadata": {},
   "source": [
    "Como ayuda se proveen los conjunto _First_ y _Follow_ precomputados de lo que consideramos la gram\u00e1tica **natural** a obtener. De igual forma se tiene la tabla y parser LL(1). Si\u00e9ntase libre de utilizar el c\u00f3digo siguiente pero puede reemplazarlo por sus propias implementaciones en caso de que no pueda (o no entienda) c\u00f3mo utilizarlo."
   ]
  },
  {
   "cell_type": "code",
   "execution_count": null,
   "metadata": {},
   "outputs": [],
   "source": [
    "from cmp.languages import PowHulk\n",
    "pow_hulk = PowHulk(G)\n",
    "\n",
    "firsts = pow_hulk.firsts\n",
    "follows = pow_hulk.follows\n",
    "\n",
    "\n",
    "from cmp.tools.parsing import build_parsing_table, metodo_predictivo_no_recursivo\n",
    "M = build_parsing_table(G, firsts, follows)\n",
    "parser = metodo_predictivo_no_recursivo(G, M)\n",
    "\n"
   ]
  },
  {
   "cell_type": "markdown",
   "metadata": {},
   "source": [
    "**Comprobemos que el operador potencia asocia hacia la derecha.**"
   ]
  },
  {
   "cell_type": "code",
   "execution_count": null,
   "metadata": {},
   "outputs": [],
   "source": [
    "run_pipeline('4 ^ 3 ^ 2', 262144, parser, printer)"
   ]
  },
  {
   "cell_type": "markdown",
   "metadata": {},
   "source": [
    "**Comprobemos que tiene m\u00e1s precedencia que el resto de los operadores.**"
   ]
  },
  {
   "cell_type": "code",
   "execution_count": null,
   "metadata": {},
   "outputs": [],
   "source": [
    "run_pipeline('2 * 3 ^ 4 + 1 * 5', 167, parser, printer)"
   ]
  },
  {
   "cell_type": "markdown",
   "metadata": {},
   "source": [
    "**Comprobemos que puede subordinarse a otros operadores usando par\u00e9ntesis.**"
   ]
  },
  {
   "cell_type": "code",
   "execution_count": null,
   "metadata": {},
   "outputs": [],
   "source": [
    "run_pipeline('3 ^ ( 1 + 1 ) ^ 2', 81, parser, printer)"
   ]
  },
  {
   "cell_type": "markdown",
   "metadata": {},
   "source": [
    "## Adicionando _declaraciones de variables_\n",
    "\n",
    "A\u00f1adamos variables al lenguaje de expresiones para acercarnos m\u00e1s a `HULK`. Para ello, agregue la expresi\u00f3n `let-in` al lenguaje. Dicha expresi\u00f3n sigue la siguiente sintaxis:\n",
    "\n",
    "```\n",
    "let\n",
    "    <declaration-list>\n",
    "in\n",
    "    <expr>\n",
    "```\n",
    "donde `<expr>` denota cualquier expresi\u00f3n del lenguaje (incluyendo el propio `let-in`) y `<declaration-list>` representa una secuencia de declaraciones de la forma `<id> = <expr>` separadas por \"`,`\".\n",
    "\n",
    "El valor de evaluaci\u00f3n de la expresi\u00f3n `let-in` es el valor de evaluaci\u00f3n de `<expr>`.  \n",
    "Las variables declaradas en `<declaration-list>` ser\u00e1n visibles a partir de su declaraci\u00f3n pero \u00fanicamente dentro de la expresi\u00f3n `let-in` que las contiene (incluye `<expr>`). Si `<expr>` contiene a su vez una expresi\u00f3n `let-in`, la declaraci\u00f3n de una variable con el mismo nombre que una en el `let-in` padre **ocultar\u00e1** la del padre.  \n",
    "Por ejemplo, la expresi\u00f3n:\n",
    "```\n",
    "let\n",
    "    x = 1,\n",
    "    y = 2\n",
    "in\n",
    "    3 + (let x = 4, z = 5 in x + y + z) + x\n",
    "```\n",
    "equivalente a:\n",
    "```\n",
    "let x = 1, y = 2 in 3 + (let x = 4, z = 5 in x + y + z) + x\n",
    "```\n",
    "eval\u00faa `15`."
   ]
  },
  {
   "cell_type": "code",
   "execution_count": null,
   "metadata": {},
   "outputs": [],
   "source": [
    "# An empty cell. Just in case you don't know how to create new ones"
   ]
  },
  {
   "cell_type": "code",
   "execution_count": null,
   "metadata": {},
   "outputs": [],
   "source": [
    "# An empty cell. Just in case you don't know how to create new ones"
   ]
  },
  {
   "cell_type": "code",
   "execution_count": null,
   "metadata": {},
   "outputs": [],
   "source": [
    "# An empty cell. Just in case you don't know how to create new ones"
   ]
  }
 ],
 "metadata": {
  "kernelspec": {
   "display_name": "Python 3",
   "language": "python",
   "name": "python3"
  },
  "language_info": {
   "codemirror_mode": {
    "name": "ipython",
    "version": 3
   },
   "file_extension": ".py",
   "mimetype": "text/x-python",
   "name": "python",
   "nbconvert_exporter": "python",
   "pygments_lexer": "ipython3",
   "version": "3.7.3"
  }
 },
 "nbformat": 4,
 "nbformat_minor": 4
}