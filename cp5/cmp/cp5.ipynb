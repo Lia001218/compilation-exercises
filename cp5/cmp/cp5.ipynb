{
 "cells": [
  {
   "cell_type": "markdown",
   "metadata": {},
   "source": [
    "# Clase Práctica #5 (Compilación)\n",
    "\n",
    "En esta clase estaremos adaptando el evaluador de expresiones aritméticas para trabajar sobre un _AST (Abstact Syntax Tree)_. Recordemos que el AST posee una estructura más cómoda para evaluar las reglas semánticas que el árbol de derivación. Además, evaluar en el AST en lugar que desde las reglas de la gramática atributada, simplifica significativamente la implementación de las reglas semánticas.\n",
    "\n",
    "## Jerarquía del AST\n",
    "\n",
    "Definamos una jerarquía de clases para los nodos del _AST_ del lenguaje de expresiones aritméticas. Utilizaremos las clases `Node` y `BinaryNode` como definiciones abstractas para agrupar y compactar la implementación de sus descendientes. Los nodos del AST serán exclusivamente instancias de `ConstantNumberNode`, `PlusNode`, `MinusNode`, `StarNode` y `DivNode`."
   ]
  },
  {
   "cell_type": "code",
   "execution_count": null,
   "metadata": {},
   "outputs": [
    {
     "ename": "",
     "evalue": "",
     "output_type": "error",
     "traceback": [
      "\u001b[1;31mThe file 'ast.py' seems to be overriding built in modules and interfering with the startup of the kernel. Consider renaming the file and starting the kernel again.\n",
      "\u001b[1;31mClick <a href='https://aka.ms/kernelFailuresOverridingBuiltInModules'>here</a> for more info."
     ]
    }
   ],
   "source": [
    "class Node:\n",
    "    def evaluate(self):\n",
    "        raise NotImplementedError()\n",
    "\n",
    "class ConstantNumberNode(Node):\n",
    "    def __init__(self, lex):\n",
    "        self.lex = lex\n",
    "        self.value = float(lex)\n",
    "        \n",
    "    def evaluate(self):\n",
    "        # Insert your code here!!!\n",
    "        return self.value\n",
    "        \n",
    "\n",
    "class BinaryNode(Node):\n",
    "    def __init__(self, left: Node, right: Node):\n",
    "        self.left = left\n",
    "        self.right = right\n",
    "        \n",
    "    def evaluate(self):\n",
    "        ## Insert your code here!!!\n",
    "        # lvalue = ???\n",
    "        # rvalue = ???\n",
    "        lvalue = self.left.evaluate()\n",
    "        rvalue = self.right.evaluate()\n",
    "        return self.operate(lvalue, rvalue)\n",
    "    \n",
    "    @staticmethod\n",
    "    def operate(lvalue, rvalue):\n",
    "        raise NotImplementedError()\n",
    "        \n",
    "\n",
    "class PlusNode(BinaryNode):\n",
    "    @staticmethod\n",
    "    def operate(lvalue, rvalue):\n",
    "        # Insert your code here!!!\n",
    "        return lvalue + rvalue\n",
    "        \n",
    "\n",
    "class MinusNode(BinaryNode):\n",
    "    @staticmethod\n",
    "    def operate(lvalue, rvalue):\n",
    "        # Insert your code here!!!\n",
    "        return lvalue - rvalue\n",
    "\n",
    "class StarNode(BinaryNode):\n",
    "    @staticmethod\n",
    "    def operate(lvalue, rvalue):\n",
    "        # Insert your code here!!!\n",
    "        return lvalue * rvalue\n",
    "\n",
    "class DivNode(BinaryNode):\n",
    "    @staticmethod\n",
    "    def operate(lvalue, rvalue):\n",
    "        # Insert your code here!!!\n",
    "        return lvalue / rvalue\n"
   ]
  },
  {
   "cell_type": "markdown",
   "metadata": {},
   "source": [
    "Veamos como luce una instancia concreta de un AST de expresiones. Nótese que la precedencia de los operadores debe seguir atrapada en el AST puesto que solo se desecharon los atributos sintácticos."
   ]
  },
  {
   "cell_type": "code",
   "execution_count": null,
   "metadata": {},
   "outputs": [
    {
     "ename": "",
     "evalue": "",
     "output_type": "error",
     "traceback": [
      "\u001b[1;31mThe file 'ast.py' seems to be overriding built in modules and interfering with the startup of the kernel. Consider renaming the file and starting the kernel again.\n",
      "\u001b[1;31mClick <a href='https://aka.ms/kernelFailuresOverridingBuiltInModules'>here</a> for more info."
     ]
    }
   ],
   "source": [
    "from cmp.ast import get_printer\n",
    "printer = get_printer(AtomicNode=ConstantNumberNode, BinaryNode=BinaryNode)\n",
    "\n",
    "print(printer(\n",
    "    PlusNode(\n",
    "        MinusNode(\n",
    "            ConstantNumberNode('5'),\n",
    "            ConstantNumberNode('6')\n",
    "        ), ConstantNumberNode('9')\n",
    "    )\n",
    "))"
   ]
  },
  {
   "cell_type": "markdown",
   "metadata": {},
   "source": [
    "## Construcción del AST\n",
    "\n",
    "Pasemos a definir la gramática del lenguaje de expresiones aritméticas junto con las reglas semánticas para formar el _AST_. Las reglas quedarán muy similares a las de la clase anterior, pero esta vez en lugar de operar los valores, construiremos el nodo del AST que denota la operación."
   ]
  },
  {
   "cell_type": "code",
   "execution_count": null,
   "metadata": {},
   "outputs": [
    {
     "ename": "",
     "evalue": "",
     "output_type": "error",
     "traceback": [
      "\u001b[1;31mThe file 'ast.py' seems to be overriding built in modules and interfering with the startup of the kernel. Consider renaming the file and starting the kernel again.\n",
      "\u001b[1;31mClick <a href='https://aka.ms/kernelFailuresOverridingBuiltInModules'>here</a> for more info."
     ]
    }
   ],
   "source": [
    "from cmp.pycompiler import Grammar\n",
    "from cmp.utils import pprint, inspect\n",
    "\n",
    "G = Grammar()\n",
    "E = G.NonTerminal('E', True)\n",
    "T, F, X, Y = G.NonTerminals('T F X Y')\n",
    "plus, minus, star, div, opar, cpar, num = G.Terminals('+ - * / ( ) num')\n",
    "\n",
    "############################ BEGIN PRODUCTIONS ############################\n",
    "# ======================================================================= #\n",
    "#                                                                         #\n",
    "# ========================== { E --> T X } ============================== #\n",
    "#                                                                         #\n",
    "E %= T + X, lambda h,s: s[2], None, lambda h,s: s[1]                    #\n",
    "#                                                                         #\n",
    "# =================== { X --> + T X | - T X | epsilon } ================= #\n",
    "#                                                                         #\n",
    "X %= plus + T + X, lambda h,s: s[3], None, None, lambda h,s: PlusNode(s[2], h[0])                             \n",
    "X %= minus + T + X, lambda h,s: s[3], None, None, lambda h,s: MinusNode(h[0], s[2])                              \n",
    "X %= G.Epsilon, lambda h,s: h[0]                                                    \n",
    "#                                                                         #\n",
    "# ============================ { T --> F Y } ============================ #\n",
    "#                                                                         #\n",
    "T %= F + Y, lambda h,s: s[2], None, lambda h,s: s[1]                                            \n",
    "#                                                                         #\n",
    "# ==================== { Y --> * F Y | / F Y | epsilon } ================ #\n",
    "#                                                                         #\n",
    "Y %= star + F + Y, lambda h,s: s[3], None, None, lambda h,s: StarNode(h[0], s[2])                             \n",
    "Y %= div + F + Y, lambda h,s: s[3], None, None, lambda h,s: DivNode(h[0], s[2])                              \n",
    "Y %= G.Epsilon, lambda h,s: h[0]                                                    \n",
    "#                                                                         #\n",
    "# ======================= { F --> num | ( E ) } ========================= #\n",
    "F %= num, lambda h,s: ConstantNumberNode(s[1]), None                                                    \n",
    "F %= opar + E + cpar, lambda h,s: s[2], None, None, None                           \n",
    "#                                                                         #\n",
    "# ======================================================================= #\n",
    "############################# END PRODUCTIONS #############################\n"
   ]
  },
  {
   "cell_type": "code",
   "execution_count": null,
   "metadata": {},
   "outputs": [
    {
     "ename": "",
     "evalue": "",
     "output_type": "error",
     "traceback": [
      "\u001b[1;31mThe file 'ast.py' seems to be overriding built in modules and interfering with the startup of the kernel. Consider renaming the file and starting the kernel again.\n",
      "\u001b[1;31mClick <a href='https://aka.ms/kernelFailuresOverridingBuiltInModules'>here</a> for more info."
     ]
    }
   ],
   "source": [
    "\n",
    "# from typing import Iterator\n",
    "\n",
    "\n",
    "# class TokensIterator:\n",
    "#     def __init__(self, elements: Iterator[Token] ) -> None:\n",
    "#         self.elements = elements\n",
    "#         self.current = None\n",
    "\n",
    "#     def next(self):\n",
    "#         self.current = next(self.elements)\n",
    "#         return self.current"
   ]
  },
  {
   "cell_type": "code",
   "execution_count": null,
   "metadata": {},
   "outputs": [
    {
     "ename": "",
     "evalue": "",
     "output_type": "error",
     "traceback": [
      "\u001b[1;31mThe file 'ast.py' seems to be overriding built in modules and interfering with the startup of the kernel. Consider renaming the file and starting the kernel again.\n",
      "\u001b[1;31mClick <a href='https://aka.ms/kernelFailuresOverridingBuiltInModules'>here</a> for more info."
     ]
    }
   ],
   "source": [
    "# from cmp.pycompiler import Terminal, NonTerminal, AttributeProduction, EOF\n",
    "# from typing import List\n",
    "\n",
    "# def metodo_predictivo_con_evaluacion(G: Grammar, M):\n",
    "\n",
    "#     def parser(tokens: TokensIterator):\n",
    "        \n",
    "#         stack: List[NonTerminal|Terminal] = [G.startSymbol]\n",
    "#         cursor = 0\n",
    "        \n",
    "#         while True:\n",
    "#             top = stack.pop()\n",
    "#             token = tokens.current\n",
    "\n",
    "#             if top.IsNonTerminal:\n",
    "#                 try:\n",
    "#                     print('repinga', M)\n",
    "#                     print('eje', type(top), type(token.token_type))\n",
    "#                     print('la tabla', top, token.token_type)\n",
    "                    \n",
    "#                     key = (top, token.token_type)\n",
    "#                     print('cojones ', M[key])\n",
    "#                     production: AttributeProduction = M[key][0]\n",
    "#                 except KeyError:\n",
    "#                     raise Exception(\"No se puede reconocer la cadena\")\n",
    "                \n",
    "#                 yield production\n",
    "\n",
    "#                 for symbol in reversed(production.Right):\n",
    "#                     stack.append(symbol)\n",
    "            \n",
    "#             if len(stack)==0:\n",
    "#                 break\n",
    "\n",
    "#     return parser"
   ]
  },
  {
   "cell_type": "code",
   "execution_count": null,
   "metadata": {},
   "outputs": [
    {
     "ename": "",
     "evalue": "",
     "output_type": "error",
     "traceback": [
      "\u001b[1;31mThe file 'ast.py' seems to be overriding built in modules and interfering with the startup of the kernel. Consider renaming the file and starting the kernel again.\n",
      "\u001b[1;31mClick <a href='https://aka.ms/kernelFailuresOverridingBuiltInModules'>here</a> for more info."
     ]
    }
   ],
   "source": [
    "# def lazy_evaluate_parse(G, M, parser, tokens):\n",
    "#     tokens_iterator = TokensIterator(iter(tokens))\n",
    "#     tokens_iterator.next()\n",
    "#     left_parse = parser(tokens_iterator)\n",
    "\n",
    "#     if not parser or not tokens:\n",
    "#         return\n",
    "\n",
    "#     final_value = None\n",
    "    \n",
    "#     while True:\n",
    "#         try:\n",
    "#             result = next(lazy_evaluate(next(left_parse), left_parse, tokens_iterator))\n",
    "#             final_value = result\n",
    "#         except StopIteration:\n",
    "#             break\n",
    "    \n",
    "#     assert isinstance(tokens_iterator.current.token_type, EOF)\n",
    "    \n",
    "#     return final_value\n",
    "    \n",
    "\n",
    "# def lazy_evaluate(production: AttributeProduction, left_parse, tokens: TokensIterator, inherited_value=None):\n",
    "#     head, body = production\n",
    "#     attributes = production.attributes\n",
    "\n",
    "#     synteticed = [None for x in attributes]\n",
    "#     inherited = [None for x in attributes]\n",
    "    \n",
    "#     if not inherited_value is None:\n",
    "#         inherited[0] = inherited_value\n",
    "    \n",
    "#     for i, symbol in enumerate(body, 1):\n",
    "#         if symbol.IsTerminal:\n",
    "#             assert inherited[i] is None\n",
    "#             token = tokens.current\n",
    "            \n",
    "#             if token.token_type == num:\n",
    "#                 synteticed[i] = float(token.lex)\n",
    "#             else: \n",
    "#                 synteticed[i] = token.lex\n",
    "            \n",
    "#             tokens.next()\n",
    "#         else:\n",
    "            \n",
    "#             next_production = next(left_parse)\n",
    "#             # print(production)\n",
    "#             # print('symbol', symbol)\n",
    "#             # print('next', next_production)\n",
    "#             assert symbol == next_production.Left\n",
    "\n",
    "#             if not attributes[i]:\n",
    "#                 synteticed[i] = next(lazy_evaluate(next_production, left_parse, tokens))\n",
    "#             else:\n",
    "#                 attr_value = attributes[i](inherited, synteticed)\n",
    "#                 synteticed[i] = next(lazy_evaluate(next_production, left_parse, tokens, attr_value))\n",
    "    \n",
    "#     yield attributes[0](inherited, synteticed)"
   ]
  },
  {
   "cell_type": "code",
   "execution_count": null,
   "metadata": {},
   "outputs": [
    {
     "ename": "",
     "evalue": "",
     "output_type": "error",
     "traceback": [
      "\u001b[1;31mThe file 'ast.py' seems to be overriding built in modules and interfering with the startup of the kernel. Consider renaming the file and starting the kernel again.\n",
      "\u001b[1;31mClick <a href='https://aka.ms/kernelFailuresOverridingBuiltInModules'>here</a> for more info."
     ]
    }
   ],
   "source": []
  },
  {
   "cell_type": "markdown",
   "metadata": {},
   "source": [
    "Ensamblemos el pipeline de evaluación con los elementos que hemos ido implementando a lo largo de las pasadas clases.\n",
    "\n",
    "Se realizará la siguiente cadena de transformaciones:\n",
    "```\n",
    "Entrada -> Tokens -> Parse Izquierdo -> AST -> Resultado\n",
    "```    "
   ]
  },
  {
   "cell_type": "code",
   "execution_count": null,
   "metadata": {},
   "outputs": [
    {
     "ename": "",
     "evalue": "",
     "output_type": "error",
     "traceback": [
      "\u001b[1;31mThe file 'ast.py' seems to be overriding built in modules and interfering with the startup of the kernel. Consider renaming the file and starting the kernel again.\n",
      "\u001b[1;31mClick <a href='https://aka.ms/kernelFailuresOverridingBuiltInModules'>here</a> for more info."
     ]
    }
   ],
   "source": [
    "from cmp.utils import Token\n",
    "from cmp.languages import BasicHulk\n",
    "from cmp.tools.parsing import build_parsing_table, metodo_predictivo_no_recursivo\n",
    "from cmp.tools.evaluation import evaluate_parse\n",
    "\n",
    "hulk = BasicHulk(G)\n",
    "firsts = hulk.firsts\n",
    "follows = hulk.follows\n",
    "tokenize_text = hulk.tokenizer\n",
    "\n",
    "M = build_parsing_table(G, firsts, follows)\n",
    "parser = metodo_predictivo_no_recursivo(G, M, firsts, follows)\n",
    "# custom_parser = metodo_predictivo_con_evaluacion(G, M)\n",
    "\n",
    "def run_pipeline(text, tokenizer, value, parser, formatter):\n",
    "    tokens = tokenizer(text)\n",
    "    pprint(tokens, '================Tokens================')\n",
    "    left_parse = parser(tokens)\n",
    "    pprint(left_parse, '==============Left-Parse==============')\n",
    "    ast = evaluate_parse(left_parse, tokens)\n",
    "    pprint(formatter(ast), '=================AST==================')\n",
    "    result = ast.evaluate()\n",
    "\n",
    "    pprint(f'{text} = {result}', '================Result================')\n",
    "    assert result == value\n",
    "\n",
    "# def run_custom_pipeline(text, tokenizer, value, parser, formatter):\n",
    "#     tokens = tokenize_text(text)\n",
    "#     print('dame los putos tokens', tokens)\n",
    "#     result = lazy_evaluate_parse(G, M, parser, tokens)\n",
    "#     pprint(f'{text} = {result.value}', '================Result================')\n",
    "#     assert result.value == value"
   ]
  },
  {
   "cell_type": "markdown",
   "metadata": {},
   "source": [
    "Comprobemos que la asociatividad de los operadores no se perdió."
   ]
  },
  {
   "cell_type": "code",
   "execution_count": null,
   "metadata": {},
   "outputs": [
    {
     "ename": "",
     "evalue": "",
     "output_type": "error",
     "traceback": [
      "\u001b[1;31mThe file 'ast.py' seems to be overriding built in modules and interfering with the startup of the kernel. Consider renaming the file and starting the kernel again.\n",
      "\u001b[1;31mClick <a href='https://aka.ms/kernelFailuresOverridingBuiltInModules'>here</a> for more info."
     ]
    }
   ],
   "source": [
    "run_pipeline('1 - 1 - 1', tokenize_text, -1,  parser, printer)"
   ]
  },
  {
   "cell_type": "code",
   "execution_count": null,
   "metadata": {},
   "outputs": [
    {
     "ename": "",
     "evalue": "",
     "output_type": "error",
     "traceback": [
      "\u001b[1;31mThe file 'ast.py' seems to be overriding built in modules and interfering with the startup of the kernel. Consider renaming the file and starting the kernel again.\n",
      "\u001b[1;31mClick <a href='https://aka.ms/kernelFailuresOverridingBuiltInModules'>here</a> for more info."
     ]
    }
   ],
   "source": [
    "run_pipeline('1 - ( 1 - 1 )', tokenize_text, 1,  parser, printer)"
   ]
  },
  {
   "cell_type": "markdown",
   "metadata": {},
   "source": [
    "## Adicionando operador _potencia_\n",
    "\n",
    "Añadamos el operador potencia al lenguaje. Para ello, realizaremos las modificaciones pertinentes a cada una de las fases del evaluador. No será necesario **copia y pegar** código de otras clases, ni modificar el código fuente del módulo `cmp` que se distribuye junto al _notebook_.\n",
    "\n",
    "Usaremos el símbolo `^` para denotar al operador potencia. Este es un operador binario que computa $a^b$ siendo, `a` y `b` los operandos izquierdo y derecho respectivamente. Por ejemplo, `2 ^ 4` computa $2^4$. El operador potencia asocia hacia la derecha (contrario a los operadores: +, -, \\* y /). Por tanto, `4 ^ 3 ^ 2` computa $4^{3^2} = 4^9$ en lugar de $(4^3)^2 = 4^6$."
   ]
  },
  {
   "cell_type": "code",
   "execution_count": null,
   "metadata": {},
   "outputs": [
    {
     "ename": "",
     "evalue": "",
     "output_type": "error",
     "traceback": [
      "\u001b[1;31mThe file 'ast.py' seems to be overriding built in modules and interfering with the startup of the kernel. Consider renaming the file and starting the kernel again.\n",
      "\u001b[1;31mClick <a href='https://aka.ms/kernelFailuresOverridingBuiltInModules'>here</a> for more info."
     ]
    }
   ],
   "source": [
    "class PowNode(BinaryNode):\n",
    "    @staticmethod\n",
    "    def operate(lvalue, rvalue):\n",
    "        # Insert your code here!!!\n",
    "        return lvalue ** rvalue"
   ]
  },
  {
   "cell_type": "code",
   "execution_count": null,
   "metadata": {},
   "outputs": [
    {
     "ename": "",
     "evalue": "",
     "output_type": "error",
     "traceback": [
      "\u001b[1;31mThe file 'ast.py' seems to be overriding built in modules and interfering with the startup of the kernel. Consider renaming the file and starting the kernel again.\n",
      "\u001b[1;31mClick <a href='https://aka.ms/kernelFailuresOverridingBuiltInModules'>here</a> for more info."
     ]
    }
   ],
   "source": [
    "G = Grammar()\n",
    "E = G.NonTerminal('E', True)\n",
    "T, F, X, Y, A, Z = G.NonTerminals('T F X Y A Z')\n",
    "plus, minus, star, div, opar, cpar, num, pow = G.Terminals('+ - * / ( ) num ^')\n",
    "\n",
    "############################ BEGIN PRODUCTIONS ############################\n",
    "# ======================================================================= #\n",
    "#                                                                         #\n",
    "# ========================== { E --> T X } ============================== #\n",
    "#                                                                         #\n",
    "E %= T + X, lambda h,s: s[2], None, lambda h,s: s[1]                    #\n",
    "#                                                                         #\n",
    "# =================== { X --> + T X | - T X | epsilon } ================= #\n",
    "#                                                                         #\n",
    "X %= plus + T + X, lambda h,s: s[3], None, None, lambda h,s: PlusNode(s[2], h[0])                             \n",
    "X %= minus + T + X, lambda h,s: s[3], None, None, lambda h,s: MinusNode(h[0], s[2])                              \n",
    "X %= G.Epsilon, lambda h,s: h[0]                                                    \n",
    "#                                                                         #\n",
    "# ============================ { T --> F Y } ============================ #\n",
    "#                                                                         #\n",
    "T %= F + Y, lambda h,s: s[2], None, lambda h,s: s[1]                                            \n",
    "#                                                                         #\n",
    "# ==================== { Y --> * F Y | / F Y | epsilon } ================ #\n",
    "#                                                                         #\n",
    "Y %= star + F + Y, lambda h,s: s[3], None, None, lambda h,s: StarNode(h[0], s[2])                             \n",
    "Y %= div + F + Y, lambda h,s: s[3], None, None, lambda h,s: DivNode(h[0], s[2])                           \n",
    "Y %= G.Epsilon, lambda h,s: h[0]                                                    \n",
    "#                                                                         #\n",
    "# ======================= { F --> num | ( E ) } ========================= #\n",
    "F %= A + Z, lambda h,s: s[2], None,  lambda h,s: s[1]\n",
    "A %= num, lambda h,s: ConstantNumberNode(s[1]), None                                                    \n",
    "A %= opar + E + cpar, lambda h,s: s[2], None, None, None      \n",
    "Z %= pow + F, lambda h,s: PowNode(h[0], s[2]), None, None\n",
    "Z %= G.Epsilon, lambda h,s: h[0]                  \n",
    "#                                                                         #\n",
    "# ======================================================================= #\n",
    "############################# END PRODUCTIONS #############################\n",
    "\n",
    "\n"
   ]
  },
  {
   "cell_type": "code",
   "execution_count": null,
   "metadata": {},
   "outputs": [
    {
     "ename": "",
     "evalue": "",
     "output_type": "error",
     "traceback": [
      "\u001b[1;31mThe file 'ast.py' seems to be overriding built in modules and interfering with the startup of the kernel. Consider renaming the file and starting the kernel again.\n",
      "\u001b[1;31mClick <a href='https://aka.ms/kernelFailuresOverridingBuiltInModules'>here</a> for more info."
     ]
    }
   ],
   "source": [
    "from cmp.languages import UnknownToken\n",
    "\n",
    "\n",
    "fixed_tokens = { lex: Token(lex, G[lex]) for lex in '+ - * / ( ) ^'.split() }\n",
    "def tokenizer(G, fixed_tokens):\n",
    "        fixed_tokens = fixed_tokens\n",
    "\n",
    "        def tokenize_text(text: str):\n",
    "            tokens = []\n",
    "            splitted_text = text.split()\n",
    "            for i, item in enumerate(splitted_text):\n",
    "                try:\n",
    "                    float(item)\n",
    "                    token = Token(item, G['num'])\n",
    "                except ValueError:\n",
    "                    try:\n",
    "                        token = fixed_tokens[item]\n",
    "                    except KeyError:\n",
    "                        if i == len(splitted_text)-1:\n",
    "                            token = Token(item, G['id'])\n",
    "                        elif i < len(splitted_text) - 1 and splitted_text[i + 1] in ('+', '-', '*', '/', '(', ')', '^', '='):\n",
    "                            token = Token(item, G['id'])\n",
    "                        else:\n",
    "                            token = UnknownToken(item)\n",
    "                tokens.append(token)\n",
    "            eof = Token('$', G.EOF)\n",
    "            tokens.append(eof)\n",
    "            return tokens\n",
    "\n",
    "        return tokenize_text\n"
   ]
  },
  {
   "cell_type": "markdown",
   "metadata": {},
   "source": [
    "Como ayuda se proveen los conjunto _First_ y _Follow_ precomputados de lo que consideramos la gramática **natural** a obtener. De igual forma se tiene la tabla y parser LL(1). Siéntase libre de utilizar el código siguiente pero puede reemplazarlo por sus propias implementaciones en caso de que no pueda (o no entienda) cómo utilizarlo."
   ]
  },
  {
   "cell_type": "code",
   "execution_count": null,
   "metadata": {},
   "outputs": [
    {
     "ename": "",
     "evalue": "",
     "output_type": "error",
     "traceback": [
      "\u001b[1;31mThe file 'ast.py' seems to be overriding built in modules and interfering with the startup of the kernel. Consider renaming the file and starting the kernel again.\n",
      "\u001b[1;31mClick <a href='https://aka.ms/kernelFailuresOverridingBuiltInModules'>here</a> for more info."
     ]
    }
   ],
   "source": [
    "from cmp.languages import PowHulk\n",
    "pow_hulk = PowHulk(G)\n",
    "\n",
    "firsts = pow_hulk.firsts\n",
    "follows = pow_hulk.follows\n",
    "\n",
    "tokenize_text = tokenizer(G, fixed_tokens)\n",
    "print('tokens', tokenize_text)\n",
    "\n",
    "from cmp.tools.parsing import build_parsing_table, metodo_predictivo_no_recursivo\n",
    "M = build_parsing_table(G, firsts, follows)\n",
    "print('mm', M)\n",
    "parser = metodo_predictivo_no_recursivo(G, M, firsts, follows)\n",
    "# custom_parser = metodo_predictivo_con_evaluacion(G, M)\n",
    "print(parser)\n",
    "v = (E, num)\n",
    "print(M[v])\n",
    "for x in M:\n",
    "    print(x == v)\n"
   ]
  },
  {
   "cell_type": "markdown",
   "metadata": {},
   "source": [
    "**Comprobemos que el operador potencia asocia hacia la derecha.**"
   ]
  },
  {
   "cell_type": "code",
   "execution_count": null,
   "metadata": {},
   "outputs": [
    {
     "ename": "",
     "evalue": "",
     "output_type": "error",
     "traceback": [
      "\u001b[1;31mThe file 'ast.py' seems to be overriding built in modules and interfering with the startup of the kernel. Consider renaming the file and starting the kernel again.\n",
      "\u001b[1;31mClick <a href='https://aka.ms/kernelFailuresOverridingBuiltInModules'>here</a> for more info."
     ]
    }
   ],
   "source": [
    "run_pipeline('4 ^ 3 ^ 2', tokenize_text, 262144, parser, printer)"
   ]
  },
  {
   "cell_type": "markdown",
   "metadata": {},
   "source": [
    "**Comprobemos que tiene más precedencia que el resto de los operadores.**"
   ]
  },
  {
   "cell_type": "code",
   "execution_count": null,
   "metadata": {},
   "outputs": [
    {
     "ename": "",
     "evalue": "",
     "output_type": "error",
     "traceback": [
      "\u001b[1;31mThe file 'ast.py' seems to be overriding built in modules and interfering with the startup of the kernel. Consider renaming the file and starting the kernel again.\n",
      "\u001b[1;31mClick <a href='https://aka.ms/kernelFailuresOverridingBuiltInModules'>here</a> for more info."
     ]
    }
   ],
   "source": [
    "run_pipeline('2 * 3 ^ 4 + 1 * 5', tokenize_text, 167, parser, printer)"
   ]
  },
  {
   "cell_type": "markdown",
   "metadata": {},
   "source": [
    "**Comprobemos que puede subordinarse a otros operadores usando paréntesis.**"
   ]
  },
  {
   "cell_type": "code",
   "execution_count": null,
   "metadata": {},
   "outputs": [
    {
     "ename": "",
     "evalue": "",
     "output_type": "error",
     "traceback": [
      "\u001b[1;31mThe file 'ast.py' seems to be overriding built in modules and interfering with the startup of the kernel. Consider renaming the file and starting the kernel again.\n",
      "\u001b[1;31mClick <a href='https://aka.ms/kernelFailuresOverridingBuiltInModules'>here</a> for more info."
     ]
    }
   ],
   "source": [
    "run_pipeline('3 ^ ( 1 + 1 ) ^ 2', tokenize_text, 81, parser, printer)"
   ]
  },
  {
   "cell_type": "markdown",
   "metadata": {},
   "source": [
    "## Adicionando _declaraciones de variables_\n",
    "\n",
    "Añadamos variables al lenguaje de expresiones para acercarnos más a `HULK`. Para ello, agregue la expresión `let-in` al lenguaje. Dicha expresión sigue la siguiente sintaxis:\n",
    "\n",
    "```\n",
    "let\n",
    "    <declaration-list>\n",
    "in\n",
    "    <expr>\n",
    "```\n",
    "donde `<expr>` denota cualquier expresión del lenguaje (incluyendo el propio `let-in`) y `<declaration-list>` representa una secuencia de declaraciones de la forma `<id> = <expr>` separadas por \"`,`\".\n",
    "\n",
    "El valor de evaluación de la expresión `let-in` es el valor de evaluación de `<expr>`.  \n",
    "Las variables declaradas en `<declaration-list>` serán visibles a partir de su declaración pero únicamente dentro de la expresión `let-in` que las contiene (incluye `<expr>`). Si `<expr>` contiene a su vez una expresión `let-in`, la declaración de una variable con el mismo nombre que una en el `let-in` padre **ocultará** la del padre.  \n",
    "Por ejemplo, la expresión:\n",
    "```\n",
    "let\n",
    "    x = 1,\n",
    "    y = 2\n",
    "in\n",
    "    3 + (let x = 4, z = 5 in x + y + z) + x\n",
    "```\n",
    "equivalente a:\n",
    "```\n",
    "let x = 1, y = 2 in 3 + (let x = 4, z = 5 in x + y + z) + x\n",
    "```\n",
    "evalúa `15`."
   ]
  },
  {
   "cell_type": "code",
   "execution_count": null,
   "metadata": {},
   "outputs": [
    {
     "ename": "",
     "evalue": "",
     "output_type": "error",
     "traceback": [
      "\u001b[1;31mThe file 'ast.py' seems to be overriding built in modules and interfering with the startup of the kernel. Consider renaming the file and starting the kernel again.\n",
      "\u001b[1;31mClick <a href='https://aka.ms/kernelFailuresOverridingBuiltInModules'>here</a> for more info."
     ]
    }
   ],
   "source": [
    "class LetHulk:\n",
    "    def __init__(self, G: Grammar, fixed_tokens) -> None:\n",
    "        self.G = G,\n",
    "        self.fixed_tokens = fixed_tokens\n",
    "\n",
    "class VariableNode():\n",
    "    def __init__(self,id,dic):\n",
    "        self.id = id \n",
    "        self.dic = dic\n",
    "    @staticmethod\n",
    "    def evaluate(dic , id):\n",
    "        return dic[id]\n",
    "class AssignNode():\n",
    "\n",
    "    def __init__(self,id, value , assingNode):\n",
    "        self.value = value\n",
    "        self.id = id\n",
    "        self.assingNode = assingNode\n",
    "        self.dic = {}\n",
    "        self.dic[id] = value\n",
    "        if assingNode:\n",
    "            print(type(assingNode))\n",
    "            print(assingNode.dic)\n",
    "            for i,j in assingNode.dic:\n",
    "                print(i, 'valor')\n",
    "                print(j, 'valoooooor')\n",
    "                self.dic[i] = j\n",
    "\n",
    "    def evaluate(self):\n",
    "        return self.dic"
   ]
  },
  {
   "cell_type": "code",
   "execution_count": null,
   "metadata": {},
   "outputs": [
    {
     "ename": "",
     "evalue": "",
     "output_type": "error",
     "traceback": [
      "\u001b[1;31mThe file 'ast.py' seems to be overriding built in modules and interfering with the startup of the kernel. Consider renaming the file and starting the kernel again.\n",
      "\u001b[1;31mClick <a href='https://aka.ms/kernelFailuresOverridingBuiltInModules'>here</a> for more info."
     ]
    }
   ],
   "source": [
    "G = Grammar()\n",
    "E = G.NonTerminal('E', True)\n",
    "T, F, X, Y, A, Z , V , L ,I = G.NonTerminals('T  F X Y A Z V L I')\n",
    "plus, minus, star, div, opar, cpar, num, pow , equal, let, inh, id, comma = G.Terminals('+ - * / ( ) num ^ = let in id ,')\n",
    "\n",
    "############################ BEGIN PRODUCTIONS ############################\n",
    "# ======================================================================= #\n",
    "#                                                                         #\n",
    "# ========================== { E --> T X } ============================== #\n",
    "#                                                                         #\n",
    "E %= T + X, lambda h,s: s[2], None, lambda h,s: s[1]                    #\n",
    "#                                                                         #\n",
    "# =================== { X --> + T X | - T X | epsilon } ================= #\n",
    "#                                                                         #\n",
    "X %= plus + T + X, lambda h,s: s[3], None, None, lambda h,s: PlusNode(s[2], h[0])                             \n",
    "X %= minus + T + X, lambda h,s: s[3], None, None, lambda h,s: MinusNode(h[0], s[2])                              \n",
    "X %= G.Epsilon, lambda h,s: h[0]                                                    \n",
    "#                                                                         #\n",
    "# ============================ { T --> F Y } ============================ #\n",
    "#                                                                         #\n",
    "T %= F + Y, lambda h,s: s[2], None, lambda h,s: s[1]                                            \n",
    "#                                                                         #\n",
    "# ==================== { Y --> * F Y | / F Y | epsilon } ================ #\n",
    "#                                                                         #\n",
    "Y %= star + F + Y, lambda h,s: s[3], None, None, lambda h,s: StarNode(h[0], s[2])                             \n",
    "Y %= div + F + Y, lambda h,s: s[3], None, None, lambda h,s: DivNode(h[0], s[2])                           \n",
    "Y %= G.Epsilon, lambda h,s: h[0]                                                    \n",
    "#                                                                         #\n",
    "# ======================= { F --> AZ } ===================================#\n",
    "#\n",
    "F %= A + Z, lambda h,s: s[2], None,  lambda h,s: s[1]\n",
    "#\n",
    "#\n",
    "#======================{A --> num | (E) | let VI | id}=================================#\n",
    "#\n",
    "#\n",
    "A %= num, lambda h,s: ConstantNumberNode(s[1]), None                                                    \n",
    "A %= opar + E + cpar, lambda h,s: s[2], None, None, None  \n",
    "A %= let + V + I , lambda h,s: s[3], None, None, lambda h,s: s[2]\n",
    "A %= id, lambda h,s: VariableNode(h[0], s[1] ), None\n",
    "# \n",
    "# ===================={Z --> ^F | epsilon}================================#    \n",
    "Z %= pow + F, lambda h,s: PowNode(h[0], s[2]), None, None\n",
    "Z %= G.Epsilon, lambda h,s: h[0]                 \n",
    "#                                                                         \n",
    "#==========================={V --> id= EL}================================#\n",
    "#\n",
    "#\n",
    "V %= id + equal + E + L , lambda h,s : AssignNode(s[1],s[3], s[4]), None, None,None, None\n",
    "#\n",
    "#\n",
    "#==========================={L --> ,V | epsilon}================================#\n",
    "L %= comma + V , lambda h,s : s[2], None, None\n",
    "L %= G.Epsilon, lambda h,s : h[0]\n",
    "#\n",
    "#\n",
    "#==========================={I --> inh E}================================#\n",
    "#\n",
    "I %= inh + E , lambda h,s : s[2], None, None\n",
    "#\n",
    "############################# END PRODUCTIONS #############################"
   ]
  },
  {
   "cell_type": "code",
   "execution_count": null,
   "metadata": {},
   "outputs": [
    {
     "ename": "",
     "evalue": "",
     "output_type": "error",
     "traceback": [
      "\u001b[1;31mThe file 'ast.py' seems to be overriding built in modules and interfering with the startup of the kernel. Consider renaming the file and starting the kernel again.\n",
      "\u001b[1;31mClick <a href='https://aka.ms/kernelFailuresOverridingBuiltInModules'>here</a> for more info."
     ]
    }
   ],
   "source": [
    "# Computes First(alpha), given First(Vt) and First(Vn) \n",
    "# alpha in (Vt U Vn)*\n",
    "from cmp.pycompiler import Sentence\n",
    "from cmp.utils import ContainerSet\n",
    "\n",
    "\n",
    "def compute_local_first(firsts, alpha: Sentence):\n",
    "    first_alpha = ContainerSet()\n",
    "    \n",
    "    try:\n",
    "        alpha_is_epsilon = alpha.IsEpsilon\n",
    "    except:\n",
    "        alpha_is_epsilon = False\n",
    "    \n",
    "    ###################################################\n",
    "    # alpha == epsilon ? First(alpha) = { epsilon }\n",
    "    ###################################################\n",
    "    #                   <CODE_HERE>                   #\n",
    "    ###################################################\n",
    "\n",
    "    # print('FIRSTs ', firsts)\n",
    "    # print('alpha, ', alpha)\n",
    "    if alpha_is_epsilon:\n",
    "        first_alpha.set_epsilon()\n",
    "\n",
    "    else:\n",
    "        for i, x in enumerate(alpha):\n",
    "            if first_alpha.contains_epsilon:\n",
    "                first_alpha.set_epsilon(False)\n",
    "            if x.IsTerminal:\n",
    "                first_alpha.update(ContainerSet(x))\n",
    "                break\n",
    "            else:\n",
    "                first_alpha.hard_update(firsts[alpha[i]])\n",
    "                if not first_alpha.contains_epsilon:\n",
    "                    break\n",
    "    \n",
    "    ###################################################\n",
    "    # alpha = X1 ... XN\n",
    "    # First(Xi) subconjunto First(alpha)\n",
    "    # epsilon pertenece a First(X1)...First(Xi) ? First(Xi+1) subconjunto de First(X) y First(alpha)\n",
    "    # epsilon pertenece a First(X1)...First(XN) ? epsilon pertence a First(X) y al First(alpha)\n",
    "    ###################################################\n",
    "    #                   <CODE_HERE>                   #\n",
    "    ###################################################\n",
    "    # First(alpha)\n",
    "    return first_alpha"
   ]
  },
  {
   "cell_type": "code",
   "execution_count": null,
   "metadata": {},
   "outputs": [
    {
     "ename": "",
     "evalue": "",
     "output_type": "error",
     "traceback": [
      "\u001b[1;31mThe file 'ast.py' seems to be overriding built in modules and interfering with the startup of the kernel. Consider renaming the file and starting the kernel again.\n",
      "\u001b[1;31mClick <a href='https://aka.ms/kernelFailuresOverridingBuiltInModules'>here</a> for more info."
     ]
    }
   ],
   "source": [
    "# Computes First(Vt) U First(Vn) U First(alpha)\n",
    "# P: X -> alpha\n",
    "def compute_firsts(G):\n",
    "    firsts = {}\n",
    "    change = True\n",
    "    \n",
    "    # init First(Vt)\n",
    "    for terminal in G.terminals:\n",
    "        firsts[terminal] = ContainerSet(terminal)\n",
    "        \n",
    "    # init First(Vn)\n",
    "    for nonterminal in G.nonTerminals:\n",
    "        firsts[nonterminal] = ContainerSet()\n",
    "    \n",
    "    while change:\n",
    "        change = False\n",
    "        \n",
    "        # P: X -> alpha\n",
    "        for production in G.Productions:\n",
    "            X = production.Left\n",
    "            alpha = production.Right\n",
    "            \n",
    "            # get current First(X)\n",
    "            first_X = firsts[X]\n",
    "                \n",
    "            # init First(alpha)\n",
    "            try:\n",
    "                first_alpha = firsts[alpha]\n",
    "            except KeyError:\n",
    "                first_alpha = firsts[alpha] = ContainerSet()\n",
    "            \n",
    "            # CurrentFirst(alpha)???\n",
    "            local_first = compute_local_first(firsts, alpha)\n",
    "            \n",
    "            # update First(X) and First(alpha) from CurrentFirst(alpha)\n",
    "            change |= first_alpha.hard_update(local_first)\n",
    "            change |= first_X.hard_update(local_first)\n",
    "                    \n",
    "    # First(Vt) + First(Vt) + First(RightSides)\n",
    "    return firsts"
   ]
  },
  {
   "cell_type": "code",
   "execution_count": null,
   "metadata": {},
   "outputs": [
    {
     "ename": "",
     "evalue": "",
     "output_type": "error",
     "traceback": [
      "\u001b[1;31mThe file 'ast.py' seems to be overriding built in modules and interfering with the startup of the kernel. Consider renaming the file and starting the kernel again.\n",
      "\u001b[1;31mClick <a href='https://aka.ms/kernelFailuresOverridingBuiltInModules'>here</a> for more info."
     ]
    }
   ],
   "source": [
    "from itertools import islice\n",
    "\n",
    "def compute_follows(G, firsts):\n",
    "    follows = { }\n",
    "    change = True\n",
    "    \n",
    "    local_firsts = {}\n",
    "    \n",
    "    # init Follow(Vn)\n",
    "    for nonterminal in G.nonTerminals:\n",
    "        follows[nonterminal] = ContainerSet()\n",
    "    follows[G.startSymbol] = ContainerSet(G.EOF)\n",
    "    \n",
    "    while change:\n",
    "        change = False\n",
    "        \n",
    "        # P: X -> alpha\n",
    "        for production in G.Productions:\n",
    "            X = production.Left\n",
    "            alpha = production.Right\n",
    "            \n",
    "            follow_X = follows[X]\n",
    "            \n",
    "            ###################################################\n",
    "            # X -> zeta Y beta\n",
    "            # First(beta) - { epsilon } subset of Follow(Y)\n",
    "            # beta ->* epsilon or X -> zeta Y ? Follow(X) subset of Follow(Y)\n",
    "            ###################################################\n",
    "            #                   <CODE_HERE>                   #\n",
    "            ###################################################\n",
    "            if alpha.IsEpsilon:\n",
    "                continue\n",
    "\n",
    "\n",
    "            for i, symbol in enumerate(alpha):\n",
    "                if(symbol.IsTerminal): \n",
    "                    continue\n",
    "                if(symbol.IsNonTerminal):\n",
    "                    \n",
    "                    if( i + 1 < len(alpha)):\n",
    "                        \n",
    "                        next_symbol = alpha[i+1]\n",
    "                        \n",
    "                            \n",
    "                        local_first = firsts[next_symbol]\n",
    "                           \n",
    "                               \n",
    "                        change |= follows[symbol].update(local_first)\n",
    "                        if local_first.contains_epsilon:\n",
    "                            change |= follows[symbol].update(follow_X)\n",
    "                    \n",
    "                    else:\n",
    "                        follows[alpha[-1]] = follow_X\n",
    "            ###################################################\n",
    "            \n",
    "    # Follow(Vn)\n",
    "    return follows"
   ]
  },
  {
   "cell_type": "code",
   "execution_count": null,
   "metadata": {},
   "outputs": [
    {
     "ename": "",
     "evalue": "",
     "output_type": "error",
     "traceback": [
      "\u001b[1;31mThe file 'ast.py' seems to be overriding built in modules and interfering with the startup of the kernel. Consider renaming the file and starting the kernel again.\n",
      "\u001b[1;31mClick <a href='https://aka.ms/kernelFailuresOverridingBuiltInModules'>here</a> for more info."
     ]
    }
   ],
   "source": [
    "fixed_tokens = { lex: Token(lex, G[lex]) for lex in '+ - * / ( ) ^ = let in id ,'.split() }\n",
    "letHulk = LetHulk(G, fixed_tokens)\n",
    "letHulkfirsts = compute_firsts(G)\n",
    "letHulkFollows = compute_follows(G, letHulkfirsts)\n",
    "letHulkTable = build_parsing_table(G, letHulkfirsts, letHulkFollows)\n",
    "letHulkParser = metodo_predictivo_no_recursivo(G, letHulkTable, letHulkfirsts, letHulkFollows)\n",
    "tokenize_text = tokenizer(G, letHulk.fixed_tokens)\n",
    "        "
   ]
  },
  {
   "cell_type": "code",
   "execution_count": null,
   "metadata": {},
   "outputs": [
    {
     "ename": "",
     "evalue": "",
     "output_type": "error",
     "traceback": [
      "\u001b[1;31mThe file 'ast.py' seems to be overriding built in modules and interfering with the startup of the kernel. Consider renaming the file and starting the kernel again.\n",
      "\u001b[1;31mClick <a href='https://aka.ms/kernelFailuresOverridingBuiltInModules'>here</a> for more info."
     ]
    }
   ],
   "source": [
    "expression = 'let x = 1 , y = 2 in 3 + ( let x = 4 , z = 5 in x + y + z ) + x'\n",
    "run_pipeline(expression, tokenize_text, 15, letHulkParser, printer)"
   ]
  },
  {
   "cell_type": "code",
   "execution_count": null,
   "metadata": {},
   "outputs": [
    {
     "ename": "",
     "evalue": "",
     "output_type": "error",
     "traceback": [
      "\u001b[1;31mThe file 'ast.py' seems to be overriding built in modules and interfering with the startup of the kernel. Consider renaming the file and starting the kernel again.\n",
      "\u001b[1;31mClick <a href='https://aka.ms/kernelFailuresOverridingBuiltInModules'>here</a> for more info."
     ]
    }
   ],
   "source": []
  }
 ],
 "metadata": {
  "kernelspec": {
   "display_name": "Python 3.10.7 64-bit",
   "language": "python",
   "name": "python3"
  },
  "language_info": {
   "codemirror_mode": {
    "name": "ipython",
    "version": 3
   },
   "file_extension": ".py",
   "mimetype": "text/x-python",
   "name": "python",
   "nbconvert_exporter": "python",
   "pygments_lexer": "ipython3",
   "version": "3.10.7"
  },
  "vscode": {
   "interpreter": {
    "hash": "aee8b7b246df8f9039afb4144a1f6fd8d2ca17a180786b69acc140d282b71a49"
   }
  }
 },
 "nbformat": 4,
 "nbformat_minor": 4
}
