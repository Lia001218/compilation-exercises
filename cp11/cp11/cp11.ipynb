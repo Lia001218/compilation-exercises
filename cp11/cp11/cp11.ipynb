{
 "cells": [
  {
   "cell_type": "markdown",
   "metadata": {},
   "source": [
    "# Clase Práctica #11 (Compilación)"
   ]
  },
  {
   "cell_type": "markdown",
   "metadata": {},
   "source": [
    "En esta clase estaremos implementando un **generador de parsers LR(1)**. Procederemos de forma análoga a la clase anterior: primero implementaremos el mecanismo de construcción del **autómata LR(1)** y posteriormente heredaremos de **Shift-Reduce parser** para llenar la tabla **Action-Goto** de forma acorde.\n",
    "\n",
    "Comencemos por importar la clase `Grammar`."
   ]
  },
  {
   "cell_type": "code",
   "execution_count": 158,
   "metadata": {},
   "outputs": [],
   "source": [
    "from cmp.pycompiler import Grammar"
   ]
  },
  {
   "cell_type": "markdown",
   "metadata": {},
   "source": [
    "Trabajaremos sobre el lenguaje de expresiones que usamos en la última conferencia."
   ]
  },
  {
   "cell_type": "code",
   "execution_count": 159,
   "metadata": {},
   "outputs": [
    {
     "name": "stdout",
     "output_type": "stream",
     "text": [
      "Non-Terminals:\n",
      "\tE, A\n",
      "Terminals:\n",
      "\t=, +, int\n",
      "Productions:\n",
      "\t[E -> A = A, E -> int, A -> int + A, A -> int]\n"
     ]
    }
   ],
   "source": [
    "G = Grammar()\n",
    "E = G.NonTerminal('E', True)\n",
    "A = G.NonTerminal('A')\n",
    "equal, plus, num = G.Terminals('= + int')\n",
    "\n",
    "E %=  A + equal + A | num\n",
    "A %= num + plus + A | num\n",
    "\n",
    "print(G)"
   ]
  },
  {
   "cell_type": "markdown",
   "metadata": {},
   "source": [
    "## Items\n",
    "\n",
    "Usaremos la implementación de `Item` provista en `cmp.pycompiler` para modelar los items LR(1). Esta vez haremos uso del parámetro `lookaheads` que se especifica en el constructor de la clase `Item` para almacenar justamente los `lookaheads` de los items LR(1)."
   ]
  },
  {
   "cell_type": "code",
   "execution_count": 160,
   "metadata": {},
   "outputs": [
    {
     "name": "stdout",
     "output_type": "stream",
     "text": [
      "item: E -> .A=A, {'+', '$'}\n"
     ]
    }
   ],
   "source": [
    "from cmp.pycompiler import Item\n",
    "\n",
    "item = Item(E.productions[0], 0, lookaheads=[G.EOF, plus])\n",
    "print('item:', item)"
   ]
  },
  {
   "cell_type": "markdown",
   "metadata": {},
   "source": [
    "Se incluyó la función `Preview` a cada item. Esta devuelve todas las posibles cadenas que resultan de concatenar _\"lo que queda por leer del item tras saltarse `skip=1` símbolos\"_ con los posibles lookaheads. Esta función nos será útil, pues sabemos que el lookahead de los items LR(1) se obtiene de calcular el `first` de estas cadenas."
   ]
  },
  {
   "cell_type": "code",
   "execution_count": 161,
   "metadata": {},
   "outputs": [
    {
     "name": "stdout",
     "output_type": "stream",
     "text": [
      "E -> .A=A, {'+', '$'}\n",
      "<class 'tuple'>\n",
      "item.Preview: ('=', 'A', '+')\n",
      "E -> .A=A, {'+', '$'}\n",
      "<class 'tuple'>\n",
      "item.Preview: ('=', 'A', '$')\n"
     ]
    }
   ],
   "source": [
    "for preview in item.Preview():\n",
    "    print(item)\n",
    "    print(type(preview))\n",
    "    print('item.Preview:', preview)"
   ]
  },
  {
   "cell_type": "markdown",
   "metadata": {},
   "source": [
    "## Clausura de un conjunto de items LR(1)\n",
    "\n",
    "Como primer paso para calcular la clausura, implementaremos la función `expand`. Esta recibe un item LR(1) y devuelve el conjunto de items que sugiere incluir (directamente) debido a la presencia de un `.` delante de un no terminal.\n",
    "\n",
    "> expand(\"$Y \\to \\alpha . X \\delta, c$\") = { \"$X \\to . \\beta, b$\" | $b \\in First(\\delta c)$ }"
   ]
  },
  {
   "cell_type": "code",
   "execution_count": 162,
   "metadata": {},
   "outputs": [
    {
     "name": "stdout",
     "output_type": "stream",
     "text": [
      "items E -> .A=A, {'+', '$'}\n",
      "firsts {'=': {'='}-False, '+': {'+'}-False, 'int': {'int'}-False, 'E': {'int'}-False, 'A': {'int'}-False, A = A: {'int'}-False, int: {'int'}-False, int + A: {'int'}-False, '$': {'$'}-False}\n",
      "A -> .int+A, {'='}\n",
      "A -> .int, {'='}\n"
     ]
    }
   ],
   "source": [
    "from cmp.utils import ContainerSet\n",
    "from cmp.tools.parsing import compute_firsts, compute_local_first\n",
    "\n",
    "firsts = compute_firsts(G)\n",
    "firsts[G.EOF] = ContainerSet(G.EOF)\n",
    "\n",
    "print('items', item)\n",
    "print('firsts', firsts)\n",
    "\n",
    "def expand(item: Item, firsts):\n",
    "    next_symbol = item.NextSymbol\n",
    "    if next_symbol is None or not next_symbol.IsNonTerminal:\n",
    "        return []\n",
    "    \n",
    "    lookaheads = ContainerSet()\n",
    "\n",
    "    # Your code here!!! (Compute lookahead for child items)\n",
    "    for x in item.Preview():\n",
    "        lookaheads.update(compute_local_first(firsts, x))\n",
    "        \n",
    "    assert not lookaheads.contains_epsilon\n",
    "    productions = next_symbol.productions\n",
    "    # Your code here!!! (Build and return child items)\n",
    "    return [Item(production, 0, lookaheads) for production in productions]\n",
    "    \n",
    "    \n",
    "for x in expand(item, firsts) :\n",
    "    print(x)\n",
    "assert str(expand(item, firsts)) == \"[A -> .int+A, {'='}, A -> .int, {'='}]\""
   ]
  },
  {
   "cell_type": "markdown",
   "metadata": {},
   "source": [
    "Como segundo paso, implementaremos la función `compress`. Esta recibe un conjunto de items LR(1) y devuelve el mismo conjunto pero en el que los items con mismo centro están unidos (se combinan los lookahead)."
   ]
  },
  {
   "cell_type": "code",
   "execution_count": 163,
   "metadata": {},
   "outputs": [
    {
     "data": {
      "text/plain": [
       "{E -> .A=A, {'$', '+'}, E -> A.=A, {'+'}, E -> A=.A, {'+', '$'}}"
      ]
     },
     "execution_count": 163,
     "metadata": {},
     "output_type": "execute_result"
    }
   ],
   "source": [
    "def compress(items):\n",
    "    centers = {}\n",
    "\n",
    "    for item in items:\n",
    "        center = item.Center()\n",
    "        try:\n",
    "            lookaheads = centers[center]\n",
    "        except KeyError:\n",
    "            centers[center] = lookaheads = set()\n",
    "        lookaheads.update(item.lookaheads)\n",
    "    \n",
    "    return { Item(x.production, x.pos, set(lookahead)) for x, lookahead in centers.items() }\n",
    "\n",
    "compress([\n",
    "    Item(E.productions[0], 0, lookaheads=(G.EOF,)),\n",
    "    Item(E.productions[0], 0, lookaheads=(plus,)),\n",
    "    Item(E.productions[0], 1, lookaheads=(plus,)),\n",
    "    Item(E.productions[0], 2, lookaheads=(plus,)),\n",
    "    Item(E.productions[0], 2, lookaheads=(plus,G.EOF)),\n",
    "])"
   ]
  },
  {
   "cell_type": "markdown",
   "metadata": {},
   "source": [
    "### Clausura\n",
    "\n",
    "Finalmente implementaremos la función clausura de un conjunto de items LR(1). Recordemos que:\n",
    "\n",
    "> $CL(I) = I \\cup \\{ X \\rightarrow .\\beta, b\\}$ tales que:\n",
    "> - $Y \\rightarrow \\alpha .X \\delta, c \\in CL(I)$\n",
    "> - $b \\in First(\\delta c)$.\n",
    "\n",
    "Apoyándonos en las dos funciones anteriores, debería resultar relativamente simple. Como de costumbre para los algoritmos de este tipo, utilizaremos una técnica de punto fijo. "
   ]
  },
  {
   "cell_type": "code",
   "execution_count": 164,
   "metadata": {},
   "outputs": [
    {
     "name": "stdout",
     "output_type": "stream",
     "text": [
      "E -> .A=A, {'$', '+'}\n",
      "E -> A=.A, {'$', '+'}\n",
      "A -> .int, {'=', '+', '$'}\n",
      "A -> .int+A, {'=', '+', '$'}\n"
     ]
    }
   ],
   "source": [
    "def closure_lr1(items, firsts):\n",
    "    closure = ContainerSet(*items)\n",
    "    \n",
    "    changed = True\n",
    "    while changed:\n",
    "        changed = False\n",
    "        \n",
    "        new_items = ContainerSet()\n",
    "        \n",
    "        # Your code here!!!\n",
    "        for x in closure:\n",
    "            expanded=expand(x, firsts)\n",
    "            new_items.update(ContainerSet(*expanded))\n",
    "                    \n",
    "        changed = closure.update(new_items)\n",
    "        \n",
    "    return compress(closure)\n",
    "\n",
    "closure = closure_lr1([item, item.NextItem().NextItem()], firsts)\n",
    "for x in closure:\n",
    "    print(x)\n",
    "\n",
    "expected = {\n",
    "    Item(E.productions[0], 0, lookaheads=(plus, G.EOF)),\n",
    "    Item(E.productions[0], 2, lookaheads=(plus, G.EOF)),\n",
    "    Item(A.productions[0], 0, lookaheads=(plus, G.EOF, equal)),\n",
    "    Item(A.productions[1], 0, lookaheads=(plus, G.EOF, equal)),\n",
    "}\n",
    "assert closure == expected"
   ]
  },
  {
   "cell_type": "markdown",
   "metadata": {},
   "source": [
    "## Goto\n",
    "\n",
    "Se provee la implementación de la función `goto(Ii, s)`. Recordemos que:\n",
    "\n",
    "> $Goto(I,X) = CL(\\{ Y \\rightarrow \\alpha X. \\beta, c | Y \\rightarrow \\alpha .X \\beta, c \\in I \\})$\n",
    "\n",
    "La función recibe como parámetro un conjunto de items y un símbolo, y devuelve el conjunto `goto(items, symbol)`. El método permite setear el parámentro `just_kernel=True` para calcular solamente el conjunto de items kernels en lugar de todo el conjunto de items. En caso contrario, se debe proveer el conjunto con los `firsts` de la gramática, puesto que serán usados al calcular la clausura."
   ]
  },
  {
   "cell_type": "code",
   "execution_count": 165,
   "metadata": {},
   "outputs": [
    {
     "name": "stdout",
     "output_type": "stream",
     "text": [
      "{E -> A.=A, {'+', '$'}}\n"
     ]
    }
   ],
   "source": [
    "def goto_lr1(items, symbol, firsts=None, just_kernel=False):\n",
    "    assert just_kernel or firsts is not None, '`firsts` must be provided if `just_kernel=False`'\n",
    "    items = frozenset(item.NextItem() for item in items if item.NextSymbol == symbol)\n",
    "    return items if just_kernel else closure_lr1(items, firsts)\n",
    "\n",
    "goto = goto_lr1([item], A, firsts)\n",
    "print(goto)\n",
    "assert  goto == {\n",
    "    Item(E.productions[0], 1, lookaheads=(plus, G.EOF))\n",
    "}"
   ]
  },
  {
   "cell_type": "markdown",
   "metadata": {},
   "source": [
    "### Construcción del autómata LR(1)\n",
    "\n",
    "Implementemos el algoritmo para construir el autómata LR(1). Recordemos de conferencia que:\n",
    "- El estado inicial es la clausura del item **`S' -> .S, $`**.\n",
    "- Todos los estados son finales.\n",
    "- Las transiciones ocurren con terminales y no terminales.\n",
    "- La función de transición está dada por la función **goto**.\n",
    "    - `f(Ii, c) = Goto(Ii, c)`\n",
    "\n",
    "_**OJO:** Intente usar solo los items kernel al comparar los estados._"
   ]
  },
  {
   "cell_type": "code",
   "execution_count": 166,
   "metadata": {},
   "outputs": [],
   "source": [
    "from pprint import pprint\n",
    "from cmp.automata import State, multiline_formatter\n",
    "\n",
    "def build_LR1_automaton(G):\n",
    "    assert len(G.startSymbol.productions) == 1, 'Grammar must be augmented'\n",
    "    \n",
    "    firsts = compute_firsts(G)\n",
    "    firsts[G.EOF] = ContainerSet(G.EOF)\n",
    "    \n",
    "    start_production = G.startSymbol.productions[0]\n",
    "    start_item = Item(start_production, 0, lookaheads=(G.EOF,))\n",
    "    start = frozenset([start_item])\n",
    "    \n",
    "    closure = closure_lr1(start, firsts)\n",
    "    print('closure:', [type(x) for x in closure])\n",
    "    automaton = State(frozenset(closure), True)\n",
    "    print('automaton', automaton.state)\n",
    "    pending = [ start ]\n",
    "    visited = { start: automaton }\n",
    "    print('intento', closure_lr1(automaton.state, firsts))\n",
    "    while pending:\n",
    "        current = pending.pop()\n",
    "        \n",
    "        current_state = visited[current]\n",
    "        \n",
    "        \n",
    "            # Your code here!!! (Get/Build next_state)\n",
    "        # print('entro')\n",
    "        \n",
    "        # for item in current_state.state:\n",
    "        #     print('item', item)\n",
    "        #     new_closure = closure_lr1(frozenset([item]), firsts)\n",
    "        #     print('new closure', new_closure)\n",
    "\n",
    "        #     # print('current item', item, symbol)\n",
    "        #     new_closure = new_closure.union(current_state.state)\n",
    "        #     print('total items', new_closure)\n",
    "                \n",
    "        new_closure = closure_lr1(current_state.state, firsts)\n",
    "        for new_item in new_closure:\n",
    "            for symbol in G.terminals + G.nonTerminals:\n",
    "                next_state = None\n",
    "                if symbol.Name in current_state.transitions:\n",
    "                    continue\n",
    "                if new_item.NextSymbol == symbol:\n",
    "                    print('current state and symbol', current_state, symbol)\n",
    "                    next_state = goto_lr1(new_closure, symbol, firsts=firsts)\n",
    "                    print('next state', next_state)\n",
    "                    \n",
    "                    if next_state:\n",
    "                        frozen = frozenset(next_state)\n",
    "                        print('el frozen', frozen)\n",
    "                        if not frozen in visited:\n",
    "                            print('lo pongo')\n",
    "                            pending.append(frozen)\n",
    "                            new_state = State(frozen, True)\n",
    "                            visited[frozen] = new_state\n",
    "                            current_state.add_transition(symbol.Name, new_state)\n",
    "                        else:\n",
    "                            current_state.add_transition(symbol.Name, visited[frozen])\n",
    "                    \n",
    "            # if next_state:\n",
    "    print()\n",
    "    for x in visited:\n",
    "        state = visited[x]\n",
    "        print(state, state.transitions)\n",
    "        print()\n",
    "    print()\n",
    "    automaton.set_formatter(multiline_formatter)\n",
    "    return automaton"
   ]
  },
  {
   "cell_type": "markdown",
   "metadata": {},
   "source": [
    "Recordemos que este autómata, a pesar de presentar diferencias con el autómata LR(0), continua reconociendo el lenguaje de los prefijos viables de una gramática: cadenas que pueden ocurrir en la pila durante el parseo de una cadena válida."
   ]
  },
  {
   "cell_type": "code",
   "execution_count": 167,
   "metadata": {},
   "outputs": [
    {
     "name": "stdout",
     "output_type": "stream",
     "text": [
      "closure: [<class 'cmp.pycompiler.Item'>, <class 'cmp.pycompiler.Item'>, <class 'cmp.pycompiler.Item'>, <class 'cmp.pycompiler.Item'>, <class 'cmp.pycompiler.Item'>]\n",
      "automaton frozenset({E -> .int, {'$'}, E -> .A=A, {'$'}, A -> .int, {'='}, A -> .int+A, {'='}, S' -> .E, {'$'}})\n",
      "intento {E -> .A=A, {'$'}, A -> .int, {'='}, A -> .int+A, {'='}, S' -> .E, {'$'}, E -> .int, {'$'}}\n",
      "current state and symbol frozenset({E -> .int, {'$'}, E -> .A=A, {'$'}, A -> .int, {'='}, A -> .int+A, {'='}, S' -> .E, {'$'}}) A\n",
      "next state {E -> A.=A, {'$'}}\n",
      "el frozen frozenset({E -> A.=A, {'$'}})\n",
      "lo pongo\n",
      "current state and symbol frozenset({E -> .int, {'$'}, E -> .A=A, {'$'}, A -> .int, {'='}, A -> .int+A, {'='}, S' -> .E, {'$'}}) int\n",
      "next state {A -> int., {'='}, E -> int., {'$'}, A -> int.+A, {'='}}\n",
      "el frozen frozenset({A -> int., {'='}, E -> int., {'$'}, A -> int.+A, {'='}})\n",
      "lo pongo\n",
      "current state and symbol frozenset({E -> .int, {'$'}, E -> .A=A, {'$'}, A -> .int, {'='}, A -> .int+A, {'='}, S' -> .E, {'$'}}) E\n",
      "next state {S' -> E., {'$'}}\n",
      "el frozen frozenset({S' -> E., {'$'}})\n",
      "lo pongo\n",
      "current state and symbol frozenset({A -> int., {'='}, E -> int., {'$'}, A -> int.+A, {'='}}) +\n",
      "next state {A -> .int, {'='}, A -> int+.A, {'='}, A -> .int+A, {'='}}\n",
      "el frozen frozenset({A -> .int, {'='}, A -> int+.A, {'='}, A -> .int+A, {'='}})\n",
      "lo pongo\n",
      "current state and symbol frozenset({A -> .int, {'='}, A -> int+.A, {'='}, A -> .int+A, {'='}}) int\n",
      "next state {A -> int., {'='}, A -> int.+A, {'='}}\n",
      "el frozen frozenset({A -> int., {'='}, A -> int.+A, {'='}})\n",
      "lo pongo\n",
      "current state and symbol frozenset({A -> .int, {'='}, A -> int+.A, {'='}, A -> .int+A, {'='}}) A\n",
      "next state {A -> int+A., {'='}}\n",
      "el frozen frozenset({A -> int+A., {'='}})\n",
      "lo pongo\n",
      "current state and symbol frozenset({A -> int., {'='}, A -> int.+A, {'='}}) +\n",
      "next state {A -> .int, {'='}, A -> int+.A, {'='}, A -> .int+A, {'='}}\n",
      "el frozen frozenset({A -> .int, {'='}, A -> int+.A, {'='}, A -> .int+A, {'='}})\n",
      "current state and symbol frozenset({E -> A.=A, {'$'}}) =\n",
      "next state {E -> A=.A, {'$'}, A -> .int, {'$'}, A -> .int+A, {'$'}}\n",
      "el frozen frozenset({E -> A=.A, {'$'}, A -> .int, {'$'}, A -> .int+A, {'$'}})\n",
      "lo pongo\n",
      "current state and symbol frozenset({E -> A=.A, {'$'}, A -> .int, {'$'}, A -> .int+A, {'$'}}) A\n",
      "next state {E -> A=A., {'$'}}\n",
      "el frozen frozenset({E -> A=A., {'$'}})\n",
      "lo pongo\n",
      "current state and symbol frozenset({E -> A=.A, {'$'}, A -> .int, {'$'}, A -> .int+A, {'$'}}) int\n",
      "next state {A -> int.+A, {'$'}, A -> int., {'$'}}\n",
      "el frozen frozenset({A -> int.+A, {'$'}, A -> int., {'$'}})\n",
      "lo pongo\n",
      "current state and symbol frozenset({A -> int.+A, {'$'}, A -> int., {'$'}}) +\n",
      "next state {A -> int+.A, {'$'}, A -> .int, {'$'}, A -> .int+A, {'$'}}\n",
      "el frozen frozenset({A -> int+.A, {'$'}, A -> .int, {'$'}, A -> .int+A, {'$'}})\n",
      "lo pongo\n",
      "current state and symbol frozenset({A -> int+.A, {'$'}, A -> .int, {'$'}, A -> .int+A, {'$'}}) A\n",
      "next state {A -> int+A., {'$'}}\n",
      "el frozen frozenset({A -> int+A., {'$'}})\n",
      "lo pongo\n",
      "current state and symbol frozenset({A -> int+.A, {'$'}, A -> .int, {'$'}, A -> .int+A, {'$'}}) int\n",
      "next state {A -> int.+A, {'$'}, A -> int., {'$'}}\n",
      "el frozen frozenset({A -> int.+A, {'$'}, A -> int., {'$'}})\n",
      "\n",
      "frozenset({E -> .int, {'$'}, E -> .A=A, {'$'}, A -> .int, {'='}, A -> .int+A, {'='}, S' -> .E, {'$'}}) {'A': [frozenset({E -> A.=A, {'$'}})], 'int': [frozenset({A -> int., {'='}, E -> int., {'$'}, A -> int.+A, {'='}})], 'E': [frozenset({S' -> E., {'$'}})]}\n",
      "\n",
      "frozenset({E -> A.=A, {'$'}}) {'=': [frozenset({E -> A=.A, {'$'}, A -> .int, {'$'}, A -> .int+A, {'$'}})]}\n",
      "\n",
      "frozenset({A -> int., {'='}, E -> int., {'$'}, A -> int.+A, {'='}}) {'+': [frozenset({A -> .int, {'='}, A -> int+.A, {'='}, A -> .int+A, {'='}})]}\n",
      "\n",
      "frozenset({S' -> E., {'$'}}) {}\n",
      "\n",
      "frozenset({A -> .int, {'='}, A -> int+.A, {'='}, A -> .int+A, {'='}}) {'int': [frozenset({A -> int., {'='}, A -> int.+A, {'='}})], 'A': [frozenset({A -> int+A., {'='}})]}\n",
      "\n",
      "frozenset({A -> int., {'='}, A -> int.+A, {'='}}) {'+': [frozenset({A -> .int, {'='}, A -> int+.A, {'='}, A -> .int+A, {'='}})]}\n",
      "\n",
      "frozenset({A -> int+A., {'='}}) {}\n",
      "\n",
      "frozenset({E -> A=.A, {'$'}, A -> .int, {'$'}, A -> .int+A, {'$'}}) {'A': [frozenset({E -> A=A., {'$'}})], 'int': [frozenset({A -> int.+A, {'$'}, A -> int., {'$'}})]}\n",
      "\n",
      "frozenset({E -> A=A., {'$'}}) {}\n",
      "\n",
      "frozenset({A -> int.+A, {'$'}, A -> int., {'$'}}) {'+': [frozenset({A -> int+.A, {'$'}, A -> .int, {'$'}, A -> .int+A, {'$'}})]}\n",
      "\n",
      "frozenset({A -> int+.A, {'$'}, A -> .int, {'$'}, A -> .int+A, {'$'}}) {'A': [frozenset({A -> int+A., {'$'}})], 'int': [frozenset({A -> int.+A, {'$'}, A -> int., {'$'}})]}\n",
      "\n",
      "frozenset({A -> int+A., {'$'}}) {}\n",
      "\n",
      "\n"
     ]
    },
    {
     "data": {
      "text/plain": [
       "frozenset({E -> .int, {'$'}, E -> .A=A, {'$'}, A -> .int, {'='}, A -> .int+A, {'='}, S' -> .E, {'$'}})"
      ]
     },
     "execution_count": 167,
     "metadata": {},
     "output_type": "execute_result"
    }
   ],
   "source": [
    "automaton = build_LR1_automaton(G.AugmentedGrammar())\n",
    "\n",
    "assert automaton.recognize('E')\n",
    "assert automaton.recognize(['A','=','int'])\n",
    "assert automaton.recognize(['int','+','int','+','A'])\n",
    "\n",
    "assert not automaton.recognize(['int','+','A','+','int'])\n",
    "assert not automaton.recognize(['int','=','int'])\n",
    "\n",
    "automaton"
   ]
  },
  {
   "cell_type": "markdown",
   "metadata": {},
   "source": [
    "## Parser LR(1) canónico\n",
    "\n",
    "Reutilizaremos la implementación base de parser Shift-Reduce que terminamos en la clase anterior. Recordemos que esta clase se encarga de todo el algoritmo de parsing, dejando en mano de sus herederos la implementación concreta del método `_build_parsing_table` para llenar la tabla Acción-Goto."
   ]
  },
  {
   "cell_type": "code",
   "execution_count": 168,
   "metadata": {},
   "outputs": [],
   "source": [
    "class ShiftReduceParser:\n",
    "\n",
    "    SHIFT = 'SHIFT'\n",
    "    REDUCE = 'REDUCE'\n",
    "    OK = 'OK'\n",
    "\n",
    "    def __init__(self, G, verbose=False):\n",
    "        self.G = G\n",
    "        self.verbose = verbose\n",
    "        self.action = {}\n",
    "        self.goto = {}\n",
    "        self._build_parsing_table()\n",
    "\n",
    "    def _build_parsing_table(self):\n",
    "        raise NotImplementedError()\n",
    "\n",
    "    def __call__(self, w, get_shift_reduce=False):\n",
    "        stack = [0]\n",
    "        cursor = 0\n",
    "        output = []\n",
    "        operations = []\n",
    "        while True:\n",
    "            state = stack[-1]\n",
    "            lookahead = w[cursor]\n",
    "\n",
    "            if(state, lookahead) not in self.action:\n",
    "                excepted_char = ''\n",
    "\n",
    "                for (state1, i) in self.action.keys():\n",
    "                    if i.IsTerminal and state1 == state:\n",
    "                        excepted_char += str(i) + ', '\n",
    "                parsed = ' '.join([str(m)\n",
    "                                    for m in stack if not str(m).isnumeric()])\n",
    "                message_error = f'It was expected \"{excepted_char}\" received \"{lookahead}\" after {parsed}'\n",
    "                print(\"\\nError. Aborting...\")\n",
    "                print('')\n",
    "                print(\"\\n\", message_error)\n",
    "                # print(w[cursor-1])\n",
    "                return None\n",
    "\n",
    "            if self.action[state, lookahead] == self.OK:\n",
    "                action = self.OK\n",
    "            else:\n",
    "                action, tag = self.action[state, lookahead]\n",
    "            # print('action, tsg', action)\n",
    "            if action == self.SHIFT:\n",
    "                operations.append(self.SHIFT)\n",
    "                stack += [lookahead, tag]\n",
    "                cursor += 1\n",
    "            elif action == self.REDUCE:\n",
    "                operations.append(self.REDUCE)\n",
    "                output.append(tag)\n",
    "                # print('tag', tag)\n",
    "                head, body = tag\n",
    "                for symbol in reversed(body):\n",
    "                    # print('stack', stack)\n",
    "                    stack.pop()\n",
    "\n",
    "                    assert stack.pop() == symbol\n",
    "                    state = stack[-1]\n",
    "                    # print(self.goto,'goto')\n",
    "                    # print('output', output)\n",
    "                goto = self.goto[state, head]\n",
    "                stack += [head, goto]\n",
    "            elif action == self.OK:\n",
    "                stack.pop()\n",
    "                assert stack.pop() == self.G.startSymbol\n",
    "                assert len(stack) == 1\n",
    "                return output if not get_shift_reduce else(output, operations)\n",
    "            else:\n",
    "                raise Exception('Invalid action!!!')"
   ]
  },
  {
   "cell_type": "markdown",
   "metadata": {},
   "source": [
    "### Cómo llena la tabla un parser LR(1)?\n",
    "\n",
    "- **Sea** \"$X \\to \\alpha .c \\omega, s$\" un item del estado $I_i$ y $Goto(I_i,c) = I_j$.  \n",
    "**Entonces** $ACTION[I_i,c] = `S_j`$.\n",
    "\n",
    "- **Sea** \"$X \\to \\alpha ., s$\" un item del estado $I_i$.  \n",
    "**Entonces** $ACTION[I_i,s] = `R_k`$ (producción `k` es $X \\to \\alpha$).\n",
    "\n",
    "- **Sea** $I_i$ el estado que contiene el item \"$S' \\to S., \\$$\" ($S'$ distinguido).  \n",
    "**Entonces** $ACTION[I_i,\\$] = `OK`$.\n",
    "\n",
    "- **Sea** \"$X \\to \\alpha .Y \\omega, s$\" item del estado $I_i$ y $Goto(I_i,Y) = I_j$.  \n",
    "**Entonces** $GOTO[I_i,Y] = j$."
   ]
  },
  {
   "cell_type": "code",
   "execution_count": 169,
   "metadata": {},
   "outputs": [],
   "source": [
    "class LR1Parser(ShiftReduceParser):\n",
    "    def _build_parsing_table(self):\n",
    "        G = self.G.AugmentedGrammar(True)\n",
    "        \n",
    "        automaton = build_LR1_automaton(G)\n",
    "        for i, node in enumerate(automaton):\n",
    "            if self.verbose: print(i, '\\t', '\\n\\t '.join(str(x) for x in node.state), '\\n')\n",
    "            node.idx = i\n",
    "        \n",
    "        for node in automaton:\n",
    "            idx = node.idx\n",
    "            for item in node.state:\n",
    "                print('current item', item)\n",
    "                # Your code here!!!\n",
    "                # - Fill self.Action and self.Goto according to item)\n",
    "                \n",
    "                    \n",
    "                if  item.NextSymbol and item.NextSymbol.IsTerminal:\n",
    "                    self._register(self.action, (idx, item.NextSymbol), (self.SHIFT,node.get(item.NextSymbol.Name).idx))\n",
    "                    # self.action[idx, item.NextSymbol] = self.SHIFT,node.get(item.NextSymbol.Name).idx\n",
    "                elif not item.NextSymbol and not item.production.Left == G.startSymbol:\n",
    "                    \n",
    "                    for lookahead in item.lookaheads:\n",
    "                        self._register(self.action, (idx, lookahead), (self.REDUCE, item.production))\n",
    "                        # self.action[idx, lookahead] = self.REDUCE, item.production\n",
    "                \n",
    "                elif item.IsReduceItem and item.production.Left == G.startSymbol and not item.NextSymbol:\n",
    "                    \n",
    "                    self._register(self.action, (idx, G.EOF), self.OK)\n",
    "\n",
    "                else: #item.NextSymbol and item.NextSymbol.IsNonTerminal:\n",
    "                    self._register(self.goto, (idx, item.NextSymbol), node.get(item.NextSymbol.Name).idx)\n",
    "                # - Feel free to use self._register(...))\n",
    "     \n",
    "        \n",
    "    @staticmethod\n",
    "    def _register(table, key, value):\n",
    "        assert key not in table or table[key] == value, 'Shift-Reduce or Reduce-Reduce conflict!!!'\n",
    "        table[key] = value"
   ]
  },
  {
   "cell_type": "markdown",
   "metadata": {},
   "source": [
    "## Probando\n",
    "\n",
    "Construyamos un parser LR(1) para la gramática de expresiones."
   ]
  },
  {
   "cell_type": "code",
   "execution_count": 170,
   "metadata": {},
   "outputs": [
    {
     "name": "stdout",
     "output_type": "stream",
     "text": [
      "closure: [<class 'cmp.pycompiler.Item'>, <class 'cmp.pycompiler.Item'>, <class 'cmp.pycompiler.Item'>, <class 'cmp.pycompiler.Item'>, <class 'cmp.pycompiler.Item'>]\n",
      "automaton frozenset({E -> .int, {'$'}, E -> .A=A, {'$'}, A -> .int, {'='}, A -> .int+A, {'='}, S' -> .E, {'$'}})\n",
      "intento {E -> .A=A, {'$'}, A -> .int, {'='}, A -> .int+A, {'='}, S' -> .E, {'$'}, E -> .int, {'$'}}\n",
      "current state and symbol frozenset({E -> .int, {'$'}, E -> .A=A, {'$'}, A -> .int, {'='}, A -> .int+A, {'='}, S' -> .E, {'$'}}) A\n",
      "next state {E -> A.=A, {'$'}}\n",
      "el frozen frozenset({E -> A.=A, {'$'}})\n",
      "lo pongo\n",
      "current state and symbol frozenset({E -> .int, {'$'}, E -> .A=A, {'$'}, A -> .int, {'='}, A -> .int+A, {'='}, S' -> .E, {'$'}}) int\n",
      "next state {A -> int., {'='}, E -> int., {'$'}, A -> int.+A, {'='}}\n",
      "el frozen frozenset({A -> int., {'='}, E -> int., {'$'}, A -> int.+A, {'='}})\n",
      "lo pongo\n",
      "current state and symbol frozenset({E -> .int, {'$'}, E -> .A=A, {'$'}, A -> .int, {'='}, A -> .int+A, {'='}, S' -> .E, {'$'}}) E\n",
      "next state {S' -> E., {'$'}}\n",
      "el frozen frozenset({S' -> E., {'$'}})\n",
      "lo pongo\n",
      "current state and symbol frozenset({A -> int., {'='}, E -> int., {'$'}, A -> int.+A, {'='}}) +\n",
      "next state {A -> .int, {'='}, A -> int+.A, {'='}, A -> .int+A, {'='}}\n",
      "el frozen frozenset({A -> .int, {'='}, A -> int+.A, {'='}, A -> .int+A, {'='}})\n",
      "lo pongo\n",
      "current state and symbol frozenset({A -> .int, {'='}, A -> int+.A, {'='}, A -> .int+A, {'='}}) int\n",
      "next state {A -> int., {'='}, A -> int.+A, {'='}}\n",
      "el frozen frozenset({A -> int., {'='}, A -> int.+A, {'='}})\n",
      "lo pongo\n",
      "current state and symbol frozenset({A -> .int, {'='}, A -> int+.A, {'='}, A -> .int+A, {'='}}) A\n",
      "next state {A -> int+A., {'='}}\n",
      "el frozen frozenset({A -> int+A., {'='}})\n",
      "lo pongo\n",
      "current state and symbol frozenset({A -> int., {'='}, A -> int.+A, {'='}}) +\n",
      "next state {A -> .int, {'='}, A -> int+.A, {'='}, A -> .int+A, {'='}}\n",
      "el frozen frozenset({A -> .int, {'='}, A -> int+.A, {'='}, A -> .int+A, {'='}})\n",
      "current state and symbol frozenset({E -> A.=A, {'$'}}) =\n",
      "next state {E -> A=.A, {'$'}, A -> .int, {'$'}, A -> .int+A, {'$'}}\n",
      "el frozen frozenset({E -> A=.A, {'$'}, A -> .int, {'$'}, A -> .int+A, {'$'}})\n",
      "lo pongo\n",
      "current state and symbol frozenset({E -> A=.A, {'$'}, A -> .int, {'$'}, A -> .int+A, {'$'}}) A\n",
      "next state {E -> A=A., {'$'}}\n",
      "el frozen frozenset({E -> A=A., {'$'}})\n",
      "lo pongo\n",
      "current state and symbol frozenset({E -> A=.A, {'$'}, A -> .int, {'$'}, A -> .int+A, {'$'}}) int\n",
      "next state {A -> int.+A, {'$'}, A -> int., {'$'}}\n",
      "el frozen frozenset({A -> int.+A, {'$'}, A -> int., {'$'}})\n",
      "lo pongo\n",
      "current state and symbol frozenset({A -> int.+A, {'$'}, A -> int., {'$'}}) +\n",
      "next state {A -> int+.A, {'$'}, A -> .int, {'$'}, A -> .int+A, {'$'}}\n",
      "el frozen frozenset({A -> int+.A, {'$'}, A -> .int, {'$'}, A -> .int+A, {'$'}})\n",
      "lo pongo\n",
      "current state and symbol frozenset({A -> int+.A, {'$'}, A -> .int, {'$'}, A -> .int+A, {'$'}}) A\n",
      "next state {A -> int+A., {'$'}}\n",
      "el frozen frozenset({A -> int+A., {'$'}})\n",
      "lo pongo\n",
      "current state and symbol frozenset({A -> int+.A, {'$'}, A -> .int, {'$'}, A -> .int+A, {'$'}}) int\n",
      "next state {A -> int.+A, {'$'}, A -> int., {'$'}}\n",
      "el frozen frozenset({A -> int.+A, {'$'}, A -> int., {'$'}})\n",
      "\n",
      "frozenset({E -> .int, {'$'}, E -> .A=A, {'$'}, A -> .int, {'='}, A -> .int+A, {'='}, S' -> .E, {'$'}}) {'A': [frozenset({E -> A.=A, {'$'}})], 'int': [frozenset({A -> int., {'='}, E -> int., {'$'}, A -> int.+A, {'='}})], 'E': [frozenset({S' -> E., {'$'}})]}\n",
      "\n",
      "frozenset({E -> A.=A, {'$'}}) {'=': [frozenset({E -> A=.A, {'$'}, A -> .int, {'$'}, A -> .int+A, {'$'}})]}\n",
      "\n",
      "frozenset({A -> int., {'='}, E -> int., {'$'}, A -> int.+A, {'='}}) {'+': [frozenset({A -> .int, {'='}, A -> int+.A, {'='}, A -> .int+A, {'='}})]}\n",
      "\n",
      "frozenset({S' -> E., {'$'}}) {}\n",
      "\n",
      "frozenset({A -> .int, {'='}, A -> int+.A, {'='}, A -> .int+A, {'='}}) {'int': [frozenset({A -> int., {'='}, A -> int.+A, {'='}})], 'A': [frozenset({A -> int+A., {'='}})]}\n",
      "\n",
      "frozenset({A -> int., {'='}, A -> int.+A, {'='}}) {'+': [frozenset({A -> .int, {'='}, A -> int+.A, {'='}, A -> .int+A, {'='}})]}\n",
      "\n",
      "frozenset({A -> int+A., {'='}}) {}\n",
      "\n",
      "frozenset({E -> A=.A, {'$'}, A -> .int, {'$'}, A -> .int+A, {'$'}}) {'A': [frozenset({E -> A=A., {'$'}})], 'int': [frozenset({A -> int.+A, {'$'}, A -> int., {'$'}})]}\n",
      "\n",
      "frozenset({E -> A=A., {'$'}}) {}\n",
      "\n",
      "frozenset({A -> int.+A, {'$'}, A -> int., {'$'}}) {'+': [frozenset({A -> int+.A, {'$'}, A -> .int, {'$'}, A -> .int+A, {'$'}})]}\n",
      "\n",
      "frozenset({A -> int+.A, {'$'}, A -> .int, {'$'}, A -> .int+A, {'$'}}) {'A': [frozenset({A -> int+A., {'$'}})], 'int': [frozenset({A -> int.+A, {'$'}, A -> int., {'$'}})]}\n",
      "\n",
      "frozenset({A -> int+A., {'$'}}) {}\n",
      "\n",
      "\n",
      "0 \t E -> .int, {'$'}\n",
      "\t E -> .A=A, {'$'}\n",
      "\t A -> .int, {'='}\n",
      "\t A -> .int+A, {'='}\n",
      "\t S' -> .E, {'$'} \n",
      "\n",
      "1 \t E -> A.=A, {'$'} \n",
      "\n",
      "2 \t E -> A=.A, {'$'}\n",
      "\t A -> .int, {'$'}\n",
      "\t A -> .int+A, {'$'} \n",
      "\n",
      "3 \t E -> A=A., {'$'} \n",
      "\n",
      "4 \t A -> int.+A, {'$'}\n",
      "\t A -> int., {'$'} \n",
      "\n",
      "5 \t A -> int+.A, {'$'}\n",
      "\t A -> .int, {'$'}\n",
      "\t A -> .int+A, {'$'} \n",
      "\n",
      "6 \t A -> int+A., {'$'} \n",
      "\n",
      "7 \t A -> int., {'='}\n",
      "\t E -> int., {'$'}\n",
      "\t A -> int.+A, {'='} \n",
      "\n",
      "8 \t A -> .int, {'='}\n",
      "\t A -> int+.A, {'='}\n",
      "\t A -> .int+A, {'='} \n",
      "\n",
      "9 \t A -> int., {'='}\n",
      "\t A -> int.+A, {'='} \n",
      "\n",
      "10 \t A -> int+A., {'='} \n",
      "\n",
      "11 \t S' -> E., {'$'} \n",
      "\n",
      "current item E -> .int, {'$'}\n",
      "current item E -> .A=A, {'$'}\n",
      "current item A -> .int, {'='}\n",
      "current item A -> .int+A, {'='}\n",
      "current item S' -> .E, {'$'}\n",
      "current item E -> A.=A, {'$'}\n",
      "current item E -> A=.A, {'$'}\n",
      "current item A -> .int, {'$'}\n",
      "current item A -> .int+A, {'$'}\n",
      "current item E -> A=A., {'$'}\n",
      "current item A -> int.+A, {'$'}\n",
      "current item A -> int., {'$'}\n",
      "current item A -> int+.A, {'$'}\n",
      "current item A -> .int, {'$'}\n",
      "current item A -> .int+A, {'$'}\n",
      "current item A -> int+A., {'$'}\n",
      "current item A -> int., {'='}\n",
      "current item E -> int., {'$'}\n",
      "current item A -> int.+A, {'='}\n",
      "current item A -> .int, {'='}\n",
      "current item A -> int+.A, {'='}\n",
      "current item A -> .int+A, {'='}\n",
      "current item A -> int., {'='}\n",
      "current item A -> int.+A, {'='}\n",
      "current item A -> int+A., {'='}\n",
      "current item S' -> E., {'$'}\n"
     ]
    }
   ],
   "source": [
    "parser = LR1Parser(G, verbose=True)"
   ]
  },
  {
   "cell_type": "markdown",
   "metadata": {},
   "source": [
    "### Tablas\n",
    "\n",
    "Para visualizar las tablas Action y Goto usaremos la clase `DataFrame` de `pandas`."
   ]
  },
  {
   "cell_type": "code",
   "execution_count": 171,
   "metadata": {},
   "outputs": [],
   "source": [
    "from pandas import DataFrame\n",
    "\n",
    "def encode_value(value):\n",
    "    try:\n",
    "        action, tag = value\n",
    "        if action == ShiftReduceParser.SHIFT:\n",
    "            return 'S' + str(tag)\n",
    "        elif action == ShiftReduceParser.REDUCE:\n",
    "            return repr(tag)\n",
    "        elif action ==  ShiftReduceParser.OK:\n",
    "            return action\n",
    "        else:\n",
    "            return value\n",
    "    except TypeError:\n",
    "        return value\n",
    "\n",
    "def table_to_dataframe(table):\n",
    "    d = {}\n",
    "    for (state, symbol), value in table.items():\n",
    "        value = encode_value(value)\n",
    "        try:\n",
    "            d[state][symbol] = value\n",
    "        except KeyError:\n",
    "            d[state] = { symbol: value }\n",
    "\n",
    "    return DataFrame.from_dict(d, orient='index', dtype=str)"
   ]
  },
  {
   "cell_type": "markdown",
   "metadata": {},
   "source": [
    "Recordemos que:\n",
    "\n",
    "- Debe haber a lo sumo una opción en cada celda.\n",
    "\n",
    "- Deben aparecer todos los estados (salvo $I_0$) entre **ACTION** y **GOTO**.\n",
    "\n",
    "- Deben aparecer todas las producciones entre los $R_k$ de **ACTION**."
   ]
  },
  {
   "cell_type": "code",
   "execution_count": 172,
   "metadata": {},
   "outputs": [
    {
     "data": {
      "text/html": [
       "<div>\n",
       "<style scoped>\n",
       "    .dataframe tbody tr th:only-of-type {\n",
       "        vertical-align: middle;\n",
       "    }\n",
       "\n",
       "    .dataframe tbody tr th {\n",
       "        vertical-align: top;\n",
       "    }\n",
       "\n",
       "    .dataframe thead th {\n",
       "        text-align: right;\n",
       "    }\n",
       "</style>\n",
       "<table border=\"1\" class=\"dataframe\">\n",
       "  <thead>\n",
       "    <tr style=\"text-align: right;\">\n",
       "      <th></th>\n",
       "      <th>int</th>\n",
       "      <th>=</th>\n",
       "      <th>$</th>\n",
       "      <th>+</th>\n",
       "    </tr>\n",
       "  </thead>\n",
       "  <tbody>\n",
       "    <tr>\n",
       "      <th>0</th>\n",
       "      <td>S7</td>\n",
       "      <td>NaN</td>\n",
       "      <td>NaN</td>\n",
       "      <td>NaN</td>\n",
       "    </tr>\n",
       "    <tr>\n",
       "      <th>2</th>\n",
       "      <td>S4</td>\n",
       "      <td>NaN</td>\n",
       "      <td>NaN</td>\n",
       "      <td>NaN</td>\n",
       "    </tr>\n",
       "    <tr>\n",
       "      <th>5</th>\n",
       "      <td>S4</td>\n",
       "      <td>NaN</td>\n",
       "      <td>NaN</td>\n",
       "      <td>NaN</td>\n",
       "    </tr>\n",
       "    <tr>\n",
       "      <th>8</th>\n",
       "      <td>S9</td>\n",
       "      <td>NaN</td>\n",
       "      <td>NaN</td>\n",
       "      <td>NaN</td>\n",
       "    </tr>\n",
       "    <tr>\n",
       "      <th>1</th>\n",
       "      <td>NaN</td>\n",
       "      <td>S2</td>\n",
       "      <td>NaN</td>\n",
       "      <td>NaN</td>\n",
       "    </tr>\n",
       "    <tr>\n",
       "      <th>7</th>\n",
       "      <td>NaN</td>\n",
       "      <td>A -&gt; int</td>\n",
       "      <td>E -&gt; int</td>\n",
       "      <td>S8</td>\n",
       "    </tr>\n",
       "    <tr>\n",
       "      <th>9</th>\n",
       "      <td>NaN</td>\n",
       "      <td>A -&gt; int</td>\n",
       "      <td>NaN</td>\n",
       "      <td>S8</td>\n",
       "    </tr>\n",
       "    <tr>\n",
       "      <th>10</th>\n",
       "      <td>NaN</td>\n",
       "      <td>A -&gt; int + A</td>\n",
       "      <td>NaN</td>\n",
       "      <td>NaN</td>\n",
       "    </tr>\n",
       "    <tr>\n",
       "      <th>3</th>\n",
       "      <td>NaN</td>\n",
       "      <td>NaN</td>\n",
       "      <td>E -&gt; A = A</td>\n",
       "      <td>NaN</td>\n",
       "    </tr>\n",
       "    <tr>\n",
       "      <th>4</th>\n",
       "      <td>NaN</td>\n",
       "      <td>NaN</td>\n",
       "      <td>A -&gt; int</td>\n",
       "      <td>S5</td>\n",
       "    </tr>\n",
       "    <tr>\n",
       "      <th>6</th>\n",
       "      <td>NaN</td>\n",
       "      <td>NaN</td>\n",
       "      <td>A -&gt; int + A</td>\n",
       "      <td>NaN</td>\n",
       "    </tr>\n",
       "    <tr>\n",
       "      <th>11</th>\n",
       "      <td>NaN</td>\n",
       "      <td>NaN</td>\n",
       "      <td>OK</td>\n",
       "      <td>NaN</td>\n",
       "    </tr>\n",
       "  </tbody>\n",
       "</table>\n",
       "</div>"
      ],
      "text/plain": [
       "    int             =             $    +\n",
       "0    S7           NaN           NaN  NaN\n",
       "2    S4           NaN           NaN  NaN\n",
       "5    S4           NaN           NaN  NaN\n",
       "8    S9           NaN           NaN  NaN\n",
       "1   NaN            S2           NaN  NaN\n",
       "7   NaN      A -> int      E -> int   S8\n",
       "9   NaN      A -> int           NaN   S8\n",
       "10  NaN  A -> int + A           NaN  NaN\n",
       "3   NaN           NaN    E -> A = A  NaN\n",
       "4   NaN           NaN      A -> int   S5\n",
       "6   NaN           NaN  A -> int + A  NaN\n",
       "11  NaN           NaN            OK  NaN"
      ]
     },
     "metadata": {},
     "output_type": "display_data"
    },
    {
     "data": {
      "text/html": [
       "<div>\n",
       "<style scoped>\n",
       "    .dataframe tbody tr th:only-of-type {\n",
       "        vertical-align: middle;\n",
       "    }\n",
       "\n",
       "    .dataframe tbody tr th {\n",
       "        vertical-align: top;\n",
       "    }\n",
       "\n",
       "    .dataframe thead th {\n",
       "        text-align: right;\n",
       "    }\n",
       "</style>\n",
       "<table border=\"1\" class=\"dataframe\">\n",
       "  <thead>\n",
       "    <tr style=\"text-align: right;\">\n",
       "      <th></th>\n",
       "      <th>A</th>\n",
       "      <th>E</th>\n",
       "    </tr>\n",
       "  </thead>\n",
       "  <tbody>\n",
       "    <tr>\n",
       "      <th>0</th>\n",
       "      <td>1</td>\n",
       "      <td>11.0</td>\n",
       "    </tr>\n",
       "    <tr>\n",
       "      <th>2</th>\n",
       "      <td>3</td>\n",
       "      <td>NaN</td>\n",
       "    </tr>\n",
       "    <tr>\n",
       "      <th>5</th>\n",
       "      <td>6</td>\n",
       "      <td>NaN</td>\n",
       "    </tr>\n",
       "    <tr>\n",
       "      <th>8</th>\n",
       "      <td>10</td>\n",
       "      <td>NaN</td>\n",
       "    </tr>\n",
       "  </tbody>\n",
       "</table>\n",
       "</div>"
      ],
      "text/plain": [
       "    A     E\n",
       "0   1  11.0\n",
       "2   3   NaN\n",
       "5   6   NaN\n",
       "8  10   NaN"
      ]
     },
     "metadata": {},
     "output_type": "display_data"
    }
   ],
   "source": [
    "display(table_to_dataframe(parser.action))\n",
    "display(table_to_dataframe(parser.goto))"
   ]
  },
  {
   "cell_type": "markdown",
   "metadata": {},
   "source": [
    "### Parseando ...\n",
    "\n",
    "Trabajemos sobre la cadena `int + int = int + int`. Si el parser está correctamente implementado deberíamos obtener una derivación extrema derecha en reverso que parta de la oración y llegue al símbolo distinguido."
   ]
  },
  {
   "cell_type": "code",
   "execution_count": 173,
   "metadata": {},
   "outputs": [
    {
     "name": "stdout",
     "output_type": "stream",
     "text": [
      "[A -> int, A -> int + A, A -> int, A -> int + A, E -> A = A]\n"
     ]
    },
    {
     "data": {
      "text/plain": [
       "[A -> int, A -> int + A, A -> int, A -> int + A, E -> A = A]"
      ]
     },
     "execution_count": 173,
     "metadata": {},
     "output_type": "execute_result"
    }
   ],
   "source": [
    "derivation = parser([num, plus, num, equal, num, plus, num, G.EOF])\n",
    "print(derivation)\n",
    "assert str(derivation) == '[A -> int, A -> int + A, A -> int, A -> int + A, E -> A = A]'\n",
    "\n",
    "derivation"
   ]
  },
  {
   "cell_type": "markdown",
   "metadata": {},
   "source": [
    "## Propuestas\n",
    "\n",
    "- Implemente un generador de parsers **LALR(1)**.\n",
    "- Complete el pipeline de evaluación."
   ]
  }
 ],
 "metadata": {
  "kernelspec": {
   "display_name": "Python 3.11.0 64-bit",
   "language": "python",
   "name": "python3"
  },
  "language_info": {
   "codemirror_mode": {
    "name": "ipython",
    "version": 3
   },
   "file_extension": ".py",
   "mimetype": "text/x-python",
   "name": "python",
   "nbconvert_exporter": "python",
   "pygments_lexer": "ipython3",
   "version": "3.11.0"
  },
  "vscode": {
   "interpreter": {
    "hash": "aee8b7b246df8f9039afb4144a1f6fd8d2ca17a180786b69acc140d282b71a49"
   }
  }
 },
 "nbformat": 4,
 "nbformat_minor": 2
}
