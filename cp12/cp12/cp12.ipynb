{
 "cells": [
  {
   "cell_type": "markdown",
   "metadata": {},
   "source": [
    "# Clase Pr\u00e1ctica #12 (Compilaci\u00f3n)\n",
    "\n",
    "En esta clase pr\u00e1ctica estaremos implementando la fase de an\u00e1lisis sem\u00e1ntico para la extensi\u00f3n del lenguaje de expresiones aritm\u00e9ticas presentada en conferencia. Recordemos las reglas del lenguaje.\n",
    "\n",
    "### Reglas sint\u00e1cticas\n",
    "\n",
    "El lenguaje tiene tres tipos de instrucciones: `let`, `def` y `print`:\n",
    "\n",
    "- `let <var> = <expr>` define una variable denominada `<var>` y le asigna el valor de `<expr>`.\n",
    "- `def <func>(<arg1>, <arg2>, ...) -> <expr>` define una nueva funci\u00f3n `<func>` con los argumentos `<arg*>`.\n",
    "- `print <expr>` imprime el valor de una expresi\u00f3n.\n",
    "\n",
    "Las expresiones pueden ser de varios tipos:\n",
    "\n",
    "- Expresiones aritm\u00e9ticas.\n",
    "- Invocaci\u00f3n de funciones predefinidas (`sin`, `cos`, `pow`, ...).\n",
    "- Invocaci\u00f3n de funciones definidas en el programa.\n",
    "\n",
    "### Reglas sem\u00e1nticas\n",
    "\n",
    "- Una variable solo puede ser definida una vez en todo el programa.\n",
    "- Los nombres de variables y funciones no comparten el mismo \u00e1mbito.\n",
    "- No se pueden redefinir las funciones predefinidas.\n",
    "- Una funci\u00f3n puede tener distintas definiciones siempre que tengan distinta cantidad de argumentos.\n",
    "- Toda variable y funci\u00f3n tiene que haber sido definida antes de ser usada en una expresi\u00f3n (salvo las funciones pre-definidas).\n",
    "- Todos los argumentos definidos en una misma funci\u00f3n tienen que ser diferentes entre s\u00ed, aunque pueden ser iguales a variables definidas globalmente o argumentos definidos en otras funciones.\n",
    "- En el cuerpo de una funci\u00f3n, los nombres de los argumentos ocultan los nombres de variables iguales."
   ]
  },
  {
   "cell_type": "markdown",
   "metadata": {},
   "source": [
    "## Jerarqu\u00eda del AST\n",
    "\n",
    "Comencemos por definir los tipos de nodos que compondr\u00e1n el AST. Recordemos que estos nodos deben ser capaces de atrapar toda la sem\u00e1ntica del programa.\n",
    "\n",
    "### Nivel 0\n",
    "\n",
    "En un primer nivel tenemos la clase `Node` que engloba todos los tipos de nodos del AST. Este nodo, a pesar de ser la ra\u00edz de la jerarqu\u00eda, no coincide con la ra\u00edz del AST. Los nodos del AST son instancias concretas de las clases definidas en esta jerarqu\u00eda y siguen una estructura dependiente de la cadena que se parsea."
   ]
  },
  {
   "cell_type": "code",
   "execution_count": null,
   "metadata": {},
   "outputs": [],
   "source": [
    "class Node:\n",
    "    pass"
   ]
  },
  {
   "cell_type": "markdown",
   "metadata": {},
   "source": [
    "### Nivel 1\n",
    "\n",
    "En un segundo nivel tenemos las clases `Program`, `Statement` y `Expression`, siendo estas dos \u00faltimas una generalizaci\u00f3n de varios tipos de instrucciones del lenguaje. `ProgramNode` coincide con la ra\u00edz del AST pues representa la base de todo programa del lenguaje: una lista de _statements_."
   ]
  },
  {
   "cell_type": "code",
   "execution_count": null,
   "metadata": {},
   "outputs": [],
   "source": [
    "class ProgramNode(Node):\n",
    "    def __init__(self, statements):\n",
    "        self.statements = statements\n",
    "        \n",
    "class StatementNode(Node):\n",
    "    pass\n",
    "        \n",
    "class ExpressionNode(Node):\n",
    "    pass"
   ]
  },
  {
   "cell_type": "markdown",
   "metadata": {},
   "source": [
    "### Nivel 2\n",
    "\n",
    "Continuamos explorando a lo ancho la jerarqu\u00eda del AST, y encontramos los 3 tipos de _statements_ en los que se divide un programa: `VarDeclaration` para declarar variables, `FuncDeclaration` para definir m\u00e9todos, y `PrintNode` para escribir el resultado de evaluar determinada expresi\u00f3n. Adem\u00e1s, se proveen dos generalizaciones de expresiones: `AtomicNode` y `BinaryNode`."
   ]
  },
  {
   "cell_type": "code",
   "execution_count": null,
   "metadata": {},
   "outputs": [],
   "source": [
    "class VarDeclarationNode(StatementNode):\n",
    "    def __init__(self, idx, expr):\n",
    "        self.id = idx\n",
    "        self.expr = expr\n",
    "\n",
    "class FuncDeclarationNode(StatementNode):\n",
    "    def __init__(self, idx, params, body):\n",
    "        self.id = idx\n",
    "        self.params = params\n",
    "        self.body = body\n",
    "\n",
    "class PrintNode(StatementNode):\n",
    "    def __init__(self, expr):\n",
    "        self.expr = expr\n",
    "\n",
    "class AtomicNode(ExpressionNode):\n",
    "    def __init__(self, lex):\n",
    "        self.lex = lex\n",
    "\n",
    "class BinaryNode(ExpressionNode):\n",
    "    def __init__(self, left, right):\n",
    "        self.left = left\n",
    "        self.right = right"
   ]
  },
  {
   "cell_type": "markdown",
   "metadata": {},
   "source": [
    "### Nivel 3\n",
    "\n",
    "Finalmente alcanzamos el m\u00e1ximo nivel de profundidad, donde tenemos definidos `ConstantNumNode` (representa literales enteros), `VariableNode`  (representa acceso a una variable) y `CallNode` (representa la invocaci\u00f3n de un m\u00e9todo con determinados argumentos). Tambi\u00e9n encontramos las operaciones aritm\u00e9ticas de suma, resta, multiplicaci\u00f3n y divisi\u00f3n."
   ]
  },
  {
   "cell_type": "code",
   "execution_count": null,
   "metadata": {},
   "outputs": [],
   "source": [
    "class ConstantNumNode(AtomicNode):\n",
    "    pass\n",
    "\n",
    "class VariableNode(AtomicNode):\n",
    "    pass\n",
    "\n",
    "class CallNode(AtomicNode):\n",
    "    def __init__(self, idx, args):\n",
    "        AtomicNode.__init__(self, idx)\n",
    "        self.args = args\n",
    "\n",
    "class PlusNode(BinaryNode):\n",
    "    pass\n",
    "\n",
    "class MinusNode(BinaryNode):\n",
    "    pass\n",
    "\n",
    "class StarNode(BinaryNode):\n",
    "    pass\n",
    "\n",
    "class DivNode(BinaryNode):\n",
    "    pass"
   ]
  },
  {
   "cell_type": "markdown",
   "metadata": {},
   "source": [
    "## Gram\u00e1tica\n",
    "\n",
    "Habiendo dise\u00f1ado la jerarqu\u00eda de nodos del AST, pasemos a implementar un mecanismo que nos permita construir autom\u00e1ticamente el AST. Nos apoyaremos en las gram\u00e1ticas atributadas que estudiamos el a\u00f1o pasado para resolver este problema.\n",
    "\n",
    "Una gram\u00e1tica atributada permite asociar atributos a los s\u00edmbolos de la gram\u00e1tica y dise\u00f1ar reglas que los evaluen. Convenientemente, las reglas para construir el AST suelen ser sencillas si la gram\u00e1tica sigue una estructura \"natural\". Gracias a la implementaci\u00f3n de parser LR(1) de la semana anterior, podremos trabajar con una gram\u00e1tica sencilla para este lenguaje, la cual respeta incluso la asociatividad entre los operadores (problema que estuvimos cargando desde el semestre anterior).\n",
    "\n",
    "Pasemos a construir la gram\u00e1tica e implementar las reglas sem\u00e1nticas."
   ]
  },
  {
   "cell_type": "code",
   "execution_count": null,
   "metadata": {},
   "outputs": [],
   "source": [
    "from cmp.pycompiler import Grammar\n",
    "\n",
    "G = Grammar()\n",
    "\n",
    "program = G.NonTerminal('<program>', startSymbol=True)\n",
    "stat_list, stat = G.NonTerminals('<stat_list> <stat>')\n",
    "let_var, def_func, print_stat, arg_list = G.NonTerminals('<let-var> <def-func> <print-stat> <arg-list>')\n",
    "expr, term, factor, atom = G.NonTerminals('<expr> <term> <factor> <atom>')\n",
    "func_call, expr_list = G.NonTerminals('<func-call> <expr-list>')\n",
    "\n",
    "let, defx, printx = G.Terminals('let def print')\n",
    "semi, comma, opar, cpar, arrow = G.Terminals('; , ( ) ->')\n",
    "equal, plus, minus, star, div = G.Terminals('= + - * /')\n",
    "idx, num = G.Terminals('id int')\n",
    "\n",
    "program %= stat_list, lambda h,s: ProgramNode(s[1])\n",
    "\n",
    "stat_list %= stat + semi, None # Your code here!!! (add rule)\n",
    "stat_list %= stat + semi + stat_list, None # Your code here!!! (add rule)\n",
    "\n",
    "stat %= let_var, None # Your code here!!! (add rule)\n",
    "stat %= def_func, None # Your code here!!! (add rule)\n",
    "stat %= print_stat, None # Your code here!!! (add rule)\n",
    "\n",
    "let_var %= let + idx + equal + expr, None # Your code here!!! (add rule)\n",
    "\n",
    "def_func %= defx + idx + opar + arg_list + cpar + arrow + expr, None # Your code here!!! (add rule)\n",
    "\n",
    "print_stat %= printx + expr, None # Your code here!!! (add rule)\n",
    "\n",
    "arg_list %= idx, None # Your code here!!! (add rule)\n",
    "arg_list %= idx + comma + arg_list, None # Your code here!!! (add rule)\n",
    "\n",
    "expr %= expr + plus + term, None # Your code here!!! (add rule)\n",
    "expr %= expr + minus + term, None # Your code here!!! (add rule)\n",
    "expr %= term, None # Your code here!!! (add rule)\n",
    "\n",
    "term %= term + star + factor, None # Your code here!!! (add rule)\n",
    "term %= term + div + factor, None # Your code here!!! (add rule)\n",
    "term %= factor, None # Your code here!!! (add rule)\n",
    "\n",
    "factor %= atom, None # Your code here!!! (add rule)\n",
    "factor %= opar + expr + cpar, None # Your code here!!! (add rule)\n",
    "\n",
    "atom %= num, None # Your code here!!! (add rule)\n",
    "atom %= idx, None # Your code here!!! (add rule)\n",
    "atom %= func_call, None # Your code here!!! (add rule)\n",
    "\n",
    "func_call %= idx + opar + expr_list + cpar, None # Your code here!!! (add rule)\n",
    "\n",
    "expr_list %= expr, None # Your code here!!! (add rule)\n",
    "expr_list %= expr + comma + expr_list, None # Your code here!!! (add rule)\n",
    "\n",
    "print(G)"
   ]
  },
  {
   "cell_type": "markdown",
   "metadata": {},
   "source": [
    "## Parseando y evaluando\n",
    "\n",
    "Saltemos directamente a trabajar con un array de tokens. \n",
    "```\n",
    "print 1 - 1 - 1;\n",
    "let x = 58;\n",
    "def f ( a, b ) -> 5 + 6;\n",
    "print F( 5 + x, 7 + y );\n",
    "```\n",
    "\n",
    "El siguiente array resulta de tokenizar al cadena anterior (**ojo:** los espacios en blanco ya fueron eliminados)."
   ]
  },
  {
   "cell_type": "code",
   "execution_count": null,
   "metadata": {},
   "outputs": [],
   "source": [
    "from cmp.utils import Token\n",
    "\n",
    "tokens = [\n",
    "    Token('print', printx),\n",
    "    Token('1', num),\n",
    "    Token('-', minus),\n",
    "    Token('1', num),\n",
    "    Token('-', minus),\n",
    "    Token('1', num),\n",
    "    Token(';', semi),\n",
    "    Token('let', let),\n",
    "    Token('x', idx),\n",
    "    Token('=', equal),\n",
    "    Token('58', num),\n",
    "    Token(';', semi),\n",
    "    Token('def', defx),\n",
    "    Token('f', idx),\n",
    "    Token('(', opar),\n",
    "    Token('a', idx),\n",
    "    Token(',', comma),\n",
    "    Token('b', idx),\n",
    "    Token(')', cpar),\n",
    "    Token('->', arrow),\n",
    "    Token('5', num),\n",
    "    Token('+', plus),\n",
    "    Token('6', num),\n",
    "    Token(';', semi),\n",
    "    Token('print', printx),\n",
    "    Token('F', idx),\n",
    "    Token('(', opar),\n",
    "    Token('5', num),\n",
    "    Token('+', plus),\n",
    "    Token('x', idx),\n",
    "    Token(',', comma),\n",
    "    Token('7', num),\n",
    "    Token('+', plus),\n",
    "    Token('y', idx),\n",
    "    Token(')', cpar),\n",
    "    Token(';', semi),\n",
    "    Token('$', G.EOF),\n",
    "]"
   ]
  },
  {
   "cell_type": "markdown",
   "metadata": {},
   "source": [
    "### Parser LR(1)\n",
    "\n",
    "Importemos la implementaci\u00f3n de parser LR(1) con que trabajamos la clase anterior. Recuerde que si desea ver los estados del aut\u00f3mata LR(1) puede usar la opci\u00f3n `verbose=True` al contruir el parser."
   ]
  },
  {
   "cell_type": "code",
   "execution_count": null,
   "metadata": {},
   "outputs": [],
   "source": [
    "from cmp.tools.parsing import LR1Parser\n",
    "\n",
    "parser = LR1Parser(G)\n",
    "parse, operations = parser([t.token_type for t in tokens], get_shift_reduce=True)\n",
    "parse"
   ]
  },
  {
   "cell_type": "markdown",
   "metadata": {},
   "source": [
    "Con el objetivo de evaluar los atributos de forma independiente al parseo, se provee la opci\u00f3n `get_shift_reduce=True` al parsear una cadena. Esto indicar\u00e1 al parser, que adem\u00e1s del parse derecho (en reverso) nos interesa recuperar la secuencia de operaciones `shift` y `reduce` que aplic\u00f3 el parser."
   ]
  },
  {
   "cell_type": "code",
   "execution_count": null,
   "metadata": {},
   "outputs": [],
   "source": [
    "print(operations)"
   ]
  },
  {
   "cell_type": "markdown",
   "metadata": {},
   "source": [
    "### Evaluaci\u00f3n\n",
    "\n",
    "El m\u00e9todo `evaluate_reverse_parse` provisto en `cmp.evaluation` nos permitir\u00e1 evaluar las reglas sem\u00e1nticas de la gram\u00e1tica atributada y obtener la ra\u00edz del AST."
   ]
  },
  {
   "cell_type": "code",
   "execution_count": null,
   "metadata": {},
   "outputs": [],
   "source": [
    "from cmp.evaluation import evaluate_reverse_parse\n",
    "\n",
    "ast = evaluate_reverse_parse(parse, operations, tokens)\n",
    "ast"
   ]
  },
  {
   "cell_type": "markdown",
   "metadata": {},
   "source": [
    "## Patr\u00f3n Visitor\n",
    "\n",
    "En conferencia discutimos el patr\u00f3n visitor como una alternativa para implementar recorridos sobre el AST. En lugar de tener funciones declaradas expl\u00edcitamente en la definici\u00f3n de los nodos (para implimir el AST, chequear su sem\u00e1ntica, evaluarlo, etc.), tendr\u00edamos un tipo encargado de hacer cada unos de los recorridos. Esto resulta de gran utilizada en la confecci\u00f3n del compilador, pues permite a partir de fases incrementales ir recopilando informaci\u00f3n de la sem\u00e1ntica del programa, y posteriormente, ir transform\u00e1ndolo a lenguajes cada vez m\u00e1s cercanos al lenguaje destino.\n",
    "\n",
    "Por ejemplo, a continuaci\u00f3n se presenta una implementaci\u00f3n de la clase `FormatVisitor`, se que encarga de recorrer el AST y construir una representaci\u00f3n como `string` del mismo. Nos apoyamos en el decorador `visitor` provisto en `cmp.visitor`. La decoraci\u00f3n `@visitor.on(<parameter_name>)` indica sobre qu\u00e9 par\u00e1metro del m\u00e9todo `visit` se har\u00e1 el recorrido. La decoraci\u00f3n `@visitor.when(<type>)` indica cu\u00e1l implementaci\u00f3n del m\u00e9todo `visit` invocar, seg\u00fan del tipo din\u00e1mico del par\u00e1metro indicado en `@visitor.on(...)`."
   ]
  },
  {
   "cell_type": "code",
   "execution_count": null,
   "metadata": {},
   "outputs": [],
   "source": [
    "import cmp.visitor as visitor\n",
    "\n",
    "class FormatVisitor(object):\n",
    "    @visitor.on('node')\n",
    "    def visit(self, node, tabs):\n",
    "        pass\n",
    "    \n",
    "    @visitor.when(ProgramNode)\n",
    "    def visit(self, node, tabs=0):\n",
    "        ans = '\\t' * tabs + f'\\\\__ProgramNode [<stat>; ... <stat>;]'\n",
    "        statements = '\\n'.join(self.visit(child, tabs + 1) for child in node.statements)\n",
    "        return f'{ans}\\n{statements}'\n",
    "    \n",
    "    @visitor.when(PrintNode)\n",
    "    def visit(self, node, tabs=0):\n",
    "        ans = '\\t' * tabs + f'\\\\__PrintNode <expr>'\n",
    "        expr = self.visit(node.expr, tabs + 1)\n",
    "        return f'{ans}\\n{expr}'\n",
    "    \n",
    "    @visitor.when(VarDeclarationNode)\n",
    "    def visit(self, node, tabs=0):\n",
    "        ans = '\\t' * tabs + f'\\\\__VarDeclarationNode: let {node.id} = <expr>'\n",
    "        expr = self.visit(node.expr, tabs + 1)\n",
    "        return f'{ans}\\n{expr}'\n",
    "    \n",
    "    @visitor.when(FuncDeclarationNode)\n",
    "    def visit(self, node, tabs=0):\n",
    "        params = ', '.join(node.params)\n",
    "        ans = '\\t' * tabs + f'\\\\__FuncDeclarationNode: def {node.id}({params}) -> <expr>'\n",
    "        body = self.visit(node.body, tabs + 1)\n",
    "        return f'{ans}\\n{body}'\n",
    "\n",
    "    @visitor.when(BinaryNode)\n",
    "    def visit(self, node, tabs=0):\n",
    "        ans = '\\t' * tabs + f'\\\\__<expr> {node.__class__.__name__} <expr>'\n",
    "        left = self.visit(node.left, tabs + 1)\n",
    "        right = self.visit(node.right, tabs + 1)\n",
    "        return f'{ans}\\n{left}\\n{right}'\n",
    "\n",
    "    @visitor.when(AtomicNode)\n",
    "    def visit(self, node, tabs=0):\n",
    "        return '\\t' * tabs + f'\\\\__ {node.__class__.__name__}: {node.lex}'\n",
    "    \n",
    "    @visitor.when(CallNode)\n",
    "    def visit(self, node, tabs=0):\n",
    "        ans = '\\t' * tabs + f'\\\\__CallNode: {node.lex}(<expr>, ..., <expr>)'\n",
    "        args = '\\n'.join(self.visit(arg, tabs + 1) for arg in node.args)\n",
    "        return f'{ans}\\n{args}'"
   ]
  },
  {
   "cell_type": "markdown",
   "metadata": {},
   "source": [
    "Construir una instancia de `FormatVisitor` y visitar la ra\u00edz del AST tiene el efecto siguiente."
   ]
  },
  {
   "cell_type": "code",
   "execution_count": null,
   "metadata": {},
   "outputs": [],
   "source": [
    "formatter = FormatVisitor()\n",
    "print(formatter.visit(ast))"
   ]
  },
  {
   "cell_type": "markdown",
   "metadata": {},
   "source": [
    "## Contexto\n",
    "\n",
    "Para chequear la sem\u00e1ntica del lenguaje en cuesti\u00f3n, resulta necesario registrar qu\u00e9 variables han sido declaradas y qu\u00e9 m\u00e9todos han sido definidos. Utilizaremos las siguientes clases como contenedores de la informaci\u00f3n \"relevante\" por ahora de las variables y m\u00e9todos definidos. De las variables nos interesa su nombre y de las funciones su nombre y el de sus par\u00e1metros."
   ]
  },
  {
   "cell_type": "code",
   "execution_count": null,
   "metadata": {},
   "outputs": [],
   "source": [
    "class VariableInfo:\n",
    "    def __init__(self, name):\n",
    "        self.name = name\n",
    "\n",
    "class FunctionInfo:\n",
    "    def __init__(self, name, params):\n",
    "        self.name = name\n",
    "        self.params = params"
   ]
  },
  {
   "cell_type": "markdown",
   "metadata": {},
   "source": [
    "Dado que la visibilidad de las variables depende del contexto, ser\u00e1 necesario incluir un mecanismo para ocultar (1) variables definidas en \u00e1mbitos m\u00e1s profundos al actual, o (2) en \u00e1mbitos m\u00e1s hacia adelante que el actual. Para resolver lo primero, haremos que nuestra clase contexto, o \u00e1mbito, tenga una estructura jer\u00e1rquica: cada nodo tiene un padre y potencialmente m\u00faltiples hijos. Para resolver lo segundo, ser\u00e1 necesario marcar un \u00edndice al crear scopes hijos, el cual indique hasta qu\u00e9 secci\u00f3n del ambito padre deber\u00edan poder buscar (por ejemplo, no se deber\u00edan poder ver variables definidas en el padre m\u00e1s adelantes del momento en que se cre\u00f3 el scope hijo).\n",
    "\n",
    "Teniendo en cuenta estas restricciones, la b\u00fasqueda de un registro en el scope deber\u00eda ocurrir como una b\u00fasqueda local en el scope en cuesti\u00f3n, pero continuada hacia el scope padre (y as\u00ed consecutivamente) si no se encontr\u00f3 definici\u00f3n local."
   ]
  },
  {
   "cell_type": "code",
   "execution_count": null,
   "metadata": {},
   "outputs": [],
   "source": [
    "import itertools as itl\n",
    "\n",
    "class Scope:\n",
    "    def __init__(self, parent=None):\n",
    "        self.local_vars = []\n",
    "        self.local_funcs = []\n",
    "        self.parent = parent\n",
    "        self.children = []\n",
    "        self.var_index_at_parent = 0 if parent is None else len(parent.local_vars)\n",
    "        self.func_index_at_parent = 0 if parent is None else len(parent.local_funcs)\n",
    "        \n",
    "    def create_child_scope(self):\n",
    "        child_scope = Scope(self)\n",
    "        self.children.append(child_scope)\n",
    "        return child_scope\n",
    "\n",
    "    def define_variable(self, vname):\n",
    "        # Your code here!!!\n",
    "        return\n",
    "    \n",
    "    def define_function(self, fname, params):\n",
    "        # Your code here!!!\n",
    "        return\n",
    "\n",
    "    def is_var_defined(self, vname):\n",
    "        # Your code here!!!\n",
    "        return\n",
    "    \n",
    "    \n",
    "    def is_func_defined(self, fname, n):\n",
    "        # Your code here!!!\n",
    "        return\n",
    "\n",
    "\n",
    "    def is_local_var(self, vname):\n",
    "        return self.get_local_variable_info(vname) is not None\n",
    "    \n",
    "    def is_local_func(self, fname, n):\n",
    "        return self.get_local_function_info(fname, n) is not None\n",
    "\n",
    "    def get_local_variable_info(self, vname):\n",
    "        # Your code here!!!\n",
    "        return\n",
    "    \n",
    "    def get_local_function_info(self, fname, n):\n",
    "        # Your code here!!!\n",
    "        return\n",
    "    \n",
    "    \n",
    "scope = Scope()"
   ]
  },
  {
   "cell_type": "markdown",
   "metadata": {},
   "source": [
    "## Chequeo sem\u00e1ntico\n",
    "\n",
    "Finalmente, implementemos un visitor para chequear las reglas sem\u00e1nticas del lenguaje discutidas a inicios de la clase pr\u00e1ctica."
   ]
  },
  {
   "cell_type": "code",
   "execution_count": null,
   "metadata": {},
   "outputs": [],
   "source": [
    "class SemanticCheckerVisitor(object):\n",
    "    def __init__(self):\n",
    "        self.errors = []\n",
    "    \n",
    "    @visitor.on('node')\n",
    "    def visit(self, node, scope):\n",
    "        pass\n",
    "    \n",
    "    @visitor.when(ProgramNode)\n",
    "    def visit(self, node, scope=None):\n",
    "        # Your code here!!!\n",
    "        return self.errors\n",
    "    \n",
    "    @visitor.when(VarDeclarationNode)\n",
    "    def visit(self, node, scope):\n",
    "        # Your code here!!!\n",
    "        pass\n",
    "    \n",
    "    @visitor.when(FuncDeclarationNode)\n",
    "    def visit(self, node, scope):\n",
    "        # Your code here!!!\n",
    "        pass\n",
    "    \n",
    "    @visitor.when(PrintNode)\n",
    "    def visit(self, node, scope):\n",
    "        # Your code here!!!\n",
    "        pass\n",
    "    \n",
    "    @visitor.when(ConstantNumNode)\n",
    "    def visit(self, node, scope):\n",
    "        # Your code here!!!\n",
    "        pass\n",
    "    \n",
    "    @visitor.when(VariableNode)\n",
    "    def visit(self, node, scope):\n",
    "        # Your code here!!!\n",
    "        pass\n",
    "    \n",
    "    @visitor.when(CallNode)\n",
    "    def visit(self, node, scope):\n",
    "        # Your code here!!!\n",
    "        pass\n",
    "    \n",
    "    @visitor.when(BinaryNode)\n",
    "    def visit(self, node, scope):\n",
    "        # Your code here!!!\n",
    "        pass\n"
   ]
  },
  {
   "cell_type": "markdown",
   "metadata": {},
   "source": [
    "### Chequeo\n",
    "\n",
    "Deber\u00edan detectarse como m\u00ednimo 2 errores:\n",
    "0. Function F is not defined with 2 arguments.\n",
    "1. Invalid variable: y."
   ]
  },
  {
   "cell_type": "code",
   "execution_count": null,
   "metadata": {},
   "outputs": [],
   "source": [
    "semantic_checker = SemanticCheckerVisitor()\n",
    "errors = semantic_checker.visit(ast)\n",
    "for i, error in enumerate(errors, 1):\n",
    "    print(f'{i}.', error)"
   ]
  },
  {
   "cell_type": "markdown",
   "metadata": {},
   "source": [
    "## Propuestas\n",
    "\n",
    "- Incluya l\u00ednea y columna en los errores detectados.\n",
    "- Incluya el lexer.\n",
    "- Construya una clase que siga el patr\u00f3n visitor para evaluar / ejecutar el programa."
   ]
  }
 ],
 "metadata": {
  "kernelspec": {
   "display_name": "Python 3",
   "language": "python",
   "name": "python3"
  },
  "language_info": {
   "codemirror_mode": {
    "name": "ipython",
    "version": 3
   },
   "file_extension": ".py",
   "mimetype": "text/x-python",
   "name": "python",
   "nbconvert_exporter": "python",
   "pygments_lexer": "ipython3",
   "version": "3.6.4"
  }
 },
 "nbformat": 4,
 "nbformat_minor": 2
}