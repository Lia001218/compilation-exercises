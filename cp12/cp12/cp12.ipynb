{
 "cells": [
  {
   "cell_type": "markdown",
   "metadata": {},
   "source": [
    "# Clase Práctica #12 (Compilación)\n",
    "\n",
    "En esta clase práctica estaremos implementando la fase de análisis semántico para la extensión del lenguaje de expresiones aritméticas presentada en conferencia. Recordemos las reglas del lenguaje.\n",
    "\n",
    "### Reglas sintácticas\n",
    "\n",
    "El lenguaje tiene tres tipos de instrucciones: `let`, `def` y `print`:\n",
    "\n",
    "- `let <var> = <expr>` define una variable denominada `<var>` y le asigna el valor de `<expr>`.\n",
    "- `def <func>(<arg1>, <arg2>, ...) -> <expr>` define una nueva función `<func>` con los argumentos `<arg*>`.\n",
    "- `print <expr>` imprime el valor de una expresión.\n",
    "\n",
    "Las expresiones pueden ser de varios tipos:\n",
    "\n",
    "- Expresiones aritméticas.\n",
    "- Invocación de funciones predefinidas (`sin`, `cos`, `pow`, ...).\n",
    "- Invocación de funciones definidas en el programa.\n",
    "\n",
    "### Reglas semánticas\n",
    "\n",
    "- Una variable solo puede ser definida una vez en todo el programa.\n",
    "- Los nombres de variables y funciones no comparten el mismo ámbito.\n",
    "- No se pueden redefinir las funciones predefinidas.\n",
    "- Una función puede tener distintas definiciones siempre que tengan distinta cantidad de argumentos.\n",
    "- Toda variable y función tiene que haber sido definida antes de ser usada en una expresión (salvo las funciones pre-definidas).\n",
    "- Todos los argumentos definidos en una misma función tienen que ser diferentes entre sí, aunque pueden ser iguales a variables definidas globalmente o argumentos definidos en otras funciones.\n",
    "- En el cuerpo de una función, los nombres de los argumentos ocultan los nombres de variables iguales."
   ]
  },
  {
   "cell_type": "markdown",
   "metadata": {},
   "source": [
    "## Jerarquía del AST\n",
    "\n",
    "Comencemos por definir los tipos de nodos que compondrán el AST. Recordemos que estos nodos deben ser capaces de atrapar toda la semántica del programa.\n",
    "\n",
    "### Nivel 0\n",
    "\n",
    "En un primer nivel tenemos la clase `Node` que engloba todos los tipos de nodos del AST. Este nodo, a pesar de ser la raíz de la jerarquía, no coincide con la raíz del AST. Los nodos del AST son instancias concretas de las clases definidas en esta jerarquía y siguen una estructura dependiente de la cadena que se parsea."
   ]
  },
  {
   "cell_type": "code",
   "execution_count": 34,
   "metadata": {},
   "outputs": [],
   "source": [
    "class Node:\n",
    "    pass"
   ]
  },
  {
   "cell_type": "markdown",
   "metadata": {},
   "source": [
    "### Nivel 1\n",
    "\n",
    "En un segundo nivel tenemos las clases `Program`, `Statement` y `Expression`, siendo estas dos últimas una generalización de varios tipos de instrucciones del lenguaje. `ProgramNode` coincide con la raíz del AST pues representa la base de todo programa del lenguaje: una lista de _statements_."
   ]
  },
  {
   "cell_type": "code",
   "execution_count": 35,
   "metadata": {},
   "outputs": [],
   "source": [
    "class ProgramNode(Node):\n",
    "    def __init__(self, statements):\n",
    "        self.statements = statements\n",
    "        \n",
    "class StatementNode(Node):\n",
    "    pass\n",
    "        \n",
    "class ExpressionNode(Node):\n",
    "    pass"
   ]
  },
  {
   "cell_type": "markdown",
   "metadata": {},
   "source": [
    "### Nivel 2\n",
    "\n",
    "Continuamos explorando a lo ancho la jerarquía del AST, y encontramos los 3 tipos de _statements_ en los que se divide un programa: `VarDeclaration` para declarar variables, `FuncDeclaration` para definir métodos, y `PrintNode` para escribir el resultado de evaluar determinada expresión. Además, se proveen dos generalizaciones de expresiones: `AtomicNode` y `BinaryNode`."
   ]
  },
  {
   "cell_type": "code",
   "execution_count": 36,
   "metadata": {},
   "outputs": [],
   "source": [
    "class VarDeclarationNode(StatementNode):\n",
    "    def __init__(self, idx, expr):\n",
    "        self.id = idx\n",
    "        self.expr = expr\n",
    "\n",
    "class FuncDeclarationNode(StatementNode):\n",
    "    def __init__(self, idx, params, body):\n",
    "        self.id = idx\n",
    "        self.params = params\n",
    "        self.body = body\n",
    "\n",
    "class PrintNode(StatementNode):\n",
    "    def __init__(self, expr):\n",
    "        self.expr = expr\n",
    "\n",
    "class AtomicNode(ExpressionNode):\n",
    "    def __init__(self, lex):\n",
    "        self.lex = lex\n",
    "\n",
    "class BinaryNode(ExpressionNode):\n",
    "    def __init__(self, left, right):\n",
    "        self.left = left\n",
    "        self.right = right"
   ]
  },
  {
   "cell_type": "markdown",
   "metadata": {},
   "source": [
    "### Nivel 3\n",
    "\n",
    "Finalmente alcanzamos el máximo nivel de profundidad, donde tenemos definidos `ConstantNumNode` (representa literales enteros), `VariableNode`  (representa acceso a una variable) y `CallNode` (representa la invocación de un método con determinados argumentos). También encontramos las operaciones aritméticas de suma, resta, multiplicación y división."
   ]
  },
  {
   "cell_type": "code",
   "execution_count": 37,
   "metadata": {},
   "outputs": [],
   "source": [
    "class ConstantNumNode(AtomicNode):\n",
    "    pass\n",
    "\n",
    "class VariableNode(AtomicNode):\n",
    "    pass\n",
    "\n",
    "class CallNode(AtomicNode):\n",
    "    def __init__(self, idx, args):\n",
    "        AtomicNode.__init__(self, idx)\n",
    "        self.args = args\n",
    "\n",
    "class PlusNode(BinaryNode):\n",
    "    pass\n",
    "\n",
    "class MinusNode(BinaryNode):\n",
    "    pass\n",
    "\n",
    "class StarNode(BinaryNode):\n",
    "    pass\n",
    "\n",
    "class DivNode(BinaryNode):\n",
    "    pass"
   ]
  },
  {
   "cell_type": "markdown",
   "metadata": {},
   "source": [
    "## Gramática\n",
    "\n",
    "Habiendo diseñado la jerarquía de nodos del AST, pasemos a implementar un mecanismo que nos permita construir automáticamente el AST. Nos apoyaremos en las gramáticas atributadas que estudiamos el año pasado para resolver este problema.\n",
    "\n",
    "Una gramática atributada permite asociar atributos a los símbolos de la gramática y diseñar reglas que los evaluen. Convenientemente, las reglas para construir el AST suelen ser sencillas si la gramática sigue una estructura \"natural\". Gracias a la implementación de parser LR(1) de la semana anterior, podremos trabajar con una gramática sencilla para este lenguaje, la cual respeta incluso la asociatividad entre los operadores (problema que estuvimos cargando desde el semestre anterior).\n",
    "\n",
    "Pasemos a construir la gramática e implementar las reglas semánticas."
   ]
  },
  {
   "cell_type": "code",
   "execution_count": 38,
   "metadata": {},
   "outputs": [
    {
     "name": "stdout",
     "output_type": "stream",
     "text": [
      "Non-Terminals:\n",
      "\t<program>, <stat_list>, <stat>, <let-var>, <def-func>, <print-stat>, <arg-list>, <expr>, <term>, <factor>, <atom>, <func-call>, <expr-list>\n",
      "Terminals:\n",
      "\tlet, def, print, ;, ,, (, ), ->, =, +, -, *, /, id, int\n",
      "Productions:\n",
      "\t[<program> -> <stat_list>, <stat_list> -> <stat> ;, <stat_list> -> <stat> ; <stat_list>, <stat> -> <let-var>, <stat> -> <def-func>, <stat> -> <print-stat>, <let-var> -> let id = <expr>, <def-func> -> def id ( <arg-list> ) -> <expr>, <print-stat> -> print <expr>, <arg-list> -> id, <arg-list> -> id , <arg-list>, <expr> -> <expr> + <term>, <expr> -> <expr> - <term>, <expr> -> <term>, <term> -> <term> * <factor>, <term> -> <term> / <factor>, <term> -> <factor>, <factor> -> <atom>, <factor> -> ( <expr> ), <atom> -> int, <atom> -> id, <atom> -> <func-call>, <func-call> -> id ( <expr-list> ), <expr-list> -> <expr>, <expr-list> -> <expr> , <expr-list>]\n"
     ]
    }
   ],
   "source": [
    "from cmp.pycompiler import Grammar\n",
    "\n",
    "G = Grammar()\n",
    "\n",
    "program = G.NonTerminal('<program>', startSymbol=True)\n",
    "stat_list, stat = G.NonTerminals('<stat_list> <stat>')\n",
    "let_var, def_func, print_stat, arg_list = G.NonTerminals('<let-var> <def-func> <print-stat> <arg-list>')\n",
    "expr, term, factor, atom = G.NonTerminals('<expr> <term> <factor> <atom>')\n",
    "func_call, expr_list = G.NonTerminals('<func-call> <expr-list>')\n",
    "\n",
    "let, defx, printx = G.Terminals('let def print')\n",
    "semi, comma, opar, cpar, arrow = G.Terminals('; , ( ) ->')\n",
    "equal, plus, minus, star, div = G.Terminals('= + - * /')\n",
    "idx, num = G.Terminals('id int')\n",
    "\n",
    "program %= stat_list, lambda h,s: ProgramNode(s[1])\n",
    "\n",
    "stat_list %= stat + semi, lambda h,s: [s[1]]\n",
    "stat_list %= stat + semi + stat_list, lambda h,s: [s[1]] + s[3]\n",
    "\n",
    "stat %= let_var, lambda h,s: s[1]\n",
    "stat %= def_func, lambda h,s: s[1]\n",
    "stat %= print_stat, lambda h,s: s[1]\n",
    "\n",
    "let_var %= let + idx + equal + expr, lambda h,s: VarDeclarationNode(s[2], s[4])\n",
    "\n",
    "def_func %= defx + idx + opar + arg_list + cpar + arrow + expr, lambda h,s: FuncDeclarationNode(s[2], s[4], s[7])\n",
    "\n",
    "print_stat %= printx + expr, lambda h,s: PrintNode(s[2])\n",
    "\n",
    "arg_list %= idx, lambda h,s: [s[1]]\n",
    "arg_list %= idx + comma + arg_list, lambda h,s: [s[1]] + s[3]\n",
    "\n",
    "expr %= expr + plus + term, lambda h,s: PlusNode(s[1], s[3])\n",
    "expr %= expr + minus + term, lambda h,s: MinusNode(s[1], s[3])\n",
    "expr %= term, lambda h,s: s[1]\n",
    "\n",
    "term %= term + star + factor, lambda h,s: StarNode(s[1], s[3])\n",
    "term %= term + div + factor, lambda h,s: DivNode(s[1], s[3])\n",
    "term %= factor, lambda h,s: s[1] # MMM\n",
    "\n",
    "factor %= atom, lambda h,s: s[1]\n",
    "factor %= opar + expr + cpar, lambda h,s: s[2]\n",
    "\n",
    "atom %= num, lambda h,s: ConstantNumNode(s[1])\n",
    "atom %= idx, lambda h,s: VariableNode(s[1])\n",
    "atom %= func_call, lambda h,s: s[1]\n",
    "\n",
    "func_call %= idx + opar + expr_list + cpar, lambda h,s: CallNode(s[1], s[3])\n",
    "\n",
    "expr_list %= expr, lambda h,s: [s[1]]\n",
    "expr_list %= expr + comma + expr_list, lambda h,s: [s[1]] + s[3]\n",
    "\n",
    "print(G)"
   ]
  },
  {
   "cell_type": "markdown",
   "metadata": {},
   "source": [
    "## Parseando y evaluando\n",
    "\n",
    "Saltemos directamente a trabajar con un array de tokens. \n",
    "```\n",
    "print 1 - 1 - 1;\n",
    "let x = 58;\n",
    "def f ( a, b ) -> 5 + 6;\n",
    "print F( 5 + x, 7 + y );\n",
    "```\n",
    "\n",
    "El siguiente array resulta de tokenizar al cadena anterior (**ojo:** los espacios en blanco ya fueron eliminados)."
   ]
  },
  {
   "cell_type": "code",
   "execution_count": 39,
   "metadata": {},
   "outputs": [],
   "source": [
    "from cmp.utils import Token\n",
    "\n",
    "tokens = [\n",
    "    Token('print', printx),\n",
    "    Token('1', num),\n",
    "    Token('-', minus),\n",
    "    Token('1', num),\n",
    "    Token('-', minus),\n",
    "    Token('1', num),\n",
    "    Token(';', semi),\n",
    "    Token('let', let),\n",
    "    Token('x', idx),\n",
    "    Token('=', equal),\n",
    "    Token('58', num),\n",
    "    Token(';', semi),\n",
    "    Token('def', defx),\n",
    "    Token('f', idx),\n",
    "    Token('(', opar),\n",
    "    Token('a', idx),\n",
    "    Token(',', comma),\n",
    "    Token('b', idx),\n",
    "    Token(')', cpar),\n",
    "    Token('->', arrow),\n",
    "    Token('5', num),\n",
    "    Token('+', plus),\n",
    "    Token('6', num),\n",
    "    Token(';', semi),\n",
    "    Token('print', printx),\n",
    "    Token('F', idx),\n",
    "    Token('(', opar),\n",
    "    Token('5', num),\n",
    "    Token('+', plus),\n",
    "    Token('x', idx),\n",
    "    Token(',', comma),\n",
    "    Token('7', num),\n",
    "    Token('+', plus),\n",
    "    Token('y', idx),\n",
    "    Token(')', cpar),\n",
    "    Token(';', semi),\n",
    "    Token('$', G.EOF),\n",
    "]"
   ]
  },
  {
   "cell_type": "markdown",
   "metadata": {},
   "source": [
    "### Parser LR(1)\n",
    "\n",
    "Importemos la implementación de parser LR(1) con que trabajamos la clase anterior. Recuerde que si desea ver los estados del autómata LR(1) puede usar la opción `verbose=True` al contruir el parser."
   ]
  },
  {
   "cell_type": "code",
   "execution_count": 40,
   "metadata": {},
   "outputs": [
    {
     "data": {
      "text/plain": [
       "[<atom> -> int,\n",
       " <factor> -> <atom>,\n",
       " <term> -> <factor>,\n",
       " <expr> -> <term>,\n",
       " <atom> -> int,\n",
       " <factor> -> <atom>,\n",
       " <term> -> <factor>,\n",
       " <expr> -> <expr> - <term>,\n",
       " <atom> -> int,\n",
       " <factor> -> <atom>,\n",
       " <term> -> <factor>,\n",
       " <expr> -> <expr> - <term>,\n",
       " <print-stat> -> print <expr>,\n",
       " <stat> -> <print-stat>,\n",
       " <atom> -> int,\n",
       " <factor> -> <atom>,\n",
       " <term> -> <factor>,\n",
       " <expr> -> <term>,\n",
       " <let-var> -> let id = <expr>,\n",
       " <stat> -> <let-var>,\n",
       " <arg-list> -> id,\n",
       " <arg-list> -> id , <arg-list>,\n",
       " <atom> -> int,\n",
       " <factor> -> <atom>,\n",
       " <term> -> <factor>,\n",
       " <expr> -> <term>,\n",
       " <atom> -> int,\n",
       " <factor> -> <atom>,\n",
       " <term> -> <factor>,\n",
       " <expr> -> <expr> + <term>,\n",
       " <def-func> -> def id ( <arg-list> ) -> <expr>,\n",
       " <stat> -> <def-func>,\n",
       " <atom> -> int,\n",
       " <factor> -> <atom>,\n",
       " <term> -> <factor>,\n",
       " <expr> -> <term>,\n",
       " <atom> -> id,\n",
       " <factor> -> <atom>,\n",
       " <term> -> <factor>,\n",
       " <expr> -> <expr> + <term>,\n",
       " <atom> -> int,\n",
       " <factor> -> <atom>,\n",
       " <term> -> <factor>,\n",
       " <expr> -> <term>,\n",
       " <atom> -> id,\n",
       " <factor> -> <atom>,\n",
       " <term> -> <factor>,\n",
       " <expr> -> <expr> + <term>,\n",
       " <expr-list> -> <expr>,\n",
       " <expr-list> -> <expr> , <expr-list>,\n",
       " <func-call> -> id ( <expr-list> ),\n",
       " <atom> -> <func-call>,\n",
       " <factor> -> <atom>,\n",
       " <term> -> <factor>,\n",
       " <expr> -> <term>,\n",
       " <print-stat> -> print <expr>,\n",
       " <stat> -> <print-stat>,\n",
       " <stat_list> -> <stat> ;,\n",
       " <stat_list> -> <stat> ; <stat_list>,\n",
       " <stat_list> -> <stat> ; <stat_list>,\n",
       " <stat_list> -> <stat> ; <stat_list>,\n",
       " <program> -> <stat_list>]"
      ]
     },
     "execution_count": 40,
     "metadata": {},
     "output_type": "execute_result"
    }
   ],
   "source": [
    "from cmp.tools.parsing import LR1Parser\n",
    "\n",
    "parser = LR1Parser(G)\n",
    "parse, operations = parser([t.token_type for t in tokens], get_shift_reduce=True)\n",
    "parse"
   ]
  },
  {
   "cell_type": "markdown",
   "metadata": {},
   "source": [
    "Con el objetivo de evaluar los atributos de forma independiente al parseo, se provee la opción `get_shift_reduce=True` al parsear una cadena. Esto indicará al parser, que además del parse derecho (en reverso) nos interesa recuperar la secuencia de operaciones `shift` y `reduce` que aplicó el parser."
   ]
  },
  {
   "cell_type": "code",
   "execution_count": 41,
   "metadata": {},
   "outputs": [
    {
     "name": "stdout",
     "output_type": "stream",
     "text": [
      "['SHIFT', 'SHIFT', 'REDUCE', 'REDUCE', 'REDUCE', 'REDUCE', 'SHIFT', 'SHIFT', 'REDUCE', 'REDUCE', 'REDUCE', 'REDUCE', 'SHIFT', 'SHIFT', 'REDUCE', 'REDUCE', 'REDUCE', 'REDUCE', 'REDUCE', 'REDUCE', 'SHIFT', 'SHIFT', 'SHIFT', 'SHIFT', 'SHIFT', 'REDUCE', 'REDUCE', 'REDUCE', 'REDUCE', 'REDUCE', 'REDUCE', 'SHIFT', 'SHIFT', 'SHIFT', 'SHIFT', 'SHIFT', 'SHIFT', 'SHIFT', 'REDUCE', 'REDUCE', 'SHIFT', 'SHIFT', 'SHIFT', 'REDUCE', 'REDUCE', 'REDUCE', 'REDUCE', 'SHIFT', 'SHIFT', 'REDUCE', 'REDUCE', 'REDUCE', 'REDUCE', 'REDUCE', 'REDUCE', 'SHIFT', 'SHIFT', 'SHIFT', 'SHIFT', 'SHIFT', 'REDUCE', 'REDUCE', 'REDUCE', 'REDUCE', 'SHIFT', 'SHIFT', 'REDUCE', 'REDUCE', 'REDUCE', 'REDUCE', 'SHIFT', 'SHIFT', 'REDUCE', 'REDUCE', 'REDUCE', 'REDUCE', 'SHIFT', 'SHIFT', 'REDUCE', 'REDUCE', 'REDUCE', 'REDUCE', 'REDUCE', 'REDUCE', 'SHIFT', 'REDUCE', 'REDUCE', 'REDUCE', 'REDUCE', 'REDUCE', 'REDUCE', 'REDUCE', 'SHIFT', 'REDUCE', 'REDUCE', 'REDUCE', 'REDUCE', 'REDUCE']\n"
     ]
    }
   ],
   "source": [
    "print(operations)"
   ]
  },
  {
   "cell_type": "markdown",
   "metadata": {},
   "source": [
    "### Evaluación\n",
    "\n",
    "El método `evaluate_reverse_parse` provisto en `cmp.evaluation` nos permitirá evaluar las reglas semánticas de la gramática atributada y obtener la raíz del AST."
   ]
  },
  {
   "cell_type": "code",
   "execution_count": 42,
   "metadata": {},
   "outputs": [
    {
     "data": {
      "text/plain": [
       "<__main__.ProgramNode at 0x119933b10>"
      ]
     },
     "execution_count": 42,
     "metadata": {},
     "output_type": "execute_result"
    }
   ],
   "source": [
    "from cmp.evaluation import evaluate_reverse_parse\n",
    "\n",
    "ast = evaluate_reverse_parse(parse, operations, tokens)\n",
    "ast"
   ]
  },
  {
   "cell_type": "markdown",
   "metadata": {},
   "source": [
    "## Patrón Visitor\n",
    "\n",
    "En conferencia discutimos el patrón visitor como una alternativa para implementar recorridos sobre el AST. En lugar de tener funciones declaradas explícitamente en la definición de los nodos (para implimir el AST, chequear su semántica, evaluarlo, etc.), tendríamos un tipo encargado de hacer cada unos de los recorridos. Esto resulta de gran utilizada en la confección del compilador, pues permite a partir de fases incrementales ir recopilando información de la semántica del programa, y posteriormente, ir transformándolo a lenguajes cada vez más cercanos al lenguaje destino.\n",
    "\n",
    "Por ejemplo, a continuación se presenta una implementación de la clase `FormatVisitor`, se que encarga de recorrer el AST y construir una representación como `string` del mismo. Nos apoyamos en el decorador `visitor` provisto en `cmp.visitor`. La decoración `@visitor.on(<parameter_name>)` indica sobre qué parámetro del método `visit` se hará el recorrido. La decoración `@visitor.when(<type>)` indica cuál implementación del método `visit` invocar, según del tipo dinámico del parámetro indicado en `@visitor.on(...)`."
   ]
  },
  {
   "cell_type": "code",
   "execution_count": 43,
   "metadata": {},
   "outputs": [],
   "source": [
    "import cmp.visitor as visitor\n",
    "\n",
    "class FormatVisitor(object):\n",
    "    @visitor.on('node')\n",
    "    def visit(self, node, tabs):\n",
    "        pass\n",
    "    \n",
    "    @visitor.when(ProgramNode)\n",
    "    def visit(self, node, tabs=0):\n",
    "        ans = '\\t' * tabs + f'\\\\__ProgramNode [<stat>; ... <stat>;]'\n",
    "        statements = '\\n'.join(self.visit(child, tabs + 1) for child in node.statements)\n",
    "        return f'{ans}\\n{statements}'\n",
    "    \n",
    "    @visitor.when(PrintNode)\n",
    "    def visit(self, node, tabs=0):\n",
    "        ans = '\\t' * tabs + f'\\\\__PrintNode <expr>'\n",
    "        expr = self.visit(node.expr, tabs + 1)\n",
    "        return f'{ans}\\n{expr}'\n",
    "    \n",
    "    @visitor.when(VarDeclarationNode)\n",
    "    def visit(self, node, tabs=0):\n",
    "        ans = '\\t' * tabs + f'\\\\__VarDeclarationNode: let {node.id} = <expr>'\n",
    "        expr = self.visit(node.expr, tabs + 1)\n",
    "        return f'{ans}\\n{expr}'\n",
    "    \n",
    "    @visitor.when(FuncDeclarationNode)\n",
    "    def visit(self, node, tabs=0):\n",
    "        params = ', '.join(node.params)\n",
    "        ans = '\\t' * tabs + f'\\\\__FuncDeclarationNode: def {node.id}({params}) -> <expr>'\n",
    "        body = self.visit(node.body, tabs + 1)\n",
    "        return f'{ans}\\n{body}'\n",
    "\n",
    "    @visitor.when(BinaryNode)\n",
    "    def visit(self, node, tabs=0):\n",
    "        ans = '\\t' * tabs + f'\\\\__<expr> {node.__class__.__name__} <expr>'\n",
    "        left = self.visit(node.left, tabs + 1)\n",
    "        right = self.visit(node.right, tabs + 1)\n",
    "        return f'{ans}\\n{left}\\n{right}'\n",
    "\n",
    "    @visitor.when(AtomicNode)\n",
    "    def visit(self, node, tabs=0):\n",
    "        return '\\t' * tabs + f'\\\\__ {node.__class__.__name__}: {node.lex}'\n",
    "    \n",
    "    @visitor.when(CallNode)\n",
    "    def visit(self, node, tabs=0):\n",
    "        ans = '\\t' * tabs + f'\\\\__CallNode: {node.lex}(<expr>, ..., <expr>)'\n",
    "        args = '\\n'.join(self.visit(arg, tabs + 1) for arg in node.args)\n",
    "        return f'{ans}\\n{args}'"
   ]
  },
  {
   "cell_type": "markdown",
   "metadata": {},
   "source": [
    "Construir una instancia de `FormatVisitor` y visitar la raíz del AST tiene el efecto siguiente."
   ]
  },
  {
   "cell_type": "code",
   "execution_count": 44,
   "metadata": {},
   "outputs": [
    {
     "name": "stdout",
     "output_type": "stream",
     "text": [
      "\\__ProgramNode [<stat>; ... <stat>;]\n",
      "\t\\__PrintNode <expr>\n",
      "\t\t\\__<expr> MinusNode <expr>\n",
      "\t\t\t\\__<expr> MinusNode <expr>\n",
      "\t\t\t\t\\__ ConstantNumNode: 1\n",
      "\t\t\t\t\\__ ConstantNumNode: 1\n",
      "\t\t\t\\__ ConstantNumNode: 1\n",
      "\t\\__VarDeclarationNode: let x = <expr>\n",
      "\t\t\\__ ConstantNumNode: 58\n",
      "\t\\__FuncDeclarationNode: def f(a, b) -> <expr>\n",
      "\t\t\\__<expr> PlusNode <expr>\n",
      "\t\t\t\\__ ConstantNumNode: 5\n",
      "\t\t\t\\__ ConstantNumNode: 6\n",
      "\t\\__PrintNode <expr>\n",
      "\t\t\\__CallNode: F(<expr>, ..., <expr>)\n",
      "\t\t\t\\__<expr> PlusNode <expr>\n",
      "\t\t\t\t\\__ ConstantNumNode: 5\n",
      "\t\t\t\t\\__ VariableNode: x\n",
      "\t\t\t\\__<expr> PlusNode <expr>\n",
      "\t\t\t\t\\__ ConstantNumNode: 7\n",
      "\t\t\t\t\\__ VariableNode: y\n"
     ]
    }
   ],
   "source": [
    "formatter = FormatVisitor()\n",
    "print(formatter.visit(ast))"
   ]
  },
  {
   "cell_type": "markdown",
   "metadata": {},
   "source": [
    "## Contexto\n",
    "\n",
    "Para chequear la semántica del lenguaje en cuestión, resulta necesario registrar qué variables han sido declaradas y qué métodos han sido definidos. Utilizaremos las siguientes clases como contenedores de la información \"relevante\" por ahora de las variables y métodos definidos. De las variables nos interesa su nombre y de las funciones su nombre y el de sus parámetros."
   ]
  },
  {
   "cell_type": "code",
   "execution_count": 45,
   "metadata": {},
   "outputs": [],
   "source": [
    "class VariableInfo:\n",
    "    def __init__(self, name):\n",
    "        self.name = name\n",
    "\n",
    "class FunctionInfo:\n",
    "    def __init__(self, name, params):\n",
    "        self.name = name\n",
    "        self.params = params"
   ]
  },
  {
   "cell_type": "markdown",
   "metadata": {},
   "source": [
    "Dado que la visibilidad de las variables depende del contexto, será necesario incluir un mecanismo para ocultar (1) variables definidas en ámbitos más profundos al actual, o (2) en ámbitos más hacia adelante que el actual. Para resolver lo primero, haremos que nuestra clase contexto, o ámbito, tenga una estructura jerárquica: cada nodo tiene un padre y potencialmente múltiples hijos. Para resolver lo segundo, será necesario marcar un índice al crear scopes hijos, el cual indique hasta qué sección del ambito padre deberían poder buscar (por ejemplo, no se deberían poder ver variables definidas en el padre más adelantes del momento en que se creó el scope hijo).\n",
    "\n",
    "Teniendo en cuenta estas restricciones, la búsqueda de un registro en el scope debería ocurrir como una búsqueda local en el scope en cuestión, pero continuada hacia el scope padre (y así consecutivamente) si no se encontró definición local."
   ]
  },
  {
   "cell_type": "code",
   "execution_count": 46,
   "metadata": {},
   "outputs": [],
   "source": [
    "import itertools as itl\n",
    "\n",
    "class Scope:\n",
    "    def __init__(self, parent=None):\n",
    "        self.local_vars: list[VariableInfo] = []\n",
    "        self.local_funcs: list[FunctionInfo] = []\n",
    "        self.parent = parent\n",
    "        self.children = []\n",
    "        self.var_index_at_parent = 0 if parent is None else len(parent.local_vars)\n",
    "        self.func_index_at_parent = 0 if parent is None else len(parent.local_funcs)\n",
    "        \n",
    "    def create_child_scope(self):\n",
    "        child_scope = Scope(self)\n",
    "        self.children.append(child_scope)\n",
    "        return child_scope\n",
    "\n",
    "    def define_variable(self, vname):\n",
    "        self.local_vars.append(VariableInfo(vname))\n",
    "    \n",
    "    def define_function(self, fname, params):\n",
    "        self.local_funcs.append(FunctionInfo(fname, params))\n",
    "\n",
    "    def is_var_defined(self, vname):\n",
    "        for var in self.local_vars:\n",
    "            if var.name == vname:\n",
    "                return True\n",
    "\n",
    "        if self.parent is None:\n",
    "            return False\n",
    "            \n",
    "        return self.parent.is_var_defined(vname)\n",
    "    \n",
    "    \n",
    "    def is_func_defined(self, fname, n):\n",
    "        for f in self.local_funcs:\n",
    "            if f.name == fname and f.params == n:\n",
    "                return True\n",
    "        \n",
    "        if self.parent is None:\n",
    "            return False\n",
    "\n",
    "        return self.parent.is_func_defined(fname, n)\n",
    "\n",
    "    def is_local_var(self, vname):\n",
    "        return self.get_local_variable_info(vname) is not None\n",
    "    \n",
    "    def is_local_func(self, fname, n):\n",
    "        return self.get_local_function_info(fname, n) is not None\n",
    "\n",
    "    def get_local_variable_info(self, vname):\n",
    "        var_info = None \n",
    "        for var in self.local_vars:\n",
    "            if var.name == vname:\n",
    "                var_info = var \n",
    "                break\n",
    "        \n",
    "        return var_info\n",
    "    \n",
    "    def get_local_function_info(self, fname, n):\n",
    "        func_info = None \n",
    "        for func in self.local_funcs:\n",
    "            if func.name == fname and func.params:\n",
    "                func_info = func \n",
    "                break\n",
    "        \n",
    "        return func_info\n",
    "    \n",
    "    \n",
    "scope = Scope()"
   ]
  },
  {
   "cell_type": "markdown",
   "metadata": {},
   "source": [
    "## Chequeo semántico\n",
    "\n",
    "Finalmente, implementemos un visitor para chequear las reglas semánticas del lenguaje discutidas a inicios de la clase práctica."
   ]
  },
  {
   "cell_type": "code",
   "execution_count": 47,
   "metadata": {},
   "outputs": [],
   "source": [
    "class SemanticCheckerVisitor(object):\n",
    "    def __init__(self):\n",
    "        self.errors = []\n",
    "    \n",
    "    @visitor.on('node')\n",
    "    def visit(self, node, scope):\n",
    "        pass\n",
    "    \n",
    "    @visitor.when(ProgramNode)\n",
    "    def visit(self, node, scope=None):\n",
    "        if scope is None:\n",
    "            scope = Scope()\n",
    "        else:\n",
    "            scope = Scope(parent=scope)\n",
    "        \n",
    "        for child in node.statements:\n",
    "            errors, new_scope = self.visit(child, scope)\n",
    "            if new_scope is not None:\n",
    "                scope = new_scope\n",
    "        \n",
    "        return self.errors\n",
    "    \n",
    "    @visitor.when(VarDeclarationNode)\n",
    "    def visit(self, node: VarDeclarationNode, scope: Scope):\n",
    "        if scope.is_var_defined(node.id):\n",
    "            self.errors.append(f'Variable {node.id} is used')\n",
    "        \n",
    "        scope.define_variable(node.id)\n",
    "        errors, _ = self.visit(node.expr, scope)\n",
    "        self.errors+=errors\n",
    "        return errors, scope\n",
    "        \n",
    "    \n",
    "    @visitor.when(FuncDeclarationNode)\n",
    "    def visit(self, node: FuncDeclarationNode, scope: Scope):\n",
    "        \n",
    "        if scope.is_func_defined(node.id, node.params):\n",
    "            self.errors.append(f'Function name {node.id} is used')\n",
    "\n",
    "        scope.define_function(node.id, node.params)\n",
    "        errors, _ = self.visit(node.body, scope)\n",
    "\n",
    "        return self.errors, None\n",
    "    \n",
    "    @visitor.when(PrintNode)\n",
    "    def visit(self, node: PrintNode, scope: Scope):\n",
    "        errors, _ = self.visit(node.expr, scope)\n",
    "        return '', None\n",
    "    \n",
    "    @visitor.when(ConstantNumNode)  \n",
    "    def visit(self, node: ConstantNumNode, scope: Scope):\n",
    "        if not node.lex.isnumeric():\n",
    "            self.errors.append(f'Value is not Numeric')\n",
    "        \n",
    "        return '', scope\n",
    "    \n",
    "    @visitor.when(VariableNode)\n",
    "    def visit(self, node: VariableNode, scope: Scope):\n",
    "        print('hey,', node.lex)\n",
    "        if not scope.is_var_defined(node.lex):\n",
    "            self.errors.append(f'Invalid variable {node.lex}')\n",
    "        return '', None\n",
    "    \n",
    "    @visitor.when(CallNode)\n",
    "    def visit(self, node: CallNode, scope: Scope):        \n",
    "        if not scope.is_local_func(node.lex, node.args) or len(node.args) != len(scope.get_local_function_info(node.lex, node.args)):\n",
    "            self.errors.append(f'Function {node.lex} is not defined with {len(node.args)} arguments')\n",
    "        \n",
    "        for child in node.args:\n",
    "            errors, new_scope = self.visit(child, scope)\n",
    "            \n",
    "            if new_scope is not None:\n",
    "                scope = new_scope\n",
    "        return self.errors, None\n",
    "\n",
    "    @visitor.when(BinaryNode)\n",
    "    def visit(self, node: BinaryNode, scope: Scope):\n",
    "        left_errors, left_scope = self.visit(node.left, scope)\n",
    "        right_errors, right_scope = self.visit(node.right, scope)\n",
    "        return [left_errors] + [right_errors], None"
   ]
  },
  {
   "cell_type": "markdown",
   "metadata": {},
   "source": [
    "### Chequeo\n",
    "\n",
    "Deberían detectarse como mínimo 2 errores:\n",
    "0. Function F is not defined with 2 arguments.\n",
    "1. Invalid variable: y."
   ]
  },
  {
   "cell_type": "code",
   "execution_count": 48,
   "metadata": {},
   "outputs": [
    {
     "name": "stdout",
     "output_type": "stream",
     "text": [
      "hey, x\n",
      "hey, y\n",
      "1. Function F is not defined with 2 arguments\n",
      "2. Invalid variable y\n"
     ]
    }
   ],
   "source": [
    "semantic_checker = SemanticCheckerVisitor()\n",
    "errors = semantic_checker.visit(ast)\n",
    "for i, error in enumerate(errors, 1):\n",
    "    print(f'{i}.', error)"
   ]
  },
  {
   "cell_type": "markdown",
   "metadata": {},
   "source": [
    "## Propuestas\n",
    "\n",
    "- Incluya línea y columna en los errores detectados.\n",
    "- Incluya el lexer.\n",
    "- Construya una clase que siga el patrón visitor para evaluar / ejecutar el programa."
   ]
  }
 ],
 "metadata": {
  "kernelspec": {
   "display_name": "Python 3.11.0 64-bit",
   "language": "python",
   "name": "python3"
  },
  "language_info": {
   "codemirror_mode": {
    "name": "ipython",
    "version": 3
   },
   "file_extension": ".py",
   "mimetype": "text/x-python",
   "name": "python",
   "nbconvert_exporter": "python",
   "pygments_lexer": "ipython3",
   "version": "3.11.0"
  },
  "vscode": {
   "interpreter": {
    "hash": "aee8b7b246df8f9039afb4144a1f6fd8d2ca17a180786b69acc140d282b71a49"
   }
  }
 },
 "nbformat": 4,
 "nbformat_minor": 2
}
